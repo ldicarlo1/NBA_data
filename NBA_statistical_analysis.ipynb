{
 "cells": [
  {
   "cell_type": "code",
   "execution_count": 4,
   "metadata": {},
   "outputs": [
    {
     "data": {
      "text/html": [
       "        <script type=\"text/javascript\">\n",
       "        window.PlotlyConfig = {MathJaxConfig: 'local'};\n",
       "        if (window.MathJax) {MathJax.Hub.Config({SVG: {font: \"STIX-Web\"}});}\n",
       "        if (typeof require !== 'undefined') {\n",
       "        require.undef(\"plotly\");\n",
       "        requirejs.config({\n",
       "            paths: {\n",
       "                'plotly': ['https://cdn.plot.ly/plotly-latest.min']\n",
       "            }\n",
       "        });\n",
       "        require(['plotly'], function(Plotly) {\n",
       "            window._Plotly = Plotly;\n",
       "        });\n",
       "        }\n",
       "        </script>\n",
       "        "
      ]
     },
     "metadata": {},
     "output_type": "display_data"
    }
   ],
   "source": [
    "#importing Pandas \n",
    "import pandas as pd\n",
    "#importing plotly and cufflinks in offline mode\n",
    "import cufflinks as cf\n",
    "import plotly.offline\n",
    "cf.go_offline()\n",
    "cf.set_config_file(offline=False, world_readable=True)\n",
    "import numpy as np"
   ]
  },
  {
   "cell_type": "code",
   "execution_count": 5,
   "metadata": {},
   "outputs": [
    {
     "data": {
      "text/html": [
       "<div>\n",
       "<style scoped>\n",
       "    .dataframe tbody tr th:only-of-type {\n",
       "        vertical-align: middle;\n",
       "    }\n",
       "\n",
       "    .dataframe tbody tr th {\n",
       "        vertical-align: top;\n",
       "    }\n",
       "\n",
       "    .dataframe thead th {\n",
       "        text-align: right;\n",
       "    }\n",
       "</style>\n",
       "<table border=\"1\" class=\"dataframe\">\n",
       "  <thead>\n",
       "    <tr style=\"text-align: right;\">\n",
       "      <th></th>\n",
       "      <th>Unnamed: 0</th>\n",
       "      <th>Player Name</th>\n",
       "      <th>Team</th>\n",
       "      <th>Position</th>\n",
       "      <th>2P %</th>\n",
       "      <th>2PA</th>\n",
       "      <th>3P %</th>\n",
       "      <th>3PA</th>\n",
       "      <th>Age</th>\n",
       "      <th>Assists %</th>\n",
       "      <th>...</th>\n",
       "      <th>Minutes %</th>\n",
       "      <th>PPG</th>\n",
       "      <th>RBG</th>\n",
       "      <th>Steals PG</th>\n",
       "      <th>TOPG</th>\n",
       "      <th>Total Rebound %</th>\n",
       "      <th>True Shooting %</th>\n",
       "      <th>Turnover Rate %</th>\n",
       "      <th>Usage Rate %</th>\n",
       "      <th>VI</th>\n",
       "    </tr>\n",
       "  </thead>\n",
       "  <tbody>\n",
       "    <tr>\n",
       "      <th>0</th>\n",
       "      <td>0</td>\n",
       "      <td>Steven Adams</td>\n",
       "      <td>Okc</td>\n",
       "      <td>C</td>\n",
       "      <td>0.593</td>\n",
       "      <td>440</td>\n",
       "      <td>0.333</td>\n",
       "      <td>3</td>\n",
       "      <td>26.64</td>\n",
       "      <td>13.5</td>\n",
       "      <td>...</td>\n",
       "      <td>56.2</td>\n",
       "      <td>10.9</td>\n",
       "      <td>9.4</td>\n",
       "      <td>0.86</td>\n",
       "      <td>1.50</td>\n",
       "      <td>19.3</td>\n",
       "      <td>0.605</td>\n",
       "      <td>14.3</td>\n",
       "      <td>17.2</td>\n",
       "      <td>9.3</td>\n",
       "    </tr>\n",
       "    <tr>\n",
       "      <th>1</th>\n",
       "      <td>1</td>\n",
       "      <td>Bam Adebayo</td>\n",
       "      <td>Mia</td>\n",
       "      <td>C-F</td>\n",
       "      <td>0.576</td>\n",
       "      <td>707</td>\n",
       "      <td>0.077</td>\n",
       "      <td>13</td>\n",
       "      <td>22.65</td>\n",
       "      <td>23.6</td>\n",
       "      <td>...</td>\n",
       "      <td>71.6</td>\n",
       "      <td>16.2</td>\n",
       "      <td>10.5</td>\n",
       "      <td>1.20</td>\n",
       "      <td>2.83</td>\n",
       "      <td>17.2</td>\n",
       "      <td>0.605</td>\n",
       "      <td>17.4</td>\n",
       "      <td>20.8</td>\n",
       "      <td>11.1</td>\n",
       "    </tr>\n",
       "    <tr>\n",
       "      <th>2</th>\n",
       "      <td>2</td>\n",
       "      <td>LaMarcus Aldridge</td>\n",
       "      <td>San</td>\n",
       "      <td>F-C</td>\n",
       "      <td>0.518</td>\n",
       "      <td>637</td>\n",
       "      <td>0.389</td>\n",
       "      <td>157</td>\n",
       "      <td>34.65</td>\n",
       "      <td>11.4</td>\n",
       "      <td>...</td>\n",
       "      <td>68.9</td>\n",
       "      <td>18.9</td>\n",
       "      <td>7.4</td>\n",
       "      <td>0.68</td>\n",
       "      <td>1.40</td>\n",
       "      <td>12.0</td>\n",
       "      <td>0.570</td>\n",
       "      <td>7.8</td>\n",
       "      <td>23.6</td>\n",
       "      <td>8.4</td>\n",
       "    </tr>\n",
       "    <tr>\n",
       "      <th>3</th>\n",
       "      <td>3</td>\n",
       "      <td>Nickeil Alexander-Walker</td>\n",
       "      <td>Nor</td>\n",
       "      <td>G</td>\n",
       "      <td>0.336</td>\n",
       "      <td>110</td>\n",
       "      <td>0.342</td>\n",
       "      <td>117</td>\n",
       "      <td>21.52</td>\n",
       "      <td>20.4</td>\n",
       "      <td>...</td>\n",
       "      <td>25.4</td>\n",
       "      <td>5.1</td>\n",
       "      <td>2.0</td>\n",
       "      <td>0.27</td>\n",
       "      <td>0.98</td>\n",
       "      <td>8.4</td>\n",
       "      <td>0.441</td>\n",
       "      <td>14.3</td>\n",
       "      <td>22.8</td>\n",
       "      <td>8.6</td>\n",
       "    </tr>\n",
       "    <tr>\n",
       "      <th>4</th>\n",
       "      <td>4</td>\n",
       "      <td>Grayson Allen</td>\n",
       "      <td>Mem</td>\n",
       "      <td>G</td>\n",
       "      <td>0.541</td>\n",
       "      <td>85</td>\n",
       "      <td>0.363</td>\n",
       "      <td>91</td>\n",
       "      <td>24.43</td>\n",
       "      <td>11.8</td>\n",
       "      <td>...</td>\n",
       "      <td>34.6</td>\n",
       "      <td>7.4</td>\n",
       "      <td>2.2</td>\n",
       "      <td>0.23</td>\n",
       "      <td>0.77</td>\n",
       "      <td>7.0</td>\n",
       "      <td>0.577</td>\n",
       "      <td>10.7</td>\n",
       "      <td>17.9</td>\n",
       "      <td>6.8</td>\n",
       "    </tr>\n",
       "  </tbody>\n",
       "</table>\n",
       "<p>5 rows × 27 columns</p>\n",
       "</div>"
      ],
      "text/plain": [
       "   Unnamed: 0               Player Name Team Position   2P %  2PA   3P %  3PA  \\\n",
       "0           0              Steven Adams  Okc        C  0.593  440  0.333    3   \n",
       "1           1               Bam Adebayo  Mia      C-F  0.576  707  0.077   13   \n",
       "2           2         LaMarcus Aldridge  San      F-C  0.518  637  0.389  157   \n",
       "3           3  Nickeil Alexander-Walker  Nor        G  0.336  110  0.342  117   \n",
       "4           4             Grayson Allen  Mem        G  0.541   85  0.363   91   \n",
       "\n",
       "     Age  Assists %  ...  Minutes %   PPG   RBG  Steals PG  TOPG  \\\n",
       "0  26.64       13.5  ...       56.2  10.9   9.4       0.86  1.50   \n",
       "1  22.65       23.6  ...       71.6  16.2  10.5       1.20  2.83   \n",
       "2  34.65       11.4  ...       68.9  18.9   7.4       0.68  1.40   \n",
       "3  21.52       20.4  ...       25.4   5.1   2.0       0.27  0.98   \n",
       "4  24.43       11.8  ...       34.6   7.4   2.2       0.23  0.77   \n",
       "\n",
       "   Total Rebound %  True Shooting %  Turnover Rate %  Usage Rate %    VI  \n",
       "0             19.3            0.605             14.3          17.2   9.3  \n",
       "1             17.2            0.605             17.4          20.8  11.1  \n",
       "2             12.0            0.570              7.8          23.6   8.4  \n",
       "3              8.4            0.441             14.3          22.8   8.6  \n",
       "4              7.0            0.577             10.7          17.9   6.8  \n",
       "\n",
       "[5 rows x 27 columns]"
      ]
     },
     "execution_count": 5,
     "metadata": {},
     "output_type": "execute_result"
    }
   ],
   "source": [
    "#load in our web-scraped CSV data\n",
    "df=pd.read_csv(\"nba_player_stats.csv\")\n",
    "df.head()"
   ]
  },
  {
   "cell_type": "code",
   "execution_count": 6,
   "metadata": {},
   "outputs": [
    {
     "data": {
      "text/html": [
       "<div>\n",
       "<style scoped>\n",
       "    .dataframe tbody tr th:only-of-type {\n",
       "        vertical-align: middle;\n",
       "    }\n",
       "\n",
       "    .dataframe tbody tr th {\n",
       "        vertical-align: top;\n",
       "    }\n",
       "\n",
       "    .dataframe thead th {\n",
       "        text-align: right;\n",
       "    }\n",
       "</style>\n",
       "<table border=\"1\" class=\"dataframe\">\n",
       "  <thead>\n",
       "    <tr style=\"text-align: right;\">\n",
       "      <th></th>\n",
       "      <th>Unnamed: 0</th>\n",
       "      <th>2P %</th>\n",
       "      <th>2PA</th>\n",
       "      <th>3P %</th>\n",
       "      <th>3PA</th>\n",
       "      <th>Age</th>\n",
       "      <th>Assists %</th>\n",
       "      <th>Assists PG</th>\n",
       "      <th>Blocks PG</th>\n",
       "      <th>Effective Shooting %</th>\n",
       "      <th>...</th>\n",
       "      <th>Minutes %</th>\n",
       "      <th>PPG</th>\n",
       "      <th>RBG</th>\n",
       "      <th>Steals PG</th>\n",
       "      <th>TOPG</th>\n",
       "      <th>Total Rebound %</th>\n",
       "      <th>True Shooting %</th>\n",
       "      <th>Turnover Rate %</th>\n",
       "      <th>Usage Rate %</th>\n",
       "      <th>VI</th>\n",
       "    </tr>\n",
       "  </thead>\n",
       "  <tbody>\n",
       "    <tr>\n",
       "      <th>count</th>\n",
       "      <td>568.000000</td>\n",
       "      <td>568.000000</td>\n",
       "      <td>568.000000</td>\n",
       "      <td>568.000000</td>\n",
       "      <td>568.000000</td>\n",
       "      <td>568.000000</td>\n",
       "      <td>568.000000</td>\n",
       "      <td>568.000000</td>\n",
       "      <td>568.000000</td>\n",
       "      <td>563.000000</td>\n",
       "      <td>...</td>\n",
       "      <td>568.000000</td>\n",
       "      <td>568.000000</td>\n",
       "      <td>568.000000</td>\n",
       "      <td>568.000000</td>\n",
       "      <td>568.000000</td>\n",
       "      <td>568.000000</td>\n",
       "      <td>563.000000</td>\n",
       "      <td>564.000000</td>\n",
       "      <td>568.000000</td>\n",
       "      <td>568.000000</td>\n",
       "    </tr>\n",
       "    <tr>\n",
       "      <th>mean</th>\n",
       "      <td>283.500000</td>\n",
       "      <td>0.488665</td>\n",
       "      <td>186.889085</td>\n",
       "      <td>0.287600</td>\n",
       "      <td>116.040493</td>\n",
       "      <td>26.249137</td>\n",
       "      <td>12.882042</td>\n",
       "      <td>1.864085</td>\n",
       "      <td>0.400053</td>\n",
       "      <td>0.495036</td>\n",
       "      <td>...</td>\n",
       "      <td>39.952465</td>\n",
       "      <td>8.477641</td>\n",
       "      <td>3.561972</td>\n",
       "      <td>0.610053</td>\n",
       "      <td>1.095599</td>\n",
       "      <td>10.012324</td>\n",
       "      <td>0.527096</td>\n",
       "      <td>13.073936</td>\n",
       "      <td>18.273592</td>\n",
       "      <td>6.658099</td>\n",
       "    </tr>\n",
       "    <tr>\n",
       "      <th>std</th>\n",
       "      <td>164.111751</td>\n",
       "      <td>0.159020</td>\n",
       "      <td>201.821966</td>\n",
       "      <td>0.157566</td>\n",
       "      <td>129.734528</td>\n",
       "      <td>4.031081</td>\n",
       "      <td>8.937352</td>\n",
       "      <td>1.770754</td>\n",
       "      <td>0.428694</td>\n",
       "      <td>0.135962</td>\n",
       "      <td>...</td>\n",
       "      <td>20.089723</td>\n",
       "      <td>6.514283</td>\n",
       "      <td>2.527150</td>\n",
       "      <td>0.419105</td>\n",
       "      <td>0.845641</td>\n",
       "      <td>5.151554</td>\n",
       "      <td>0.125613</td>\n",
       "      <td>7.940680</td>\n",
       "      <td>6.138016</td>\n",
       "      <td>2.637279</td>\n",
       "    </tr>\n",
       "    <tr>\n",
       "      <th>min</th>\n",
       "      <td>0.000000</td>\n",
       "      <td>0.000000</td>\n",
       "      <td>0.000000</td>\n",
       "      <td>0.000000</td>\n",
       "      <td>0.000000</td>\n",
       "      <td>19.220000</td>\n",
       "      <td>0.000000</td>\n",
       "      <td>0.000000</td>\n",
       "      <td>0.000000</td>\n",
       "      <td>0.000000</td>\n",
       "      <td>...</td>\n",
       "      <td>1.300000</td>\n",
       "      <td>0.000000</td>\n",
       "      <td>0.000000</td>\n",
       "      <td>0.000000</td>\n",
       "      <td>0.000000</td>\n",
       "      <td>0.000000</td>\n",
       "      <td>0.000000</td>\n",
       "      <td>0.000000</td>\n",
       "      <td>0.000000</td>\n",
       "      <td>0.000000</td>\n",
       "    </tr>\n",
       "    <tr>\n",
       "      <th>25%</th>\n",
       "      <td>141.750000</td>\n",
       "      <td>0.446750</td>\n",
       "      <td>29.750000</td>\n",
       "      <td>0.231000</td>\n",
       "      <td>10.000000</td>\n",
       "      <td>23.050000</td>\n",
       "      <td>7.075000</td>\n",
       "      <td>0.700000</td>\n",
       "      <td>0.130000</td>\n",
       "      <td>0.469000</td>\n",
       "      <td>...</td>\n",
       "      <td>23.975000</td>\n",
       "      <td>3.600000</td>\n",
       "      <td>1.800000</td>\n",
       "      <td>0.300000</td>\n",
       "      <td>0.500000</td>\n",
       "      <td>6.400000</td>\n",
       "      <td>0.500000</td>\n",
       "      <td>9.475000</td>\n",
       "      <td>14.500000</td>\n",
       "      <td>5.575000</td>\n",
       "    </tr>\n",
       "    <tr>\n",
       "      <th>50%</th>\n",
       "      <td>283.500000</td>\n",
       "      <td>0.504500</td>\n",
       "      <td>114.500000</td>\n",
       "      <td>0.333000</td>\n",
       "      <td>70.000000</td>\n",
       "      <td>25.690000</td>\n",
       "      <td>10.200000</td>\n",
       "      <td>1.300000</td>\n",
       "      <td>0.270000</td>\n",
       "      <td>0.517000</td>\n",
       "      <td>...</td>\n",
       "      <td>39.450000</td>\n",
       "      <td>6.800000</td>\n",
       "      <td>3.100000</td>\n",
       "      <td>0.560000</td>\n",
       "      <td>0.910000</td>\n",
       "      <td>9.000000</td>\n",
       "      <td>0.545000</td>\n",
       "      <td>12.400000</td>\n",
       "      <td>17.400000</td>\n",
       "      <td>6.800000</td>\n",
       "    </tr>\n",
       "    <tr>\n",
       "      <th>75%</th>\n",
       "      <td>425.250000</td>\n",
       "      <td>0.565000</td>\n",
       "      <td>278.000000</td>\n",
       "      <td>0.379000</td>\n",
       "      <td>187.250000</td>\n",
       "      <td>28.700000</td>\n",
       "      <td>17.325000</td>\n",
       "      <td>2.200000</td>\n",
       "      <td>0.510000</td>\n",
       "      <td>0.557500</td>\n",
       "      <td>...</td>\n",
       "      <td>57.825000</td>\n",
       "      <td>12.000000</td>\n",
       "      <td>4.700000</td>\n",
       "      <td>0.862500</td>\n",
       "      <td>1.455000</td>\n",
       "      <td>12.400000</td>\n",
       "      <td>0.589000</td>\n",
       "      <td>15.100000</td>\n",
       "      <td>21.400000</td>\n",
       "      <td>8.200000</td>\n",
       "    </tr>\n",
       "    <tr>\n",
       "      <th>max</th>\n",
       "      <td>567.000000</td>\n",
       "      <td>1.000000</td>\n",
       "      <td>998.000000</td>\n",
       "      <td>1.000000</td>\n",
       "      <td>769.000000</td>\n",
       "      <td>43.120000</td>\n",
       "      <td>49.700000</td>\n",
       "      <td>10.600000</td>\n",
       "      <td>3.070000</td>\n",
       "      <td>1.167000</td>\n",
       "      <td>...</td>\n",
       "      <td>76.900000</td>\n",
       "      <td>34.400000</td>\n",
       "      <td>15.800000</td>\n",
       "      <td>2.150000</td>\n",
       "      <td>4.800000</td>\n",
       "      <td>39.700000</td>\n",
       "      <td>1.031000</td>\n",
       "      <td>100.000000</td>\n",
       "      <td>62.100000</td>\n",
       "      <td>17.200000</td>\n",
       "    </tr>\n",
       "  </tbody>\n",
       "</table>\n",
       "<p>8 rows × 24 columns</p>\n",
       "</div>"
      ],
      "text/plain": [
       "       Unnamed: 0        2P %         2PA        3P %         3PA         Age  \\\n",
       "count  568.000000  568.000000  568.000000  568.000000  568.000000  568.000000   \n",
       "mean   283.500000    0.488665  186.889085    0.287600  116.040493   26.249137   \n",
       "std    164.111751    0.159020  201.821966    0.157566  129.734528    4.031081   \n",
       "min      0.000000    0.000000    0.000000    0.000000    0.000000   19.220000   \n",
       "25%    141.750000    0.446750   29.750000    0.231000   10.000000   23.050000   \n",
       "50%    283.500000    0.504500  114.500000    0.333000   70.000000   25.690000   \n",
       "75%    425.250000    0.565000  278.000000    0.379000  187.250000   28.700000   \n",
       "max    567.000000    1.000000  998.000000    1.000000  769.000000   43.120000   \n",
       "\n",
       "        Assists %  Assists PG   Blocks PG  Effective Shooting %  ...  \\\n",
       "count  568.000000  568.000000  568.000000            563.000000  ...   \n",
       "mean    12.882042    1.864085    0.400053              0.495036  ...   \n",
       "std      8.937352    1.770754    0.428694              0.135962  ...   \n",
       "min      0.000000    0.000000    0.000000              0.000000  ...   \n",
       "25%      7.075000    0.700000    0.130000              0.469000  ...   \n",
       "50%     10.200000    1.300000    0.270000              0.517000  ...   \n",
       "75%     17.325000    2.200000    0.510000              0.557500  ...   \n",
       "max     49.700000   10.600000    3.070000              1.167000  ...   \n",
       "\n",
       "        Minutes %         PPG         RBG   Steals PG        TOPG  \\\n",
       "count  568.000000  568.000000  568.000000  568.000000  568.000000   \n",
       "mean    39.952465    8.477641    3.561972    0.610053    1.095599   \n",
       "std     20.089723    6.514283    2.527150    0.419105    0.845641   \n",
       "min      1.300000    0.000000    0.000000    0.000000    0.000000   \n",
       "25%     23.975000    3.600000    1.800000    0.300000    0.500000   \n",
       "50%     39.450000    6.800000    3.100000    0.560000    0.910000   \n",
       "75%     57.825000   12.000000    4.700000    0.862500    1.455000   \n",
       "max     76.900000   34.400000   15.800000    2.150000    4.800000   \n",
       "\n",
       "       Total Rebound %  True Shooting %  Turnover Rate %  Usage Rate %  \\\n",
       "count       568.000000       563.000000       564.000000    568.000000   \n",
       "mean         10.012324         0.527096        13.073936     18.273592   \n",
       "std           5.151554         0.125613         7.940680      6.138016   \n",
       "min           0.000000         0.000000         0.000000      0.000000   \n",
       "25%           6.400000         0.500000         9.475000     14.500000   \n",
       "50%           9.000000         0.545000        12.400000     17.400000   \n",
       "75%          12.400000         0.589000        15.100000     21.400000   \n",
       "max          39.700000         1.031000       100.000000     62.100000   \n",
       "\n",
       "               VI  \n",
       "count  568.000000  \n",
       "mean     6.658099  \n",
       "std      2.637279  \n",
       "min      0.000000  \n",
       "25%      5.575000  \n",
       "50%      6.800000  \n",
       "75%      8.200000  \n",
       "max     17.200000  \n",
       "\n",
       "[8 rows x 24 columns]"
      ]
     },
     "execution_count": 6,
     "metadata": {},
     "output_type": "execute_result"
    }
   ],
   "source": [
    "df.describe()"
   ]
  },
  {
   "cell_type": "markdown",
   "metadata": {},
   "source": [
    "The above gives us a general breakdown of the statistics of the NBA.\n",
    "\n",
    "We want to have a look at the statistical leaders of the NBA in 3-point shooting, rebounding, and scoring efficiency.\n",
    "To do so we will first have a look at 3-point shooting."
   ]
  },
  {
   "cell_type": "code",
   "execution_count": 7,
   "metadata": {},
   "outputs": [],
   "source": [
    "#Remove player positions that are equal to 0.\n",
    "df['Position'] = df['Position'].replace('0','Unknown')"
   ]
  },
  {
   "cell_type": "code",
   "execution_count": 60,
   "metadata": {},
   "outputs": [
    {
     "data": {
      "text/html": [
       "<div>\n",
       "<style scoped>\n",
       "    .dataframe tbody tr th:only-of-type {\n",
       "        vertical-align: middle;\n",
       "    }\n",
       "\n",
       "    .dataframe tbody tr th {\n",
       "        vertical-align: top;\n",
       "    }\n",
       "\n",
       "    .dataframe thead th {\n",
       "        text-align: right;\n",
       "    }\n",
       "</style>\n",
       "<table border=\"1\" class=\"dataframe\">\n",
       "  <thead>\n",
       "    <tr style=\"text-align: right;\">\n",
       "      <th></th>\n",
       "      <th>Player Name</th>\n",
       "      <th>3P %</th>\n",
       "      <th>Position</th>\n",
       "    </tr>\n",
       "  </thead>\n",
       "  <tbody>\n",
       "    <tr>\n",
       "      <th>64</th>\n",
       "      <td>Tony Bradley</td>\n",
       "      <td>1.000</td>\n",
       "      <td>C-F</td>\n",
       "    </tr>\n",
       "    <tr>\n",
       "      <th>527</th>\n",
       "      <td>Noah Vonleh</td>\n",
       "      <td>1.000</td>\n",
       "      <td>F</td>\n",
       "    </tr>\n",
       "    <tr>\n",
       "      <th>386</th>\n",
       "      <td>Johnathan Motley</td>\n",
       "      <td>1.000</td>\n",
       "      <td>F</td>\n",
       "    </tr>\n",
       "    <tr>\n",
       "      <th>164</th>\n",
       "      <td>Drew Eubanks</td>\n",
       "      <td>1.000</td>\n",
       "      <td>F-C</td>\n",
       "    </tr>\n",
       "    <tr>\n",
       "      <th>41</th>\n",
       "      <td>Jordan Bell</td>\n",
       "      <td>0.667</td>\n",
       "      <td>F</td>\n",
       "    </tr>\n",
       "  </tbody>\n",
       "</table>\n",
       "</div>"
      ],
      "text/plain": [
       "          Player Name   3P % Position\n",
       "64       Tony Bradley  1.000      C-F\n",
       "527       Noah Vonleh  1.000        F\n",
       "386  Johnathan Motley  1.000        F\n",
       "164      Drew Eubanks  1.000      F-C\n",
       "41        Jordan Bell  0.667        F"
      ]
     },
     "execution_count": 60,
     "metadata": {},
     "output_type": "execute_result"
    }
   ],
   "source": [
    "#print the highest 3-point shooting percentage in the NBA.\n",
    "df[['Player Name','3P %','Position']].sort_values('3P %',ascending=False).head()\n"
   ]
  },
  {
   "cell_type": "markdown",
   "metadata": {},
   "source": [
    "The above does not make sense given that how could the best 3-point shooter in the NBA be a center? Proper sample size is why (if a center takes 2 3-pointers but makes both of them he has a 1.00 3P %). Therefore we need to not only look at 3P % but also the amount of 3-point attempts that are taken by each player. \n",
    "\n",
    "\n",
    "Below we have created a graph that has a look at 3-point % in comparison with total 3-point attempts."
   ]
  },
  {
   "cell_type": "code",
   "execution_count": 77,
   "metadata": {},
   "outputs": [
    {
     "data": {
      "application/vnd.plotly.v1+json": {
       "config": {
        "linkText": "Export to plot.ly",
        "plotlyServerURL": "https://plot.ly",
        "showLink": true
       },
       "data": [
        {
         "marker": {
          "color": "rgba(255, 153, 51, 1.0)",
          "line": {
           "width": 1.3
          },
          "opacity": 0.8,
          "size": 12,
          "symbol": "circle"
         },
         "mode": "markers",
         "name": "C",
         "text": [
          "Steven Adams",
          "Jarrett Allen",
          "Deandre Ayton",
          "Mo Bamba",
          "Khem Birch",
          "Bismack Biyombo",
          "Marques Bolden",
          "Moses Brown",
          "Clint Capela",
          "Willie Cauley-Stein",
          "Willie Cauley-Stein",
          "Tyson Chandler",
          "Dewayne Dedmon",
          "Dewayne Dedmon",
          "Gorgui Dieng",
          "Gorgui Dieng",
          "Andre Drummond",
          "Andre Drummond",
          "Tacko Fall",
          "Marc Gasol",
          "Rudy Gobert",
          "Nikola Jokic",
          "Damian Jones",
          "DeAndre Jordan",
          "Enes Kanter",
          "Alex Len",
          "Alex Len",
          "Meyers Leonard",
          "Brook Lopez",
          "Robin Lopez",
          "Ian Mahinmi",
          "Boban Marjanovic",
          "Eric Mika",
          "Kelly Olynyk",
          "Anzejs Pasecniks",
          "Justin Patton",
          "Jakob Poeltl",
          "Jonas Valanciunas",
          "Nikola Vucevic",
          "Hassan Whiteside",
          "Cody Zeller"
         ],
         "textfont": {
          "color": "#4D5663"
         },
         "type": "scatter",
         "x": [
          0.33299999999999996,
          0,
          0,
          0.35600000000000004,
          0,
          0,
          0,
          0,
          0,
          0,
          0,
          0,
          0.19699999999999998,
          0.222,
          0.38299999999999995,
          0.22699999999999998,
          0.048,
          0.28600000000000003,
          0,
          0.402,
          0,
          0.314,
          0.222,
          0,
          0.14300000000000002,
          0.25,
          0,
          0.429,
          0.29600000000000004,
          0.344,
          0.192,
          0.267,
          0,
          0.43200000000000005,
          0,
          0.25,
          0,
          0.36700000000000005,
          0.32899999999999996,
          0.5710000000000001,
          0.24
         ],
         "y": [
          3,
          5,
          3,
          104,
          1,
          0,
          0,
          0,
          0,
          0,
          1,
          0,
          71,
          36,
          120,
          22,
          21,
          14,
          0,
          127,
          0,
          226,
          9,
          0,
          7,
          56,
          0,
          119,
          284,
          96,
          26,
          15,
          0,
          185,
          2,
          4,
          0,
          79,
          249,
          7,
          75
         ]
        },
        {
         "marker": {
          "color": "rgba(55, 128, 191, 1.0)",
          "line": {
           "width": 1.3
          },
          "opacity": 0.8,
          "size": 12,
          "symbol": "circle"
         },
         "mode": "markers",
         "name": "C-F",
         "text": [
          "Bam Adebayo",
          "Aron Baynes",
          "Goga Bitadze",
          "Tony Bradley",
          "Thomas Bryant",
          "Wendell Carter Jr.",
          "Joel Embiid",
          "Isaiah Hartenstein",
          "Jaxson Hayes",
          "Dewan Hernandez",
          "Willy Hernangomez",
          "Al Horford",
          "Dwight Howard",
          "Luke Kornet",
          "JaVale McGee",
          "Nerlens Noel",
          "Jahlil Okafor",
          "Kyle O'Quinn",
          "Vincent Poirier",
          "Julius Randle",
          "Naz Reid",
          "Mitchell Robinson",
          "Tristan Thompson",
          "Karl-Anthony Towns",
          "Myles Turner",
          "Robert Williams III"
         ],
         "textfont": {
          "color": "#4D5663"
         },
         "type": "scatter",
         "x": [
          0.077,
          0.35100000000000003,
          0.16699999999999998,
          1,
          0.40700000000000003,
          0.207,
          0.348,
          0,
          0.25,
          0,
          0.22699999999999998,
          0.337,
          0.6,
          0.287,
          0.5,
          0.33299999999999996,
          0.5,
          0.304,
          0.5,
          0.27699999999999997,
          0.33,
          0,
          0.391,
          0.41200000000000003,
          0.336,
          0
         ],
         "y": [
          13,
          168,
          36,
          1,
          54,
          29,
          161,
          5,
          4,
          1,
          22,
          264,
          5,
          108,
          6,
          3,
          2,
          23,
          2,
          231,
          97,
          0,
          23,
          277,
          229,
          0
         ]
        },
        {
         "marker": {
          "color": "rgba(50, 171, 96, 1.0)",
          "line": {
           "width": 1.3
          },
          "opacity": 0.8,
          "size": 12,
          "symbol": "circle"
         },
         "mode": "markers",
         "name": "F-C",
         "text": [
          "LaMarcus Aldridge",
          "Chris Boucher",
          "Nicolas Claxton",
          "Zach Collins",
          "Anthony Davis",
          "Cheick Diallo",
          "Henry Ellenson",
          "Drew Eubanks",
          "Cristiano Felicio",
          "Bruno Fernando",
          "Daniel Gafford",
          "Harry Giles III",
          "JaMychal Green",
          "Montrezl Harrell",
          "John Henson",
          "John Henson",
          "Jaren Jackson Jr.",
          "Mfiondu Kabengele",
          "Frank Kaminsky",
          "Skal Labissiere",
          "Thon Maker",
          "Lauri Markkanen",
          "Jalen McDaniels",
          "Chimezie Metu",
          "Mike Muscala",
          "Larry Nance Jr.",
          "Mason Plumlee",
          "Kristaps Porzingis",
          "Dwight Powell",
          "Domantas Sabonis",
          "Dean Wade",
          "Moritz Wagner",
          "D.J. Wilson"
         ],
         "textfont": {
          "color": "#4D5663"
         },
         "type": "scatter",
         "x": [
          0.389,
          0.28300000000000003,
          0.14300000000000002,
          0.429,
          0.335,
          0.5,
          0,
          1,
          0,
          0.135,
          0,
          0,
          0.363,
          0,
          0.19399999999999998,
          0.4,
          0.397,
          0.45,
          0.348,
          0.231,
          0.344,
          0.344,
          0.375,
          0,
          0.358,
          0.35200000000000004,
          0,
          0.349,
          0.256,
          0.254,
          0.5,
          0.34299999999999997,
          0.255
         ],
         "y": [
          157,
          99,
          7,
          7,
          194,
          2,
          4,
          1,
          2,
          37,
          0,
          0,
          204,
          18,
          31,
          5,
          340,
          20,
          112,
          13,
          64,
          317,
          24,
          1,
          120,
          159,
          4,
          361,
          39,
          67,
          4,
          67,
          55
         ]
        },
        {
         "marker": {
          "color": "rgba(128, 0, 128, 1.0)",
          "line": {
           "width": 1.3
          },
          "opacity": 0.8,
          "size": 12,
          "symbol": "circle"
         },
         "mode": "markers",
         "name": "G",
         "text": [
          "Nickeil Alexander-Walker",
          "Grayson Allen",
          "Kadeem Allen",
          "Ryan Arcidiacono",
          "D.J. Augustin",
          "Lonzo Ball",
          "J.J. Barea",
          "Will Barton",
          "Bradley Beal",
          "Malik Beasley",
          "Malik Beasley",
          "Marco Belinelli",
          "Patrick Beverley",
          "Eric Bledsoe",
          "Bogdan Bogdanovic",
          "Jordan Bone",
          "Isaac Bonga",
          "Devin Booker",
          "Ky Bowman",
          "Avery Bradley",
          "Malcolm Brogdon",
          "Charles Brown Jr.",
          "Jalen Brunson",
          "Trey Burke",
          "Alec Burks",
          "Alec Burks",
          "Kentavious Caldwell-Pope",
          "Jevon Carter",
          "Michael Carter-Williams",
          "Alex Caruso",
          "Joe Chealey",
          "Chris Chiozza",
          "Chris Chiozza",
          "Jordan Clarkson",
          "Jordan Clarkson",
          "Chris Clemons",
          "Antonius Cleveland",
          "Mike Conley",
          "Pat Connaughton",
          "Quinn Cook",
          "Seth Curry",
          "Stephen Curry",
          "Troy Daniels",
          "Terence Davis",
          "Matthew Dellavedova",
          "Hamidou Diallo",
          "Spencer Dinwiddie",
          "Donte DiVincenzo",
          "Luguentz Dort",
          "Damyean Dotson",
          "Goran Dragic",
          "Kris Dunn",
          "Carsen Edwards",
          "Wayne Ellington",
          "Dante Exum",
          "Dante Exum",
          "Terrance Ferguson",
          "Yogi Ferrell",
          "Bryn Forbes",
          "De'Aaron Fox",
          "Michael Frazier",
          "Tim Frazier",
          "Markelle Fultz",
          "Langston Galloway",
          "Darius Garland",
          "Brandon Goodwin",
          "Eric Gordon",
          "Devonte' Graham",
          "Josh Gray",
          "Danny Green",
          "Marko Guduric",
          "Kyle Guy",
          "Devon Hall",
          "Dusty Hannahs",
          "Tim Hardaway Jr.",
          "James Harden",
          "Jared Harper",
          "Gary Harris",
          "Shaquille Harrison",
          "Josh Hart",
          "Tyler Herro",
          "Buddy Hield",
          "George Hill",
          "Aaron Holiday",
          "Jrue Holiday",
          "Talen Horton-Tucker",
          "Kyrie Irving",
          "Frank Jackson",
          "Reggie Jackson",
          "Reggie Jackson",
          "Tyler Johnson",
          "Tyus Jones",
          "Cory Joseph",
          "Luke Kennard",
          "Brandon Knight",
          "Brandon Knight",
          "John Konchar",
          "Jalen Lecque",
          "Courtney Lee",
          "Caris LeVert",
          "Damian Lillard",
          "Kyle Lowry",
          "Daryl Macon",
          "J.P. Macura",
          "Josh Magette",
          "Jeremiah Martin",
          "Frank Mason",
          "Garrison Mathews",
          "Wesley Matthews",
          "Patrick McCaw",
          "CJ McCollum",
          "T.J. McConnell",
          "Rodney McGruder",
          "Jordan McLaughlin",
          "Ben McLemore",
          "Jordan McRae",
          "Jordan McRae",
          "Jordan McRae",
          "De'Anthony Melton",
          "CJ Miles",
          "Patty Mills",
          "Donovan Mitchell",
          "Naz Mitrou-Long",
          "Adam Mokoka",
          "Malik Monk",
          "Matt Mooney",
          "E'Twaun Moore",
          "Ja Morant",
          "Monte Morris",
          "Emmanuel Mudiay",
          "Mychal Mulder",
          "Dejounte Murray",
          "Jamal Murray",
          "Shabazz Napier",
          "Shabazz Napier",
          "Raul Neto",
          "Malik Newman",
          "Jaylen Nowell",
          "Frank Ntilikina",
          "Kendrick Nunn",
          "Josh Okogie",
          "Victor Oladipo",
          "Jeremy Pargo",
          "Chris Paul",
          "Gary Payton II",
          "Elfrid Payton",
          "Shamorie Ponds",
          "Jordan Poole",
          "Norman Powell",
          "Chasson Randle",
          "JJ Redick",
          "Josh Richardson",
          "Austin Rivers",
          "Jerome Robinson",
          "Jerome Robinson",
          "Justin Robinson",
          "Rajon Rondo",
          "Derrick Rose",
          "Terry Rozier",
          "Ricky Rubio",
          "D'Angelo Russell",
          "D'Angelo Russell",
          "Tomas Satoransky",
          "Dennis Schroder",
          "Collin Sexton",
          "Landry Shamet",
          "Iman Shumpert",
          "Anfernee Simons",
          "Marcus Smart",
          "Dennis Smith Jr.",
          "Ish Smith",
          "Zhaire Smith",
          "Tony Snell",
          "Edmond Sumner",
          "Jeff Teague",
          "Jeff Teague",
          "Isaiah Thomas",
          "Khyri Thomas",
          "Matt Thomas",
          "Allonzo Trier",
          "Rayjon Tucker",
          "Denzel Valentine",
          "Fred VanVleet",
          "Gabe Vincent",
          "Dion Waiters",
          "Kemba Walker",
          "Tyrone Wallace",
          "Derrick Walton Jr.",
          "Derrick Walton Jr.",
          "Brad Wanamaker",
          "Tremont Waters",
          "Paul Watson",
          "Paul Watson",
          "Quinndary Weatherspoon",
          "Russell Westbrook",
          "Coby White",
          "Derrick White",
          "Nigel Williams-Goss",
          "Lou Williams",
          "Delon Wright",
          "Justin Wright-Foreman",
          "Trae Young"
         ],
         "textfont": {
          "color": "#4D5663"
         },
         "type": "scatter",
         "x": [
          0.342,
          0.363,
          0.313,
          0.391,
          0.345,
          0.38299999999999995,
          0.382,
          0.375,
          0.353,
          0.36,
          0.426,
          0.368,
          0.379,
          0.348,
          0.361,
          0.2,
          0.4,
          0.36,
          0.308,
          0.364,
          0.313,
          0.33299999999999996,
          0.358,
          0.42100000000000004,
          0.375,
          0.327,
          0.39399999999999996,
          0.39299999999999996,
          0.294,
          0.355,
          0,
          0.43799999999999994,
          0.44,
          0.371,
          0.366,
          0.35100000000000003,
          0,
          0.376,
          0.321,
          0.379,
          0.45299999999999996,
          0.245,
          0.35700000000000004,
          0.396,
          0.231,
          0.2,
          0.308,
          0.344,
          0.301,
          0.36200000000000004,
          0.377,
          0.259,
          0.309,
          0.35,
          0.33299999999999996,
          0.35100000000000003,
          0.297,
          0.275,
          0.38799999999999996,
          0.307,
          0.25,
          0.33299999999999996,
          0.254,
          0.39899999999999997,
          0.355,
          0.299,
          0.319,
          0.373,
          0,
          0.37799999999999995,
          0.309,
          0,
          0,
          0.667,
          0.40700000000000003,
          0.35200000000000004,
          0,
          0.33299999999999996,
          0.381,
          0.342,
          0.391,
          0.395,
          0.48,
          0.39399999999999996,
          0.35700000000000004,
          0,
          0.39399999999999996,
          0.325,
          0.37799999999999995,
          0.452,
          0.289,
          0.379,
          0.35100000000000003,
          0.39899999999999997,
          0.297,
          0.38799999999999996,
          0.444,
          0,
          0.447,
          0.381,
          0.39399999999999996,
          0.354,
          0.5,
          0,
          0.25,
          0,
          0.2,
          0.413,
          0.365,
          0.324,
          0.38,
          0.33299999999999996,
          0.278,
          0.382,
          0.395,
          0.377,
          0.5,
          0.188,
          0.316,
          0.314,
          0.38,
          0.364,
          0.182,
          0.4,
          0.284,
          0,
          0.375,
          0.36700000000000005,
          0.375,
          0.355,
          0.308,
          0.37799999999999995,
          0.345,
          0.29600000000000004,
          0.381,
          0.39399999999999996,
          0,
          0.115,
          0.321,
          0.36200000000000004,
          0.266,
          0.304,
          0.429,
          0.36200000000000004,
          0.28300000000000003,
          0.203,
          0.5,
          0.27899999999999997,
          0.39799999999999996,
          0,
          0.452,
          0.327,
          0.358,
          0.284,
          0.324,
          0.6,
          0.32799999999999996,
          0.306,
          0.405,
          0.35100000000000003,
          0.374,
          0.345,
          0.322,
          0.381,
          0.38,
          0.392,
          0.242,
          0.33799999999999997,
          0.348,
          0.29600000000000004,
          0.36700000000000005,
          0,
          0.402,
          0.263,
          0.379,
          0.33299999999999996,
          0.413,
          0.35700000000000004,
          0.467,
          0.358,
          0,
          0.336,
          0.38799999999999996,
          0.25,
          0.47100000000000003,
          0.377,
          0.067,
          0.429,
          0.33299999999999996,
          0.36700000000000005,
          0.17600000000000002,
          0,
          0,
          0,
          0.254,
          0.354,
          0.35600000000000004,
          0,
          0.363,
          0.381,
          0,
          0.361
         ],
         "y": [
          117,
          91,
          16,
          138,
          174,
          363,
          76,
          288,
          481,
          161,
          115,
          155,
          198,
          201,
          380,
          10,
          55,
          350,
          107,
          173,
          195,
          9,
          120,
          38,
          224,
          49,
          221,
          117,
          68,
          107,
          4,
          16,
          25,
          159,
          194,
          94,
          1,
          213,
          137,
          66,
          300,
          49,
          112,
          222,
          91,
          35,
          400,
          221,
          73,
          163,
          313,
          112,
          68,
          143,
          6,
          37,
          155,
          69,
          381,
          153,
          8,
          30,
          118,
          331,
          296,
          87,
          288,
          585,
          0,
          299,
          81,
          1,
          2,
          3,
          455,
          769,
          2,
          210,
          42,
          325,
          253,
          618,
          152,
          203,
          322,
          1,
          142,
          120,
          82,
          31,
          83,
          124,
          134,
          183,
          64,
          67,
          9,
          4,
          47,
          189,
          573,
          432,
          2,
          0,
          4,
          1,
          10,
          46,
          277,
          71,
          458,
          15,
          79,
          76,
          390,
          106,
          4,
          16,
          117,
          35,
          389,
          428,
          11,
          15,
          204,
          2,
          160,
          139,
          144,
          76,
          52,
          90,
          304,
          159,
          63,
          71,
          1,
          26,
          137,
          362,
          154,
          69,
          7,
          279,
          46,
          69,
          2,
          265,
          236,
          2,
          345,
          214,
          232,
          67,
          37,
          5,
          125,
          147,
          425,
          188,
          321,
          110,
          199,
          320,
          255,
          268,
          33,
          219,
          368,
          54,
          150,
          3,
          254,
          38,
          87,
          30,
          189,
          14,
          75,
          53,
          6,
          137,
          338,
          16,
          17,
          438,
          15,
          21,
          3,
          90,
          17,
          3,
          1,
          1,
          201,
          376,
          160,
          2,
          295,
          118,
          0,
          568
         ]
        },
        {
         "marker": {
          "color": "rgba(219, 64, 82, 1.0)",
          "line": {
           "width": 1.3
          },
          "opacity": 0.8,
          "size": 12,
          "symbol": "circle"
         },
         "mode": "markers",
         "name": "F",
         "text": [
          "Al-Farouq Aminu",
          "Ryan Anderson",
          "Giannis Antetokounmpo",
          "Kostas Antetokounmpo",
          "Thanasis Antetokounmpo",
          "Carmelo Anthony",
          "OG Anunoby",
          "Trevor Ariza",
          "Trevor Ariza",
          "Marvin Bagley III",
          "Harrison Barnes",
          "Keita Bates-Diop",
          "Keita Bates-Diop",
          "Jordan Bell",
          "Jordan Bell",
          "Dragan Bender",
          "Dragan Bender",
          "Davis Bertans",
          "Nemanja Bjelica",
          "Bojan Bogdanovic",
          "Jonah Bolden",
          "Jonah Bolden",
          "Jarrell Brantley",
          "Ignas Brazdeikis",
          "Miles Bridges",
          "Mikal Bridges",
          "Jimmy Butler",
          "Bruno Caboclo",
          "Bruno Caboclo",
          "Vlatko Cancar",
          "DeMarre Carroll",
          "DeMarre Carroll",
          "Wilson Chandler",
          "Zylan Cheatham",
          "Marquese Chriss",
          "Gary Clark",
          "Gary Clark",
          "John Collins",
          "Tyler Cook",
          "Robert Covington",
          "Robert Covington",
          "Torrey Craig",
          "Jae Crowder",
          "Jae Crowder",
          "Troy Daniels",
          "Ed Davis",
          "DeMar DeRozan",
          "Sekou Doumbouya",
          "Jared Dudley",
          "James Ennis III",
          "James Ennis III",
          "Derrick Favors",
          "Dorian Finney-Smith",
          "Wenyen Gabriel",
          "Wenyen Gabriel",
          "Danilo Gallinari",
          "Paul George",
          "Taj Gibson",
          "Aaron Gordon",
          "Jerami Grant",
          "Draymond Green",
          "Jeff Green",
          "Jeff Green",
          "Blake Griffin",
          "Rui Hachimura",
          "Donta Hall",
          "Tobias Harris",
          "Udonis Haslem",
          "Gordon Hayward",
          "Juancho Hernangomez",
          "Juancho Hernangomez",
          "Kevin Hervey",
          "Solomon Hill",
          "Solomon Hill",
          "Jaylen Hoard",
          "Rondae Hollis-Jefferson",
          "Richaun Holmes",
          "Serge Ibaka",
          "Ersan Ilyasova",
          "Brandon Ingram",
          "Jonathan Isaac",
          "Wes Iwundu",
          "Justin Jackson",
          "LeBron James",
          "Amile Jefferson",
          "Alize Johnson",
          "BJ Johnson",
          "Cameron Johnson",
          "James Johnson",
          "James Johnson",
          "Derrick Jones Jr.",
          "Michael Kidd-Gilchrist",
          "Michael Kidd-Gilchrist",
          "Stanton Kidd",
          "Louis King",
          "Maxi Kleber",
          "Kevin Knox II",
          "Rodions Kurucs",
          "Kyle Kuzma",
          "Vic Law",
          "Jake Layman",
          "TJ Leaf",
          "Kawhi Leonard",
          "Kevon Looney",
          "Kevin Love",
          "Trey Lyles",
          "Caleb Martin",
          "Cody Martin",
          "Kelan Martin",
          "Doug McDermott",
          "Alfonzo McKinnie",
          "Khris Middleton",
          "Paul Millsap",
          "Juwan Morgan",
          "Marcus Morris Sr.",
          "Marcus Morris Sr.",
          "Markieff Morris",
          "Markieff Morris",
          "Johnathan Motley",
          "Abdel Nader",
          "Georges Niang",
          "Semi Ojeleye",
          "Royce O'Neale",
          "Cedi Osman",
          "Tariq Owens",
          "Jabari Parker",
          "Jabari Parker",
          "Chandler Parsons",
          "Eric Paschall",
          "Patrick Patterson",
          "Norvel Pelle",
          "Michael Porter Jr.",
          "Otto Porter Jr.",
          "Bobby Portis",
          "Taurean Prince",
          "Glenn Robinson III",
          "Glenn Robinson III",
          "Duncan Robinson",
          "Isaiah Roby",
          "Luka Samanic",
          "JaKarr Sampson",
          "Dario Saric",
          "Mike Scott",
          "Pascal Siakam",
          "Chris Silva",
          "Ben Simmons",
          "Alen Smailagic",
          "Omari Spellman",
          "Caleb Swanigan",
          "Caleb Swanigan",
          "Daniel Theis",
          "Anthony Tolliver",
          "Anthony Tolliver",
          "Anthony Tolliver",
          "Juan Toscano-Anderson",
          "P.J. Tucker",
          "Jarrod Uthoff",
          "Jarred Vanderbilt",
          "Jarred Vanderbilt",
          "Noah Vonleh",
          "Noah Vonleh",
          "T.J. Warren",
          "P.J. Washington",
          "Andrew Wiggins",
          "Andrew Wiggins",
          "Grant Williams",
          "Johnathan Williams",
          "Marvin Williams",
          "Marvin Williams",
          "Zion Williamson",
          "Christian Wood",
          "Thaddeus Young"
         ],
         "textfont": {
          "color": "#4D5663"
         },
         "type": "scatter",
         "x": [
          0.25,
          0.2,
          0.306,
          0,
          0,
          0.371,
          0.381,
          0.35200000000000004,
          0.4,
          0.182,
          0.38299999999999995,
          0.33,
          0,
          0.222,
          0.667,
          0.444,
          0.324,
          0.424,
          0.42200000000000004,
          0.414,
          0,
          0,
          0,
          0.111,
          0.33,
          0.35200000000000004,
          0.248,
          0.16,
          0,
          0.16699999999999998,
          0.231,
          0.28600000000000003,
          0.306,
          0,
          0.205,
          0.353,
          0.28600000000000003,
          0.401,
          0,
          0.34600000000000003,
          0.35700000000000004,
          0.33,
          0.293,
          0.39299999999999996,
          0,
          0,
          0.267,
          0.28600000000000003,
          0.47100000000000003,
          0.349,
          0.303,
          0.14300000000000002,
          0.374,
          0.125,
          0.41700000000000004,
          0.409,
          0.39899999999999997,
          0.28600000000000003,
          0.301,
          0.4,
          0.27899999999999997,
          0.327,
          0.41200000000000003,
          0.243,
          0.27399999999999997,
          0,
          0.36200000000000004,
          0,
          0.392,
          0.25,
          0.42,
          0,
          0.384,
          0.33299999999999996,
          0,
          0.11800000000000001,
          0,
          0.39799999999999996,
          0.371,
          0.387,
          0.33,
          0.313,
          0.298,
          0.349,
          0,
          0,
          0.16699999999999998,
          0.397,
          0.35600000000000004,
          0.37,
          0.27,
          0.294,
          0,
          0,
          0.364,
          0.374,
          0.327,
          0.385,
          0.297,
          0,
          0.33299999999999996,
          0.35700000000000004,
          0.366,
          0.071,
          0.374,
          0.387,
          0.541,
          0.23399999999999999,
          0.26,
          0.445,
          0.215,
          0.418,
          0.44,
          0.2,
          0.439,
          0.28300000000000003,
          0.397,
          0.273,
          1,
          0.371,
          0.41600000000000004,
          0.36700000000000005,
          0.389,
          0.38299999999999995,
          0,
          0.27,
          0,
          0.28600000000000003,
          0.287,
          0.387,
          0,
          0.42200000000000004,
          0.387,
          0.358,
          0.33899999999999997,
          0.4,
          0.28600000000000003,
          0.44799999999999995,
          0,
          0,
          0.154,
          0.341,
          0.358,
          0.359,
          0,
          0.33299999999999996,
          0.231,
          0.391,
          0,
          0,
          0.321,
          0.337,
          0.133,
          0.41200000000000003,
          0.348,
          0.37,
          0,
          0,
          0,
          0.14300000000000002,
          1,
          0.375,
          0.374,
          0.331,
          0.33899999999999997,
          0.247,
          0,
          0.376,
          0.29600000000000004,
          0.462,
          0.386,
          0.354
         ],
         "y": [
          36,
          5,
          271,
          0,
          7,
          194,
          215,
          122,
          85,
          22,
          243,
          94,
          0,
          9,
          3,
          9,
          34,
          472,
          296,
          457,
          1,
          3,
          0,
          9,
          300,
          159,
          117,
          25,
          3,
          6,
          13,
          14,
          121,
          1,
          39,
          51,
          35,
          147,
          0,
          312,
          112,
          109,
          266,
          89,
          1,
          0,
          30,
          98,
          34,
          106,
          33,
          7,
          265,
          8,
          12,
          403,
          333,
          14,
          226,
          220,
          129,
          104,
          34,
          111,
          73,
          0,
          323,
          2,
          189,
          60,
          69,
          8,
          146,
          9,
          3,
          17,
          0,
          166,
          124,
          354,
          91,
          67,
          151,
          381,
          0,
          0,
          6,
          229,
          45,
          46,
          126,
          17,
          3,
          1,
          11,
          286,
          199,
          65,
          236,
          1,
          72,
          14,
          292,
          14,
          390,
          168,
          37,
          77,
          96,
          265,
          65,
          318,
          109,
          5,
          264,
          60,
          189,
          22,
          1,
          105,
          185,
          98,
          211,
          321,
          2,
          115,
          1,
          14,
          129,
          142,
          0,
          102,
          62,
          187,
          431,
          170,
          21,
          543,
          0,
          2,
          13,
          214,
          204,
          320,
          2,
          6,
          13,
          110,
          0,
          2,
          81,
          89,
          15,
          17,
          23,
          257,
          4,
          0,
          1,
          14,
          1,
          184,
          230,
          275,
          59,
          85,
          2,
          117,
          27,
          13,
          140,
          223
         ]
        },
        {
         "marker": {
          "color": "rgba(0, 128, 128, 1.0)",
          "line": {
           "width": 1.3
          },
          "opacity": 0.8,
          "size": 12,
          "symbol": "circle"
         },
         "mode": "markers",
         "name": "F-G",
         "text": [
          "Justin Anderson",
          "Kyle Anderson",
          "RJ Barrett",
          "Darius Bazley",
          "Brian Bowen II",
          "Oshae Brissett",
          "Jaylen Brown",
          "Brandon Clarke",
          "Rudy Gay",
          "Maurice Harkless",
          "Maurice Harkless",
          "Mario Hezonja",
          "Justin Holiday",
          "Danuel House Jr.",
          "William Howard",
          "De'Andre Hunter",
          "Chandler Hutchison",
          "Joe Ingles",
          "Keldon Johnson",
          "Stanley Johnson",
          "Nassir Little",
          "Elie Okobo",
          "KZ Okpala",
          "Kelly Oubre Jr.",
          "Cam Reddish",
          "Thabo Sefolosha",
          "Jayson Tatum"
         ],
         "textfont": {
          "color": "#4D5663"
         },
         "type": "scatter",
         "x": [
          0,
          0.258,
          0.32,
          0.3,
          0,
          0.2,
          0.381,
          0.40399999999999997,
          0.314,
          0.37,
          0.28,
          0.32799999999999996,
          0.424,
          0.363,
          0,
          0.355,
          0.316,
          0.397,
          0.4,
          0.154,
          0.237,
          0.35200000000000004,
          0,
          0.35200000000000004,
          0.332,
          0.278,
          0.39799999999999996
         ],
         "y": [
          3,
          62,
          197,
          100,
          2,
          15,
          281,
          52,
          185,
          73,
          25,
          64,
          288,
          311,
          4,
          304,
          38,
          310,
          5,
          13,
          59,
          71,
          1,
          307,
          250,
          54,
          420
         ]
        },
        {
         "marker": {
          "color": "rgba(255, 255, 51, 1.0)",
          "line": {
           "width": 1.3
          },
          "opacity": 0.8,
          "size": 12,
          "symbol": "circle"
         },
         "mode": "markers",
         "name": "G-F",
         "text": [
          "Dwayne Bacon",
          "Nicolas Batum",
          "Kent Bazemore",
          "Kent Bazemore",
          "DeAndre' Bembry",
          "Ryan Broekhoff",
          "Dillon Brooks",
          "Troy Brown Jr.",
          "Bruce Brown",
          "Sterling Brown",
          "Reggie Bullock",
          "Deonte Burton",
          "Vince Carter",
          "Amir Coffey",
          "Allen Crabbe",
          "Allen Crabbe",
          "Jarrett Culver",
          "Luka Doncic",
          "PJ Dozier",
          "Jacob Evans",
          "Jacob Evans",
          "Evan Fournier",
          "Melvin Frazier Jr.",
          "Shai Gilgeous-Alexander",
          "Treveon Graham",
          "Treveon Graham",
          "Javonte Green",
          "Joe Harris",
          "Rodney Hood",
          "Kevin Huerter",
          "Andre Iguodala",
          "Josh Jackson",
          "Justin James",
          "DaQuan Jeffries",
          "Ty Jerome",
          "Furkan Korkmaz",
          "Kyle Korver",
          "Jeremy Lamb",
          "Romeo Langford",
          "Zach LaVine",
          "Damion Lee",
          "Timothe Luwawu-Cabarrot",
          "Terance Mann",
          "Malcolm Miller",
          "Shake Milton",
          "Dzanan Musa",
          "Svi Mykhailiuk",
          "Zach Norvell Jr.",
          "Zach Norvell Jr.",
          "David Nwaba",
          "Miye Oni",
          "Theo Pinson",
          "Kevin Porter Jr.",
          "Josh Reaves",
          "Terrence Ross",
          "Admiral Schofield",
          "Marial Shayok",
          "Max Strus",
          "Garrett Temple",
          "Matisse Thybulle",
          "Gary Trent Jr.",
          "Evan Turner",
          "Lonnie Walker IV",
          "Yuta Watanabe",
          "Kenrich Williams",
          "Justise Winslow"
         ],
         "textfont": {
          "color": "#4D5663"
         },
         "type": "scatter",
         "x": [
          0.284,
          0.28600000000000003,
          0.327,
          0.386,
          0.231,
          0.392,
          0.368,
          0.345,
          0.344,
          0.316,
          0.33299999999999996,
          0.217,
          0.302,
          0.14300000000000002,
          0.32299999999999995,
          0.231,
          0.299,
          0.318,
          0.25,
          0.342,
          0,
          0.406,
          0.5710000000000001,
          0.35100000000000003,
          0.24100000000000002,
          0.35100000000000003,
          0.261,
          0.41200000000000003,
          0.493,
          0.38,
          0.375,
          0.319,
          0.34600000000000003,
          0.25,
          0.27699999999999997,
          0.397,
          0.415,
          0.335,
          0.217,
          0.38,
          0.35600000000000004,
          0.358,
          0.25,
          0.316,
          0.45299999999999996,
          0.231,
          0.40399999999999997,
          0,
          0.375,
          0.429,
          0,
          0.188,
          0.335,
          0,
          0.35700000000000004,
          0.304,
          0.33299999999999996,
          0,
          0.324,
          0.35200000000000004,
          0.38799999999999996,
          0,
          0.408,
          0.375,
          0.26,
          0.222
         ],
         "y": [
          67,
          49,
          171,
          57,
          65,
          51,
          359,
          145,
          96,
          114,
          111,
          46,
          202,
          7,
          93,
          26,
          221,
          491,
          28,
          38,
          1,
          406,
          7,
          222,
          83,
          37,
          23,
          369,
          71,
          334,
          24,
          72,
          26,
          4,
          47,
          317,
          207,
          158,
          23,
          484,
          239,
          109,
          12,
          19,
          106,
          65,
          285,
          0,
          8,
          28,
          1,
          80,
          158,
          0,
          454,
          46,
          3,
          1,
          346,
          142,
          201,
          5,
          71,
          8,
          96,
          27
         ]
        },
        {
         "marker": {
          "color": "rgba(128, 128, 0, 1.0)",
          "line": {
           "width": 1.3
          },
          "opacity": 0.8,
          "size": 12,
          "symbol": "circle"
         },
         "mode": "markers",
         "name": "Unknown",
         "text": [
          "Nicolo Melli"
         ],
         "textfont": {
          "color": "#4D5663"
         },
         "type": "scatter",
         "x": [
          0.361
         ],
         "y": [
          180
         ]
        }
       ],
       "layout": {
        "legend": {
         "bgcolor": "#FFFFFF",
         "font": {
          "color": "#4D5663"
         }
        },
        "paper_bgcolor": "#FFFFFF",
        "plot_bgcolor": "#FFFFFF",
        "template": {
         "data": {
          "bar": [
           {
            "error_x": {
             "color": "#2a3f5f"
            },
            "error_y": {
             "color": "#2a3f5f"
            },
            "marker": {
             "line": {
              "color": "#E5ECF6",
              "width": 0.5
             }
            },
            "type": "bar"
           }
          ],
          "barpolar": [
           {
            "marker": {
             "line": {
              "color": "#E5ECF6",
              "width": 0.5
             }
            },
            "type": "barpolar"
           }
          ],
          "carpet": [
           {
            "aaxis": {
             "endlinecolor": "#2a3f5f",
             "gridcolor": "white",
             "linecolor": "white",
             "minorgridcolor": "white",
             "startlinecolor": "#2a3f5f"
            },
            "baxis": {
             "endlinecolor": "#2a3f5f",
             "gridcolor": "white",
             "linecolor": "white",
             "minorgridcolor": "white",
             "startlinecolor": "#2a3f5f"
            },
            "type": "carpet"
           }
          ],
          "choropleth": [
           {
            "colorbar": {
             "outlinewidth": 0,
             "ticks": ""
            },
            "type": "choropleth"
           }
          ],
          "contour": [
           {
            "colorbar": {
             "outlinewidth": 0,
             "ticks": ""
            },
            "colorscale": [
             [
              0,
              "#0d0887"
             ],
             [
              0.1111111111111111,
              "#46039f"
             ],
             [
              0.2222222222222222,
              "#7201a8"
             ],
             [
              0.3333333333333333,
              "#9c179e"
             ],
             [
              0.4444444444444444,
              "#bd3786"
             ],
             [
              0.5555555555555556,
              "#d8576b"
             ],
             [
              0.6666666666666666,
              "#ed7953"
             ],
             [
              0.7777777777777778,
              "#fb9f3a"
             ],
             [
              0.8888888888888888,
              "#fdca26"
             ],
             [
              1,
              "#f0f921"
             ]
            ],
            "type": "contour"
           }
          ],
          "contourcarpet": [
           {
            "colorbar": {
             "outlinewidth": 0,
             "ticks": ""
            },
            "type": "contourcarpet"
           }
          ],
          "heatmap": [
           {
            "colorbar": {
             "outlinewidth": 0,
             "ticks": ""
            },
            "colorscale": [
             [
              0,
              "#0d0887"
             ],
             [
              0.1111111111111111,
              "#46039f"
             ],
             [
              0.2222222222222222,
              "#7201a8"
             ],
             [
              0.3333333333333333,
              "#9c179e"
             ],
             [
              0.4444444444444444,
              "#bd3786"
             ],
             [
              0.5555555555555556,
              "#d8576b"
             ],
             [
              0.6666666666666666,
              "#ed7953"
             ],
             [
              0.7777777777777778,
              "#fb9f3a"
             ],
             [
              0.8888888888888888,
              "#fdca26"
             ],
             [
              1,
              "#f0f921"
             ]
            ],
            "type": "heatmap"
           }
          ],
          "heatmapgl": [
           {
            "colorbar": {
             "outlinewidth": 0,
             "ticks": ""
            },
            "colorscale": [
             [
              0,
              "#0d0887"
             ],
             [
              0.1111111111111111,
              "#46039f"
             ],
             [
              0.2222222222222222,
              "#7201a8"
             ],
             [
              0.3333333333333333,
              "#9c179e"
             ],
             [
              0.4444444444444444,
              "#bd3786"
             ],
             [
              0.5555555555555556,
              "#d8576b"
             ],
             [
              0.6666666666666666,
              "#ed7953"
             ],
             [
              0.7777777777777778,
              "#fb9f3a"
             ],
             [
              0.8888888888888888,
              "#fdca26"
             ],
             [
              1,
              "#f0f921"
             ]
            ],
            "type": "heatmapgl"
           }
          ],
          "histogram": [
           {
            "marker": {
             "colorbar": {
              "outlinewidth": 0,
              "ticks": ""
             }
            },
            "type": "histogram"
           }
          ],
          "histogram2d": [
           {
            "colorbar": {
             "outlinewidth": 0,
             "ticks": ""
            },
            "colorscale": [
             [
              0,
              "#0d0887"
             ],
             [
              0.1111111111111111,
              "#46039f"
             ],
             [
              0.2222222222222222,
              "#7201a8"
             ],
             [
              0.3333333333333333,
              "#9c179e"
             ],
             [
              0.4444444444444444,
              "#bd3786"
             ],
             [
              0.5555555555555556,
              "#d8576b"
             ],
             [
              0.6666666666666666,
              "#ed7953"
             ],
             [
              0.7777777777777778,
              "#fb9f3a"
             ],
             [
              0.8888888888888888,
              "#fdca26"
             ],
             [
              1,
              "#f0f921"
             ]
            ],
            "type": "histogram2d"
           }
          ],
          "histogram2dcontour": [
           {
            "colorbar": {
             "outlinewidth": 0,
             "ticks": ""
            },
            "colorscale": [
             [
              0,
              "#0d0887"
             ],
             [
              0.1111111111111111,
              "#46039f"
             ],
             [
              0.2222222222222222,
              "#7201a8"
             ],
             [
              0.3333333333333333,
              "#9c179e"
             ],
             [
              0.4444444444444444,
              "#bd3786"
             ],
             [
              0.5555555555555556,
              "#d8576b"
             ],
             [
              0.6666666666666666,
              "#ed7953"
             ],
             [
              0.7777777777777778,
              "#fb9f3a"
             ],
             [
              0.8888888888888888,
              "#fdca26"
             ],
             [
              1,
              "#f0f921"
             ]
            ],
            "type": "histogram2dcontour"
           }
          ],
          "mesh3d": [
           {
            "colorbar": {
             "outlinewidth": 0,
             "ticks": ""
            },
            "type": "mesh3d"
           }
          ],
          "parcoords": [
           {
            "line": {
             "colorbar": {
              "outlinewidth": 0,
              "ticks": ""
             }
            },
            "type": "parcoords"
           }
          ],
          "pie": [
           {
            "automargin": true,
            "type": "pie"
           }
          ],
          "scatter": [
           {
            "marker": {
             "colorbar": {
              "outlinewidth": 0,
              "ticks": ""
             }
            },
            "type": "scatter"
           }
          ],
          "scatter3d": [
           {
            "line": {
             "colorbar": {
              "outlinewidth": 0,
              "ticks": ""
             }
            },
            "marker": {
             "colorbar": {
              "outlinewidth": 0,
              "ticks": ""
             }
            },
            "type": "scatter3d"
           }
          ],
          "scattercarpet": [
           {
            "marker": {
             "colorbar": {
              "outlinewidth": 0,
              "ticks": ""
             }
            },
            "type": "scattercarpet"
           }
          ],
          "scattergeo": [
           {
            "marker": {
             "colorbar": {
              "outlinewidth": 0,
              "ticks": ""
             }
            },
            "type": "scattergeo"
           }
          ],
          "scattergl": [
           {
            "marker": {
             "colorbar": {
              "outlinewidth": 0,
              "ticks": ""
             }
            },
            "type": "scattergl"
           }
          ],
          "scattermapbox": [
           {
            "marker": {
             "colorbar": {
              "outlinewidth": 0,
              "ticks": ""
             }
            },
            "type": "scattermapbox"
           }
          ],
          "scatterpolar": [
           {
            "marker": {
             "colorbar": {
              "outlinewidth": 0,
              "ticks": ""
             }
            },
            "type": "scatterpolar"
           }
          ],
          "scatterpolargl": [
           {
            "marker": {
             "colorbar": {
              "outlinewidth": 0,
              "ticks": ""
             }
            },
            "type": "scatterpolargl"
           }
          ],
          "scatterternary": [
           {
            "marker": {
             "colorbar": {
              "outlinewidth": 0,
              "ticks": ""
             }
            },
            "type": "scatterternary"
           }
          ],
          "surface": [
           {
            "colorbar": {
             "outlinewidth": 0,
             "ticks": ""
            },
            "colorscale": [
             [
              0,
              "#0d0887"
             ],
             [
              0.1111111111111111,
              "#46039f"
             ],
             [
              0.2222222222222222,
              "#7201a8"
             ],
             [
              0.3333333333333333,
              "#9c179e"
             ],
             [
              0.4444444444444444,
              "#bd3786"
             ],
             [
              0.5555555555555556,
              "#d8576b"
             ],
             [
              0.6666666666666666,
              "#ed7953"
             ],
             [
              0.7777777777777778,
              "#fb9f3a"
             ],
             [
              0.8888888888888888,
              "#fdca26"
             ],
             [
              1,
              "#f0f921"
             ]
            ],
            "type": "surface"
           }
          ],
          "table": [
           {
            "cells": {
             "fill": {
              "color": "#EBF0F8"
             },
             "line": {
              "color": "white"
             }
            },
            "header": {
             "fill": {
              "color": "#C8D4E3"
             },
             "line": {
              "color": "white"
             }
            },
            "type": "table"
           }
          ]
         },
         "layout": {
          "annotationdefaults": {
           "arrowcolor": "#2a3f5f",
           "arrowhead": 0,
           "arrowwidth": 1
          },
          "coloraxis": {
           "colorbar": {
            "outlinewidth": 0,
            "ticks": ""
           }
          },
          "colorscale": {
           "diverging": [
            [
             0,
             "#8e0152"
            ],
            [
             0.1,
             "#c51b7d"
            ],
            [
             0.2,
             "#de77ae"
            ],
            [
             0.3,
             "#f1b6da"
            ],
            [
             0.4,
             "#fde0ef"
            ],
            [
             0.5,
             "#f7f7f7"
            ],
            [
             0.6,
             "#e6f5d0"
            ],
            [
             0.7,
             "#b8e186"
            ],
            [
             0.8,
             "#7fbc41"
            ],
            [
             0.9,
             "#4d9221"
            ],
            [
             1,
             "#276419"
            ]
           ],
           "sequential": [
            [
             0,
             "#0d0887"
            ],
            [
             0.1111111111111111,
             "#46039f"
            ],
            [
             0.2222222222222222,
             "#7201a8"
            ],
            [
             0.3333333333333333,
             "#9c179e"
            ],
            [
             0.4444444444444444,
             "#bd3786"
            ],
            [
             0.5555555555555556,
             "#d8576b"
            ],
            [
             0.6666666666666666,
             "#ed7953"
            ],
            [
             0.7777777777777778,
             "#fb9f3a"
            ],
            [
             0.8888888888888888,
             "#fdca26"
            ],
            [
             1,
             "#f0f921"
            ]
           ],
           "sequentialminus": [
            [
             0,
             "#0d0887"
            ],
            [
             0.1111111111111111,
             "#46039f"
            ],
            [
             0.2222222222222222,
             "#7201a8"
            ],
            [
             0.3333333333333333,
             "#9c179e"
            ],
            [
             0.4444444444444444,
             "#bd3786"
            ],
            [
             0.5555555555555556,
             "#d8576b"
            ],
            [
             0.6666666666666666,
             "#ed7953"
            ],
            [
             0.7777777777777778,
             "#fb9f3a"
            ],
            [
             0.8888888888888888,
             "#fdca26"
            ],
            [
             1,
             "#f0f921"
            ]
           ]
          },
          "colorway": [
           "#636efa",
           "#EF553B",
           "#00cc96",
           "#ab63fa",
           "#FFA15A",
           "#19d3f3",
           "#FF6692",
           "#B6E880",
           "#FF97FF",
           "#FECB52"
          ],
          "font": {
           "color": "#2a3f5f"
          },
          "geo": {
           "bgcolor": "white",
           "lakecolor": "white",
           "landcolor": "#E5ECF6",
           "showlakes": true,
           "showland": true,
           "subunitcolor": "white"
          },
          "hoverlabel": {
           "align": "left"
          },
          "hovermode": "closest",
          "mapbox": {
           "style": "light"
          },
          "paper_bgcolor": "white",
          "plot_bgcolor": "#E5ECF6",
          "polar": {
           "angularaxis": {
            "gridcolor": "white",
            "linecolor": "white",
            "ticks": ""
           },
           "bgcolor": "#E5ECF6",
           "radialaxis": {
            "gridcolor": "white",
            "linecolor": "white",
            "ticks": ""
           }
          },
          "scene": {
           "xaxis": {
            "backgroundcolor": "#E5ECF6",
            "gridcolor": "white",
            "gridwidth": 2,
            "linecolor": "white",
            "showbackground": true,
            "ticks": "",
            "zerolinecolor": "white"
           },
           "yaxis": {
            "backgroundcolor": "#E5ECF6",
            "gridcolor": "white",
            "gridwidth": 2,
            "linecolor": "white",
            "showbackground": true,
            "ticks": "",
            "zerolinecolor": "white"
           },
           "zaxis": {
            "backgroundcolor": "#E5ECF6",
            "gridcolor": "white",
            "gridwidth": 2,
            "linecolor": "white",
            "showbackground": true,
            "ticks": "",
            "zerolinecolor": "white"
           }
          },
          "shapedefaults": {
           "line": {
            "color": "#2a3f5f"
           }
          },
          "ternary": {
           "aaxis": {
            "gridcolor": "white",
            "linecolor": "white",
            "ticks": ""
           },
           "baxis": {
            "gridcolor": "white",
            "linecolor": "white",
            "ticks": ""
           },
           "bgcolor": "#E5ECF6",
           "caxis": {
            "gridcolor": "white",
            "linecolor": "white",
            "ticks": ""
           }
          },
          "title": {
           "x": 0.05
          },
          "xaxis": {
           "automargin": true,
           "gridcolor": "white",
           "linecolor": "white",
           "ticks": "",
           "title": {
            "standoff": 15
           },
           "zerolinecolor": "white",
           "zerolinewidth": 2
          },
          "yaxis": {
           "automargin": true,
           "gridcolor": "white",
           "linecolor": "white",
           "ticks": "",
           "title": {
            "standoff": 15
           },
           "zerolinecolor": "white",
           "zerolinewidth": 2
          }
         }
        },
        "title": {
         "font": {
          "color": "#4D5663"
         },
         "text": "Best 3-Point Shooters"
        },
        "xaxis": {
         "gridcolor": "#E1E5ED",
         "showgrid": true,
         "tickfont": {
          "color": "#4D5663"
         },
         "title": {
          "font": {
           "color": "#4D5663"
          },
          "text": "3P %"
         },
         "zerolinecolor": "#E1E5ED"
        },
        "yaxis": {
         "gridcolor": "#E1E5ED",
         "showgrid": true,
         "tickfont": {
          "color": "#4D5663"
         },
         "title": {
          "font": {
           "color": "#4D5663"
          },
          "text": "3P Attempts"
         },
         "zerolinecolor": "#E1E5ED"
        }
       }
      },
      "text/html": [
       "<div>\n",
       "        \n",
       "        \n",
       "            <div id=\"a8aa2071-6c68-4ab6-9e89-e646662f7a2f\" class=\"plotly-graph-div\" style=\"height:525px; width:100%;\"></div>\n",
       "            <script type=\"text/javascript\">\n",
       "                require([\"plotly\"], function(Plotly) {\n",
       "                    window.PLOTLYENV=window.PLOTLYENV || {};\n",
       "                    window.PLOTLYENV.BASE_URL='https://plot.ly';\n",
       "                    \n",
       "                if (document.getElementById(\"a8aa2071-6c68-4ab6-9e89-e646662f7a2f\")) {\n",
       "                    Plotly.newPlot(\n",
       "                        'a8aa2071-6c68-4ab6-9e89-e646662f7a2f',\n",
       "                        [{\"marker\": {\"color\": \"rgba(255, 153, 51, 1.0)\", \"line\": {\"width\": 1.3}, \"opacity\": 0.8, \"size\": 12, \"symbol\": \"circle\"}, \"mode\": \"markers\", \"name\": \"C\", \"text\": [\"Steven Adams\", \"Jarrett Allen\", \"Deandre Ayton\", \"Mo Bamba\", \"Khem Birch\", \"Bismack Biyombo\", \"Marques Bolden\", \"Moses Brown\", \"Clint Capela\", \"Willie Cauley-Stein\", \"Willie Cauley-Stein\", \"Tyson Chandler\", \"Dewayne Dedmon\", \"Dewayne Dedmon\", \"Gorgui Dieng\", \"Gorgui Dieng\", \"Andre Drummond\", \"Andre Drummond\", \"Tacko Fall\", \"Marc Gasol\", \"Rudy Gobert\", \"Nikola Jokic\", \"Damian Jones\", \"DeAndre Jordan\", \"Enes Kanter\", \"Alex Len\", \"Alex Len\", \"Meyers Leonard\", \"Brook Lopez\", \"Robin Lopez\", \"Ian Mahinmi\", \"Boban Marjanovic\", \"Eric Mika\", \"Kelly Olynyk\", \"Anzejs Pasecniks\", \"Justin Patton\", \"Jakob Poeltl\", \"Jonas Valanciunas\", \"Nikola Vucevic\", \"Hassan Whiteside\", \"Cody Zeller\"], \"textfont\": {\"color\": \"#4D5663\"}, \"type\": \"scatter\", \"x\": [0.33299999999999996, 0.0, 0.0, 0.35600000000000004, 0.0, 0.0, 0.0, 0.0, 0.0, 0.0, 0.0, 0.0, 0.19699999999999998, 0.222, 0.38299999999999995, 0.22699999999999998, 0.048, 0.28600000000000003, 0.0, 0.402, 0.0, 0.314, 0.222, 0.0, 0.14300000000000002, 0.25, 0.0, 0.429, 0.29600000000000004, 0.344, 0.192, 0.267, 0.0, 0.43200000000000005, 0.0, 0.25, 0.0, 0.36700000000000005, 0.32899999999999996, 0.5710000000000001, 0.24], \"y\": [3, 5, 3, 104, 1, 0, 0, 0, 0, 0, 1, 0, 71, 36, 120, 22, 21, 14, 0, 127, 0, 226, 9, 0, 7, 56, 0, 119, 284, 96, 26, 15, 0, 185, 2, 4, 0, 79, 249, 7, 75]}, {\"marker\": {\"color\": \"rgba(55, 128, 191, 1.0)\", \"line\": {\"width\": 1.3}, \"opacity\": 0.8, \"size\": 12, \"symbol\": \"circle\"}, \"mode\": \"markers\", \"name\": \"C-F\", \"text\": [\"Bam Adebayo\", \"Aron Baynes\", \"Goga Bitadze\", \"Tony Bradley\", \"Thomas Bryant\", \"Wendell Carter Jr.\", \"Joel Embiid\", \"Isaiah Hartenstein\", \"Jaxson Hayes\", \"Dewan Hernandez\", \"Willy Hernangomez\", \"Al Horford\", \"Dwight Howard\", \"Luke Kornet\", \"JaVale McGee\", \"Nerlens Noel\", \"Jahlil Okafor\", \"Kyle O'Quinn\", \"Vincent Poirier\", \"Julius Randle\", \"Naz Reid\", \"Mitchell Robinson\", \"Tristan Thompson\", \"Karl-Anthony Towns\", \"Myles Turner\", \"Robert Williams III\"], \"textfont\": {\"color\": \"#4D5663\"}, \"type\": \"scatter\", \"x\": [0.077, 0.35100000000000003, 0.16699999999999998, 1.0, 0.40700000000000003, 0.207, 0.348, 0.0, 0.25, 0.0, 0.22699999999999998, 0.337, 0.6, 0.287, 0.5, 0.33299999999999996, 0.5, 0.304, 0.5, 0.27699999999999997, 0.33, 0.0, 0.391, 0.41200000000000003, 0.336, 0.0], \"y\": [13, 168, 36, 1, 54, 29, 161, 5, 4, 1, 22, 264, 5, 108, 6, 3, 2, 23, 2, 231, 97, 0, 23, 277, 229, 0]}, {\"marker\": {\"color\": \"rgba(50, 171, 96, 1.0)\", \"line\": {\"width\": 1.3}, \"opacity\": 0.8, \"size\": 12, \"symbol\": \"circle\"}, \"mode\": \"markers\", \"name\": \"F-C\", \"text\": [\"LaMarcus Aldridge\", \"Chris Boucher\", \"Nicolas Claxton\", \"Zach Collins\", \"Anthony Davis\", \"Cheick Diallo\", \"Henry Ellenson\", \"Drew Eubanks\", \"Cristiano Felicio\", \"Bruno Fernando\", \"Daniel Gafford\", \"Harry Giles III\", \"JaMychal Green\", \"Montrezl Harrell\", \"John Henson\", \"John Henson\", \"Jaren Jackson Jr.\", \"Mfiondu Kabengele\", \"Frank Kaminsky\", \"Skal Labissiere\", \"Thon Maker\", \"Lauri Markkanen\", \"Jalen McDaniels\", \"Chimezie Metu\", \"Mike Muscala\", \"Larry Nance Jr.\", \"Mason Plumlee\", \"Kristaps Porzingis\", \"Dwight Powell\", \"Domantas Sabonis\", \"Dean Wade\", \"Moritz Wagner\", \"D.J. Wilson\"], \"textfont\": {\"color\": \"#4D5663\"}, \"type\": \"scatter\", \"x\": [0.389, 0.28300000000000003, 0.14300000000000002, 0.429, 0.335, 0.5, 0.0, 1.0, 0.0, 0.135, 0.0, 0.0, 0.363, 0.0, 0.19399999999999998, 0.4, 0.397, 0.45, 0.348, 0.231, 0.344, 0.344, 0.375, 0.0, 0.358, 0.35200000000000004, 0.0, 0.349, 0.256, 0.254, 0.5, 0.34299999999999997, 0.255], \"y\": [157, 99, 7, 7, 194, 2, 4, 1, 2, 37, 0, 0, 204, 18, 31, 5, 340, 20, 112, 13, 64, 317, 24, 1, 120, 159, 4, 361, 39, 67, 4, 67, 55]}, {\"marker\": {\"color\": \"rgba(128, 0, 128, 1.0)\", \"line\": {\"width\": 1.3}, \"opacity\": 0.8, \"size\": 12, \"symbol\": \"circle\"}, \"mode\": \"markers\", \"name\": \"G\", \"text\": [\"Nickeil Alexander-Walker\", \"Grayson Allen\", \"Kadeem Allen\", \"Ryan Arcidiacono\", \"D.J. Augustin\", \"Lonzo Ball\", \"J.J. Barea\", \"Will Barton\", \"Bradley Beal\", \"Malik Beasley\", \"Malik Beasley\", \"Marco Belinelli\", \"Patrick Beverley\", \"Eric Bledsoe\", \"Bogdan Bogdanovic\", \"Jordan Bone\", \"Isaac Bonga\", \"Devin Booker\", \"Ky Bowman\", \"Avery Bradley\", \"Malcolm Brogdon\", \"Charles Brown Jr.\", \"Jalen Brunson\", \"Trey Burke\", \"Alec Burks\", \"Alec Burks\", \"Kentavious Caldwell-Pope\", \"Jevon Carter\", \"Michael Carter-Williams\", \"Alex Caruso\", \"Joe Chealey\", \"Chris Chiozza\", \"Chris Chiozza\", \"Jordan Clarkson\", \"Jordan Clarkson\", \"Chris Clemons\", \"Antonius Cleveland\", \"Mike Conley\", \"Pat Connaughton\", \"Quinn Cook\", \"Seth Curry\", \"Stephen Curry\", \"Troy Daniels\", \"Terence Davis\", \"Matthew Dellavedova\", \"Hamidou Diallo\", \"Spencer Dinwiddie\", \"Donte DiVincenzo\", \"Luguentz Dort\", \"Damyean Dotson\", \"Goran Dragic\", \"Kris Dunn\", \"Carsen Edwards\", \"Wayne Ellington\", \"Dante Exum\", \"Dante Exum\", \"Terrance Ferguson\", \"Yogi Ferrell\", \"Bryn Forbes\", \"De'Aaron Fox\", \"Michael Frazier\", \"Tim Frazier\", \"Markelle Fultz\", \"Langston Galloway\", \"Darius Garland\", \"Brandon Goodwin\", \"Eric Gordon\", \"Devonte' Graham\", \"Josh Gray\", \"Danny Green\", \"Marko Guduric\", \"Kyle Guy\", \"Devon Hall\", \"Dusty Hannahs\", \"Tim Hardaway Jr.\", \"James Harden\", \"Jared Harper\", \"Gary Harris\", \"Shaquille Harrison\", \"Josh Hart\", \"Tyler Herro\", \"Buddy Hield\", \"George Hill\", \"Aaron Holiday\", \"Jrue Holiday\", \"Talen Horton-Tucker\", \"Kyrie Irving\", \"Frank Jackson\", \"Reggie Jackson\", \"Reggie Jackson\", \"Tyler Johnson\", \"Tyus Jones\", \"Cory Joseph\", \"Luke Kennard\", \"Brandon Knight\", \"Brandon Knight\", \"John Konchar\", \"Jalen Lecque\", \"Courtney Lee\", \"Caris LeVert\", \"Damian Lillard\", \"Kyle Lowry\", \"Daryl Macon\", \"J.P. Macura\", \"Josh Magette\", \"Jeremiah Martin\", \"Frank Mason\", \"Garrison Mathews\", \"Wesley Matthews\", \"Patrick McCaw\", \"CJ McCollum\", \"T.J. McConnell\", \"Rodney McGruder\", \"Jordan McLaughlin\", \"Ben McLemore\", \"Jordan McRae\", \"Jordan McRae\", \"Jordan McRae\", \"De'Anthony Melton\", \"CJ Miles\", \"Patty Mills\", \"Donovan Mitchell\", \"Naz Mitrou-Long\", \"Adam Mokoka\", \"Malik Monk\", \"Matt Mooney\", \"E'Twaun Moore\", \"Ja Morant\", \"Monte Morris\", \"Emmanuel Mudiay\", \"Mychal Mulder\", \"Dejounte Murray\", \"Jamal Murray\", \"Shabazz Napier\", \"Shabazz Napier\", \"Raul Neto\", \"Malik Newman\", \"Jaylen Nowell\", \"Frank Ntilikina\", \"Kendrick Nunn\", \"Josh Okogie\", \"Victor Oladipo\", \"Jeremy Pargo\", \"Chris Paul\", \"Gary Payton II\", \"Elfrid Payton\", \"Shamorie Ponds\", \"Jordan Poole\", \"Norman Powell\", \"Chasson Randle\", \"JJ Redick\", \"Josh Richardson\", \"Austin Rivers\", \"Jerome Robinson\", \"Jerome Robinson\", \"Justin Robinson\", \"Rajon Rondo\", \"Derrick Rose\", \"Terry Rozier\", \"Ricky Rubio\", \"D'Angelo Russell\", \"D'Angelo Russell\", \"Tomas Satoransky\", \"Dennis Schroder\", \"Collin Sexton\", \"Landry Shamet\", \"Iman Shumpert\", \"Anfernee Simons\", \"Marcus Smart\", \"Dennis Smith Jr.\", \"Ish Smith\", \"Zhaire Smith\", \"Tony Snell\", \"Edmond Sumner\", \"Jeff Teague\", \"Jeff Teague\", \"Isaiah Thomas\", \"Khyri Thomas\", \"Matt Thomas\", \"Allonzo Trier\", \"Rayjon Tucker\", \"Denzel Valentine\", \"Fred VanVleet\", \"Gabe Vincent\", \"Dion Waiters\", \"Kemba Walker\", \"Tyrone Wallace\", \"Derrick Walton Jr.\", \"Derrick Walton Jr.\", \"Brad Wanamaker\", \"Tremont Waters\", \"Paul Watson\", \"Paul Watson\", \"Quinndary Weatherspoon\", \"Russell Westbrook\", \"Coby White\", \"Derrick White\", \"Nigel Williams-Goss\", \"Lou Williams\", \"Delon Wright\", \"Justin Wright-Foreman\", \"Trae Young\"], \"textfont\": {\"color\": \"#4D5663\"}, \"type\": \"scatter\", \"x\": [0.342, 0.363, 0.313, 0.391, 0.345, 0.38299999999999995, 0.382, 0.375, 0.353, 0.36, 0.426, 0.368, 0.379, 0.348, 0.361, 0.2, 0.4, 0.36, 0.308, 0.364, 0.313, 0.33299999999999996, 0.358, 0.42100000000000004, 0.375, 0.327, 0.39399999999999996, 0.39299999999999996, 0.294, 0.355, 0.0, 0.43799999999999994, 0.44, 0.371, 0.366, 0.35100000000000003, 0.0, 0.376, 0.321, 0.379, 0.45299999999999996, 0.245, 0.35700000000000004, 0.396, 0.231, 0.2, 0.308, 0.344, 0.301, 0.36200000000000004, 0.377, 0.259, 0.309, 0.35, 0.33299999999999996, 0.35100000000000003, 0.297, 0.275, 0.38799999999999996, 0.307, 0.25, 0.33299999999999996, 0.254, 0.39899999999999997, 0.355, 0.299, 0.319, 0.373, 0.0, 0.37799999999999995, 0.309, 0.0, 0.0, 0.667, 0.40700000000000003, 0.35200000000000004, 0.0, 0.33299999999999996, 0.381, 0.342, 0.391, 0.395, 0.48, 0.39399999999999996, 0.35700000000000004, 0.0, 0.39399999999999996, 0.325, 0.37799999999999995, 0.452, 0.289, 0.379, 0.35100000000000003, 0.39899999999999997, 0.297, 0.38799999999999996, 0.444, 0.0, 0.447, 0.381, 0.39399999999999996, 0.354, 0.5, 0.0, 0.25, 0.0, 0.2, 0.413, 0.365, 0.324, 0.38, 0.33299999999999996, 0.278, 0.382, 0.395, 0.377, 0.5, 0.188, 0.316, 0.314, 0.38, 0.364, 0.182, 0.4, 0.284, 0.0, 0.375, 0.36700000000000005, 0.375, 0.355, 0.308, 0.37799999999999995, 0.345, 0.29600000000000004, 0.381, 0.39399999999999996, 0.0, 0.115, 0.321, 0.36200000000000004, 0.266, 0.304, 0.429, 0.36200000000000004, 0.28300000000000003, 0.203, 0.5, 0.27899999999999997, 0.39799999999999996, 0.0, 0.452, 0.327, 0.358, 0.284, 0.324, 0.6, 0.32799999999999996, 0.306, 0.405, 0.35100000000000003, 0.374, 0.345, 0.322, 0.381, 0.38, 0.392, 0.242, 0.33799999999999997, 0.348, 0.29600000000000004, 0.36700000000000005, 0.0, 0.402, 0.263, 0.379, 0.33299999999999996, 0.413, 0.35700000000000004, 0.467, 0.358, 0.0, 0.336, 0.38799999999999996, 0.25, 0.47100000000000003, 0.377, 0.067, 0.429, 0.33299999999999996, 0.36700000000000005, 0.17600000000000002, 0.0, 0.0, 0.0, 0.254, 0.354, 0.35600000000000004, 0.0, 0.363, 0.381, 0.0, 0.361], \"y\": [117, 91, 16, 138, 174, 363, 76, 288, 481, 161, 115, 155, 198, 201, 380, 10, 55, 350, 107, 173, 195, 9, 120, 38, 224, 49, 221, 117, 68, 107, 4, 16, 25, 159, 194, 94, 1, 213, 137, 66, 300, 49, 112, 222, 91, 35, 400, 221, 73, 163, 313, 112, 68, 143, 6, 37, 155, 69, 381, 153, 8, 30, 118, 331, 296, 87, 288, 585, 0, 299, 81, 1, 2, 3, 455, 769, 2, 210, 42, 325, 253, 618, 152, 203, 322, 1, 142, 120, 82, 31, 83, 124, 134, 183, 64, 67, 9, 4, 47, 189, 573, 432, 2, 0, 4, 1, 10, 46, 277, 71, 458, 15, 79, 76, 390, 106, 4, 16, 117, 35, 389, 428, 11, 15, 204, 2, 160, 139, 144, 76, 52, 90, 304, 159, 63, 71, 1, 26, 137, 362, 154, 69, 7, 279, 46, 69, 2, 265, 236, 2, 345, 214, 232, 67, 37, 5, 125, 147, 425, 188, 321, 110, 199, 320, 255, 268, 33, 219, 368, 54, 150, 3, 254, 38, 87, 30, 189, 14, 75, 53, 6, 137, 338, 16, 17, 438, 15, 21, 3, 90, 17, 3, 1, 1, 201, 376, 160, 2, 295, 118, 0, 568]}, {\"marker\": {\"color\": \"rgba(219, 64, 82, 1.0)\", \"line\": {\"width\": 1.3}, \"opacity\": 0.8, \"size\": 12, \"symbol\": \"circle\"}, \"mode\": \"markers\", \"name\": \"F\", \"text\": [\"Al-Farouq Aminu\", \"Ryan Anderson\", \"Giannis Antetokounmpo\", \"Kostas Antetokounmpo\", \"Thanasis Antetokounmpo\", \"Carmelo Anthony\", \"OG Anunoby\", \"Trevor Ariza\", \"Trevor Ariza\", \"Marvin Bagley III\", \"Harrison Barnes\", \"Keita Bates-Diop\", \"Keita Bates-Diop\", \"Jordan Bell\", \"Jordan Bell\", \"Dragan Bender\", \"Dragan Bender\", \"Davis Bertans\", \"Nemanja Bjelica\", \"Bojan Bogdanovic\", \"Jonah Bolden\", \"Jonah Bolden\", \"Jarrell Brantley\", \"Ignas Brazdeikis\", \"Miles Bridges\", \"Mikal Bridges\", \"Jimmy Butler\", \"Bruno Caboclo\", \"Bruno Caboclo\", \"Vlatko Cancar\", \"DeMarre Carroll\", \"DeMarre Carroll\", \"Wilson Chandler\", \"Zylan Cheatham\", \"Marquese Chriss\", \"Gary Clark\", \"Gary Clark\", \"John Collins\", \"Tyler Cook\", \"Robert Covington\", \"Robert Covington\", \"Torrey Craig\", \"Jae Crowder\", \"Jae Crowder\", \"Troy Daniels\", \"Ed Davis\", \"DeMar DeRozan\", \"Sekou Doumbouya\", \"Jared Dudley\", \"James Ennis III\", \"James Ennis III\", \"Derrick Favors\", \"Dorian Finney-Smith\", \"Wenyen Gabriel\", \"Wenyen Gabriel\", \"Danilo Gallinari\", \"Paul George\", \"Taj Gibson\", \"Aaron Gordon\", \"Jerami Grant\", \"Draymond Green\", \"Jeff Green\", \"Jeff Green\", \"Blake Griffin\", \"Rui Hachimura\", \"Donta Hall\", \"Tobias Harris\", \"Udonis Haslem\", \"Gordon Hayward\", \"Juancho Hernangomez\", \"Juancho Hernangomez\", \"Kevin Hervey\", \"Solomon Hill\", \"Solomon Hill\", \"Jaylen Hoard\", \"Rondae Hollis-Jefferson\", \"Richaun Holmes\", \"Serge Ibaka\", \"Ersan Ilyasova\", \"Brandon Ingram\", \"Jonathan Isaac\", \"Wes Iwundu\", \"Justin Jackson\", \"LeBron James\", \"Amile Jefferson\", \"Alize Johnson\", \"BJ Johnson\", \"Cameron Johnson\", \"James Johnson\", \"James Johnson\", \"Derrick Jones Jr.\", \"Michael Kidd-Gilchrist\", \"Michael Kidd-Gilchrist\", \"Stanton Kidd\", \"Louis King\", \"Maxi Kleber\", \"Kevin Knox II\", \"Rodions Kurucs\", \"Kyle Kuzma\", \"Vic Law\", \"Jake Layman\", \"TJ Leaf\", \"Kawhi Leonard\", \"Kevon Looney\", \"Kevin Love\", \"Trey Lyles\", \"Caleb Martin\", \"Cody Martin\", \"Kelan Martin\", \"Doug McDermott\", \"Alfonzo McKinnie\", \"Khris Middleton\", \"Paul Millsap\", \"Juwan Morgan\", \"Marcus Morris Sr.\", \"Marcus Morris Sr.\", \"Markieff Morris\", \"Markieff Morris\", \"Johnathan Motley\", \"Abdel Nader\", \"Georges Niang\", \"Semi Ojeleye\", \"Royce O'Neale\", \"Cedi Osman\", \"Tariq Owens\", \"Jabari Parker\", \"Jabari Parker\", \"Chandler Parsons\", \"Eric Paschall\", \"Patrick Patterson\", \"Norvel Pelle\", \"Michael Porter Jr.\", \"Otto Porter Jr.\", \"Bobby Portis\", \"Taurean Prince\", \"Glenn Robinson III\", \"Glenn Robinson III\", \"Duncan Robinson\", \"Isaiah Roby\", \"Luka Samanic\", \"JaKarr Sampson\", \"Dario Saric\", \"Mike Scott\", \"Pascal Siakam\", \"Chris Silva\", \"Ben Simmons\", \"Alen Smailagic\", \"Omari Spellman\", \"Caleb Swanigan\", \"Caleb Swanigan\", \"Daniel Theis\", \"Anthony Tolliver\", \"Anthony Tolliver\", \"Anthony Tolliver\", \"Juan Toscano-Anderson\", \"P.J. Tucker\", \"Jarrod Uthoff\", \"Jarred Vanderbilt\", \"Jarred Vanderbilt\", \"Noah Vonleh\", \"Noah Vonleh\", \"T.J. Warren\", \"P.J. Washington\", \"Andrew Wiggins\", \"Andrew Wiggins\", \"Grant Williams\", \"Johnathan Williams\", \"Marvin Williams\", \"Marvin Williams\", \"Zion Williamson\", \"Christian Wood\", \"Thaddeus Young\"], \"textfont\": {\"color\": \"#4D5663\"}, \"type\": \"scatter\", \"x\": [0.25, 0.2, 0.306, 0.0, 0.0, 0.371, 0.381, 0.35200000000000004, 0.4, 0.182, 0.38299999999999995, 0.33, 0.0, 0.222, 0.667, 0.444, 0.324, 0.424, 0.42200000000000004, 0.414, 0.0, 0.0, 0.0, 0.111, 0.33, 0.35200000000000004, 0.248, 0.16, 0.0, 0.16699999999999998, 0.231, 0.28600000000000003, 0.306, 0.0, 0.205, 0.353, 0.28600000000000003, 0.401, 0.0, 0.34600000000000003, 0.35700000000000004, 0.33, 0.293, 0.39299999999999996, 0.0, 0.0, 0.267, 0.28600000000000003, 0.47100000000000003, 0.349, 0.303, 0.14300000000000002, 0.374, 0.125, 0.41700000000000004, 0.409, 0.39899999999999997, 0.28600000000000003, 0.301, 0.4, 0.27899999999999997, 0.327, 0.41200000000000003, 0.243, 0.27399999999999997, 0.0, 0.36200000000000004, 0.0, 0.392, 0.25, 0.42, 0.0, 0.384, 0.33299999999999996, 0.0, 0.11800000000000001, 0.0, 0.39799999999999996, 0.371, 0.387, 0.33, 0.313, 0.298, 0.349, 0.0, 0.0, 0.16699999999999998, 0.397, 0.35600000000000004, 0.37, 0.27, 0.294, 0.0, 0.0, 0.364, 0.374, 0.327, 0.385, 0.297, 0.0, 0.33299999999999996, 0.35700000000000004, 0.366, 0.071, 0.374, 0.387, 0.541, 0.23399999999999999, 0.26, 0.445, 0.215, 0.418, 0.44, 0.2, 0.439, 0.28300000000000003, 0.397, 0.273, 1.0, 0.371, 0.41600000000000004, 0.36700000000000005, 0.389, 0.38299999999999995, 0.0, 0.27, 0.0, 0.28600000000000003, 0.287, 0.387, 0.0, 0.42200000000000004, 0.387, 0.358, 0.33899999999999997, 0.4, 0.28600000000000003, 0.44799999999999995, 0.0, 0.0, 0.154, 0.341, 0.358, 0.359, 0.0, 0.33299999999999996, 0.231, 0.391, 0.0, 0.0, 0.321, 0.337, 0.133, 0.41200000000000003, 0.348, 0.37, 0.0, 0.0, 0.0, 0.14300000000000002, 1.0, 0.375, 0.374, 0.331, 0.33899999999999997, 0.247, 0.0, 0.376, 0.29600000000000004, 0.462, 0.386, 0.354], \"y\": [36, 5, 271, 0, 7, 194, 215, 122, 85, 22, 243, 94, 0, 9, 3, 9, 34, 472, 296, 457, 1, 3, 0, 9, 300, 159, 117, 25, 3, 6, 13, 14, 121, 1, 39, 51, 35, 147, 0, 312, 112, 109, 266, 89, 1, 0, 30, 98, 34, 106, 33, 7, 265, 8, 12, 403, 333, 14, 226, 220, 129, 104, 34, 111, 73, 0, 323, 2, 189, 60, 69, 8, 146, 9, 3, 17, 0, 166, 124, 354, 91, 67, 151, 381, 0, 0, 6, 229, 45, 46, 126, 17, 3, 1, 11, 286, 199, 65, 236, 1, 72, 14, 292, 14, 390, 168, 37, 77, 96, 265, 65, 318, 109, 5, 264, 60, 189, 22, 1, 105, 185, 98, 211, 321, 2, 115, 1, 14, 129, 142, 0, 102, 62, 187, 431, 170, 21, 543, 0, 2, 13, 214, 204, 320, 2, 6, 13, 110, 0, 2, 81, 89, 15, 17, 23, 257, 4, 0, 1, 14, 1, 184, 230, 275, 59, 85, 2, 117, 27, 13, 140, 223]}, {\"marker\": {\"color\": \"rgba(0, 128, 128, 1.0)\", \"line\": {\"width\": 1.3}, \"opacity\": 0.8, \"size\": 12, \"symbol\": \"circle\"}, \"mode\": \"markers\", \"name\": \"F-G\", \"text\": [\"Justin Anderson\", \"Kyle Anderson\", \"RJ Barrett\", \"Darius Bazley\", \"Brian Bowen II\", \"Oshae Brissett\", \"Jaylen Brown\", \"Brandon Clarke\", \"Rudy Gay\", \"Maurice Harkless\", \"Maurice Harkless\", \"Mario Hezonja\", \"Justin Holiday\", \"Danuel House Jr.\", \"William Howard\", \"De'Andre Hunter\", \"Chandler Hutchison\", \"Joe Ingles\", \"Keldon Johnson\", \"Stanley Johnson\", \"Nassir Little\", \"Elie Okobo\", \"KZ Okpala\", \"Kelly Oubre Jr.\", \"Cam Reddish\", \"Thabo Sefolosha\", \"Jayson Tatum\"], \"textfont\": {\"color\": \"#4D5663\"}, \"type\": \"scatter\", \"x\": [0.0, 0.258, 0.32, 0.3, 0.0, 0.2, 0.381, 0.40399999999999997, 0.314, 0.37, 0.28, 0.32799999999999996, 0.424, 0.363, 0.0, 0.355, 0.316, 0.397, 0.4, 0.154, 0.237, 0.35200000000000004, 0.0, 0.35200000000000004, 0.332, 0.278, 0.39799999999999996], \"y\": [3, 62, 197, 100, 2, 15, 281, 52, 185, 73, 25, 64, 288, 311, 4, 304, 38, 310, 5, 13, 59, 71, 1, 307, 250, 54, 420]}, {\"marker\": {\"color\": \"rgba(255, 255, 51, 1.0)\", \"line\": {\"width\": 1.3}, \"opacity\": 0.8, \"size\": 12, \"symbol\": \"circle\"}, \"mode\": \"markers\", \"name\": \"G-F\", \"text\": [\"Dwayne Bacon\", \"Nicolas Batum\", \"Kent Bazemore\", \"Kent Bazemore\", \"DeAndre' Bembry\", \"Ryan Broekhoff\", \"Dillon Brooks\", \"Troy Brown Jr.\", \"Bruce Brown\", \"Sterling Brown\", \"Reggie Bullock\", \"Deonte Burton\", \"Vince Carter\", \"Amir Coffey\", \"Allen Crabbe\", \"Allen Crabbe\", \"Jarrett Culver\", \"Luka Doncic\", \"PJ Dozier\", \"Jacob Evans\", \"Jacob Evans\", \"Evan Fournier\", \"Melvin Frazier Jr.\", \"Shai Gilgeous-Alexander\", \"Treveon Graham\", \"Treveon Graham\", \"Javonte Green\", \"Joe Harris\", \"Rodney Hood\", \"Kevin Huerter\", \"Andre Iguodala\", \"Josh Jackson\", \"Justin James\", \"DaQuan Jeffries\", \"Ty Jerome\", \"Furkan Korkmaz\", \"Kyle Korver\", \"Jeremy Lamb\", \"Romeo Langford\", \"Zach LaVine\", \"Damion Lee\", \"Timothe Luwawu-Cabarrot\", \"Terance Mann\", \"Malcolm Miller\", \"Shake Milton\", \"Dzanan Musa\", \"Svi Mykhailiuk\", \"Zach Norvell Jr.\", \"Zach Norvell Jr.\", \"David Nwaba\", \"Miye Oni\", \"Theo Pinson\", \"Kevin Porter Jr.\", \"Josh Reaves\", \"Terrence Ross\", \"Admiral Schofield\", \"Marial Shayok\", \"Max Strus\", \"Garrett Temple\", \"Matisse Thybulle\", \"Gary Trent Jr.\", \"Evan Turner\", \"Lonnie Walker IV\", \"Yuta Watanabe\", \"Kenrich Williams\", \"Justise Winslow\"], \"textfont\": {\"color\": \"#4D5663\"}, \"type\": \"scatter\", \"x\": [0.284, 0.28600000000000003, 0.327, 0.386, 0.231, 0.392, 0.368, 0.345, 0.344, 0.316, 0.33299999999999996, 0.217, 0.302, 0.14300000000000002, 0.32299999999999995, 0.231, 0.299, 0.318, 0.25, 0.342, 0.0, 0.406, 0.5710000000000001, 0.35100000000000003, 0.24100000000000002, 0.35100000000000003, 0.261, 0.41200000000000003, 0.493, 0.38, 0.375, 0.319, 0.34600000000000003, 0.25, 0.27699999999999997, 0.397, 0.415, 0.335, 0.217, 0.38, 0.35600000000000004, 0.358, 0.25, 0.316, 0.45299999999999996, 0.231, 0.40399999999999997, 0.0, 0.375, 0.429, 0.0, 0.188, 0.335, 0.0, 0.35700000000000004, 0.304, 0.33299999999999996, 0.0, 0.324, 0.35200000000000004, 0.38799999999999996, 0.0, 0.408, 0.375, 0.26, 0.222], \"y\": [67, 49, 171, 57, 65, 51, 359, 145, 96, 114, 111, 46, 202, 7, 93, 26, 221, 491, 28, 38, 1, 406, 7, 222, 83, 37, 23, 369, 71, 334, 24, 72, 26, 4, 47, 317, 207, 158, 23, 484, 239, 109, 12, 19, 106, 65, 285, 0, 8, 28, 1, 80, 158, 0, 454, 46, 3, 1, 346, 142, 201, 5, 71, 8, 96, 27]}, {\"marker\": {\"color\": \"rgba(128, 128, 0, 1.0)\", \"line\": {\"width\": 1.3}, \"opacity\": 0.8, \"size\": 12, \"symbol\": \"circle\"}, \"mode\": \"markers\", \"name\": \"Unknown\", \"text\": [\"Nicolo Melli\"], \"textfont\": {\"color\": \"#4D5663\"}, \"type\": \"scatter\", \"x\": [0.361], \"y\": [180]}],\n",
       "                        {\"legend\": {\"bgcolor\": \"#FFFFFF\", \"font\": {\"color\": \"#4D5663\"}}, \"paper_bgcolor\": \"#FFFFFF\", \"plot_bgcolor\": \"#FFFFFF\", \"template\": {\"data\": {\"bar\": [{\"error_x\": {\"color\": \"#2a3f5f\"}, \"error_y\": {\"color\": \"#2a3f5f\"}, \"marker\": {\"line\": {\"color\": \"#E5ECF6\", \"width\": 0.5}}, \"type\": \"bar\"}], \"barpolar\": [{\"marker\": {\"line\": {\"color\": \"#E5ECF6\", \"width\": 0.5}}, \"type\": \"barpolar\"}], \"carpet\": [{\"aaxis\": {\"endlinecolor\": \"#2a3f5f\", \"gridcolor\": \"white\", \"linecolor\": \"white\", \"minorgridcolor\": \"white\", \"startlinecolor\": \"#2a3f5f\"}, \"baxis\": {\"endlinecolor\": \"#2a3f5f\", \"gridcolor\": \"white\", \"linecolor\": \"white\", \"minorgridcolor\": \"white\", \"startlinecolor\": \"#2a3f5f\"}, \"type\": \"carpet\"}], \"choropleth\": [{\"colorbar\": {\"outlinewidth\": 0, \"ticks\": \"\"}, \"type\": \"choropleth\"}], \"contour\": [{\"colorbar\": {\"outlinewidth\": 0, \"ticks\": \"\"}, \"colorscale\": [[0.0, \"#0d0887\"], [0.1111111111111111, \"#46039f\"], [0.2222222222222222, \"#7201a8\"], [0.3333333333333333, \"#9c179e\"], [0.4444444444444444, \"#bd3786\"], [0.5555555555555556, \"#d8576b\"], [0.6666666666666666, \"#ed7953\"], [0.7777777777777778, \"#fb9f3a\"], [0.8888888888888888, \"#fdca26\"], [1.0, \"#f0f921\"]], \"type\": \"contour\"}], \"contourcarpet\": [{\"colorbar\": {\"outlinewidth\": 0, \"ticks\": \"\"}, \"type\": \"contourcarpet\"}], \"heatmap\": [{\"colorbar\": {\"outlinewidth\": 0, \"ticks\": \"\"}, \"colorscale\": [[0.0, \"#0d0887\"], [0.1111111111111111, \"#46039f\"], [0.2222222222222222, \"#7201a8\"], [0.3333333333333333, \"#9c179e\"], [0.4444444444444444, \"#bd3786\"], [0.5555555555555556, \"#d8576b\"], [0.6666666666666666, \"#ed7953\"], [0.7777777777777778, \"#fb9f3a\"], [0.8888888888888888, \"#fdca26\"], [1.0, \"#f0f921\"]], \"type\": \"heatmap\"}], \"heatmapgl\": [{\"colorbar\": {\"outlinewidth\": 0, \"ticks\": \"\"}, \"colorscale\": [[0.0, \"#0d0887\"], [0.1111111111111111, \"#46039f\"], [0.2222222222222222, \"#7201a8\"], [0.3333333333333333, \"#9c179e\"], [0.4444444444444444, \"#bd3786\"], [0.5555555555555556, \"#d8576b\"], [0.6666666666666666, \"#ed7953\"], [0.7777777777777778, \"#fb9f3a\"], [0.8888888888888888, \"#fdca26\"], [1.0, \"#f0f921\"]], \"type\": \"heatmapgl\"}], \"histogram\": [{\"marker\": {\"colorbar\": {\"outlinewidth\": 0, \"ticks\": \"\"}}, \"type\": \"histogram\"}], \"histogram2d\": [{\"colorbar\": {\"outlinewidth\": 0, \"ticks\": \"\"}, \"colorscale\": [[0.0, \"#0d0887\"], [0.1111111111111111, \"#46039f\"], [0.2222222222222222, \"#7201a8\"], [0.3333333333333333, \"#9c179e\"], [0.4444444444444444, \"#bd3786\"], [0.5555555555555556, \"#d8576b\"], [0.6666666666666666, \"#ed7953\"], [0.7777777777777778, \"#fb9f3a\"], [0.8888888888888888, \"#fdca26\"], [1.0, \"#f0f921\"]], \"type\": \"histogram2d\"}], \"histogram2dcontour\": [{\"colorbar\": {\"outlinewidth\": 0, \"ticks\": \"\"}, \"colorscale\": [[0.0, \"#0d0887\"], [0.1111111111111111, \"#46039f\"], [0.2222222222222222, \"#7201a8\"], [0.3333333333333333, \"#9c179e\"], [0.4444444444444444, \"#bd3786\"], [0.5555555555555556, \"#d8576b\"], [0.6666666666666666, \"#ed7953\"], [0.7777777777777778, \"#fb9f3a\"], [0.8888888888888888, \"#fdca26\"], [1.0, \"#f0f921\"]], \"type\": \"histogram2dcontour\"}], \"mesh3d\": [{\"colorbar\": {\"outlinewidth\": 0, \"ticks\": \"\"}, \"type\": \"mesh3d\"}], \"parcoords\": [{\"line\": {\"colorbar\": {\"outlinewidth\": 0, \"ticks\": \"\"}}, \"type\": \"parcoords\"}], \"pie\": [{\"automargin\": true, \"type\": \"pie\"}], \"scatter\": [{\"marker\": {\"colorbar\": {\"outlinewidth\": 0, \"ticks\": \"\"}}, \"type\": \"scatter\"}], \"scatter3d\": [{\"line\": {\"colorbar\": {\"outlinewidth\": 0, \"ticks\": \"\"}}, \"marker\": {\"colorbar\": {\"outlinewidth\": 0, \"ticks\": \"\"}}, \"type\": \"scatter3d\"}], \"scattercarpet\": [{\"marker\": {\"colorbar\": {\"outlinewidth\": 0, \"ticks\": \"\"}}, \"type\": \"scattercarpet\"}], \"scattergeo\": [{\"marker\": {\"colorbar\": {\"outlinewidth\": 0, \"ticks\": \"\"}}, \"type\": \"scattergeo\"}], \"scattergl\": [{\"marker\": {\"colorbar\": {\"outlinewidth\": 0, \"ticks\": \"\"}}, \"type\": \"scattergl\"}], \"scattermapbox\": [{\"marker\": {\"colorbar\": {\"outlinewidth\": 0, \"ticks\": \"\"}}, \"type\": \"scattermapbox\"}], \"scatterpolar\": [{\"marker\": {\"colorbar\": {\"outlinewidth\": 0, \"ticks\": \"\"}}, \"type\": \"scatterpolar\"}], \"scatterpolargl\": [{\"marker\": {\"colorbar\": {\"outlinewidth\": 0, \"ticks\": \"\"}}, \"type\": \"scatterpolargl\"}], \"scatterternary\": [{\"marker\": {\"colorbar\": {\"outlinewidth\": 0, \"ticks\": \"\"}}, \"type\": \"scatterternary\"}], \"surface\": [{\"colorbar\": {\"outlinewidth\": 0, \"ticks\": \"\"}, \"colorscale\": [[0.0, \"#0d0887\"], [0.1111111111111111, \"#46039f\"], [0.2222222222222222, \"#7201a8\"], [0.3333333333333333, \"#9c179e\"], [0.4444444444444444, \"#bd3786\"], [0.5555555555555556, \"#d8576b\"], [0.6666666666666666, \"#ed7953\"], [0.7777777777777778, \"#fb9f3a\"], [0.8888888888888888, \"#fdca26\"], [1.0, \"#f0f921\"]], \"type\": \"surface\"}], \"table\": [{\"cells\": {\"fill\": {\"color\": \"#EBF0F8\"}, \"line\": {\"color\": \"white\"}}, \"header\": {\"fill\": {\"color\": \"#C8D4E3\"}, \"line\": {\"color\": \"white\"}}, \"type\": \"table\"}]}, \"layout\": {\"annotationdefaults\": {\"arrowcolor\": \"#2a3f5f\", \"arrowhead\": 0, \"arrowwidth\": 1}, \"coloraxis\": {\"colorbar\": {\"outlinewidth\": 0, \"ticks\": \"\"}}, \"colorscale\": {\"diverging\": [[0, \"#8e0152\"], [0.1, \"#c51b7d\"], [0.2, \"#de77ae\"], [0.3, \"#f1b6da\"], [0.4, \"#fde0ef\"], [0.5, \"#f7f7f7\"], [0.6, \"#e6f5d0\"], [0.7, \"#b8e186\"], [0.8, \"#7fbc41\"], [0.9, \"#4d9221\"], [1, \"#276419\"]], \"sequential\": [[0.0, \"#0d0887\"], [0.1111111111111111, \"#46039f\"], [0.2222222222222222, \"#7201a8\"], [0.3333333333333333, \"#9c179e\"], [0.4444444444444444, \"#bd3786\"], [0.5555555555555556, \"#d8576b\"], [0.6666666666666666, \"#ed7953\"], [0.7777777777777778, \"#fb9f3a\"], [0.8888888888888888, \"#fdca26\"], [1.0, \"#f0f921\"]], \"sequentialminus\": [[0.0, \"#0d0887\"], [0.1111111111111111, \"#46039f\"], [0.2222222222222222, \"#7201a8\"], [0.3333333333333333, \"#9c179e\"], [0.4444444444444444, \"#bd3786\"], [0.5555555555555556, \"#d8576b\"], [0.6666666666666666, \"#ed7953\"], [0.7777777777777778, \"#fb9f3a\"], [0.8888888888888888, \"#fdca26\"], [1.0, \"#f0f921\"]]}, \"colorway\": [\"#636efa\", \"#EF553B\", \"#00cc96\", \"#ab63fa\", \"#FFA15A\", \"#19d3f3\", \"#FF6692\", \"#B6E880\", \"#FF97FF\", \"#FECB52\"], \"font\": {\"color\": \"#2a3f5f\"}, \"geo\": {\"bgcolor\": \"white\", \"lakecolor\": \"white\", \"landcolor\": \"#E5ECF6\", \"showlakes\": true, \"showland\": true, \"subunitcolor\": \"white\"}, \"hoverlabel\": {\"align\": \"left\"}, \"hovermode\": \"closest\", \"mapbox\": {\"style\": \"light\"}, \"paper_bgcolor\": \"white\", \"plot_bgcolor\": \"#E5ECF6\", \"polar\": {\"angularaxis\": {\"gridcolor\": \"white\", \"linecolor\": \"white\", \"ticks\": \"\"}, \"bgcolor\": \"#E5ECF6\", \"radialaxis\": {\"gridcolor\": \"white\", \"linecolor\": \"white\", \"ticks\": \"\"}}, \"scene\": {\"xaxis\": {\"backgroundcolor\": \"#E5ECF6\", \"gridcolor\": \"white\", \"gridwidth\": 2, \"linecolor\": \"white\", \"showbackground\": true, \"ticks\": \"\", \"zerolinecolor\": \"white\"}, \"yaxis\": {\"backgroundcolor\": \"#E5ECF6\", \"gridcolor\": \"white\", \"gridwidth\": 2, \"linecolor\": \"white\", \"showbackground\": true, \"ticks\": \"\", \"zerolinecolor\": \"white\"}, \"zaxis\": {\"backgroundcolor\": \"#E5ECF6\", \"gridcolor\": \"white\", \"gridwidth\": 2, \"linecolor\": \"white\", \"showbackground\": true, \"ticks\": \"\", \"zerolinecolor\": \"white\"}}, \"shapedefaults\": {\"line\": {\"color\": \"#2a3f5f\"}}, \"ternary\": {\"aaxis\": {\"gridcolor\": \"white\", \"linecolor\": \"white\", \"ticks\": \"\"}, \"baxis\": {\"gridcolor\": \"white\", \"linecolor\": \"white\", \"ticks\": \"\"}, \"bgcolor\": \"#E5ECF6\", \"caxis\": {\"gridcolor\": \"white\", \"linecolor\": \"white\", \"ticks\": \"\"}}, \"title\": {\"x\": 0.05}, \"xaxis\": {\"automargin\": true, \"gridcolor\": \"white\", \"linecolor\": \"white\", \"ticks\": \"\", \"title\": {\"standoff\": 15}, \"zerolinecolor\": \"white\", \"zerolinewidth\": 2}, \"yaxis\": {\"automargin\": true, \"gridcolor\": \"white\", \"linecolor\": \"white\", \"ticks\": \"\", \"title\": {\"standoff\": 15}, \"zerolinecolor\": \"white\", \"zerolinewidth\": 2}}}, \"title\": {\"font\": {\"color\": \"#4D5663\"}, \"text\": \"Best 3-Point Shooters\"}, \"xaxis\": {\"gridcolor\": \"#E1E5ED\", \"showgrid\": true, \"tickfont\": {\"color\": \"#4D5663\"}, \"title\": {\"font\": {\"color\": \"#4D5663\"}, \"text\": \"3P %\"}, \"zerolinecolor\": \"#E1E5ED\"}, \"yaxis\": {\"gridcolor\": \"#E1E5ED\", \"showgrid\": true, \"tickfont\": {\"color\": \"#4D5663\"}, \"title\": {\"font\": {\"color\": \"#4D5663\"}, \"text\": \"3P Attempts\"}, \"zerolinecolor\": \"#E1E5ED\"}},\n",
       "                        {\"showLink\": true, \"linkText\": \"Export to plot.ly\", \"plotlyServerURL\": \"https://plot.ly\", \"responsive\": true}\n",
       "                    ).then(function(){\n",
       "                            \n",
       "var gd = document.getElementById('a8aa2071-6c68-4ab6-9e89-e646662f7a2f');\n",
       "var x = new MutationObserver(function (mutations, observer) {{\n",
       "        var display = window.getComputedStyle(gd).display;\n",
       "        if (!display || display === 'none') {{\n",
       "            console.log([gd, 'removed!']);\n",
       "            Plotly.purge(gd);\n",
       "            observer.disconnect();\n",
       "        }}\n",
       "}});\n",
       "\n",
       "// Listen for the removal of the full notebook cells\n",
       "var notebookContainer = gd.closest('#notebook-container');\n",
       "if (notebookContainer) {{\n",
       "    x.observe(notebookContainer, {childList: true});\n",
       "}}\n",
       "\n",
       "// Listen for the clearing of the current output cell\n",
       "var outputEl = gd.closest('.output');\n",
       "if (outputEl) {{\n",
       "    x.observe(outputEl, {childList: true});\n",
       "}}\n",
       "\n",
       "                        })\n",
       "                };\n",
       "                });\n",
       "            </script>\n",
       "        </div>"
      ]
     },
     "metadata": {},
     "output_type": "display_data"
    }
   ],
   "source": [
    "df.iplot(kind=\"scatter\", theme='white',x=\"3P %\",y=\"3PA\",categories=\"Position\",\n",
    "         text='Player Name',title='Best 3-Point Shooters',xaxis_title='3P %',yaxis_title= \"3P Attempts\")"
   ]
  },
  {
   "cell_type": "code",
   "execution_count": 58,
   "metadata": {},
   "outputs": [
    {
     "data": {
      "application/vnd.plotly.v1+json": {
       "config": {
        "plotlyServerURL": "https://plot.ly"
       },
       "data": [
        {
         "alignmentgroup": "True",
         "box": {
          "visible": false
         },
         "hovertemplate": "Position=%{x}<br>3P %=%{y}<extra></extra>",
         "legendgroup": "",
         "marker": {
          "color": "#636efa"
         },
         "name": "",
         "offsetgroup": "",
         "orientation": "v",
         "scalegroup": "True",
         "showlegend": false,
         "type": "violin",
         "x": [
          "C",
          "C-F",
          "F-C",
          "G",
          "G",
          "C",
          "G",
          "F",
          "F-G",
          "F-G",
          "F",
          "F",
          "F",
          "F",
          "F",
          "F",
          "G",
          "F",
          "F",
          "G",
          "C",
          "G-F",
          "F",
          "G",
          "C",
          "G",
          "F",
          "F-G",
          "G",
          "F",
          "F",
          "G-F",
          "C-F",
          "G-F",
          "G-F",
          "F-G",
          "G",
          "G",
          "G",
          "G",
          "F",
          "F",
          "G-F",
          "F",
          "F",
          "F",
          "G",
          "C",
          "C-F",
          "C",
          "F",
          "G",
          "F",
          "G",
          "F",
          "F",
          "C",
          "G",
          "G",
          "G",
          "F-C",
          "F-G",
          "G",
          "G",
          "C-F",
          "F",
          "F",
          "F",
          "F",
          "F-G",
          "G-F",
          "G",
          "G-F",
          "G",
          "G-F",
          "G-F",
          "F-G",
          "C",
          "G-F",
          "G",
          "C-F",
          "G-F",
          "G",
          "G",
          "G",
          "G-F",
          "F",
          "F",
          "F",
          "G",
          "F",
          "C",
          "F",
          "F",
          "C-F",
          "G",
          "G-F",
          "G",
          "G",
          "C",
          "C",
          "C",
          "F",
          "G",
          "F",
          "G",
          "G",
          "F",
          "F-G",
          "F",
          "F",
          "G",
          "G",
          "F-C",
          "G",
          "G",
          "G-F",
          "F",
          "F-C",
          "G",
          "G",
          "G",
          "F",
          "F",
          "F",
          "G-F",
          "G-F",
          "F",
          "F",
          "F",
          "G-F",
          "G",
          "G",
          "G",
          "F",
          "F-C",
          "F",
          "G",
          "C",
          "C",
          "G",
          "F",
          "F-C",
          "G",
          "C",
          "C",
          "G",
          "G",
          "G-F",
          "G",
          "G",
          "F",
          "G-F",
          "G",
          "C",
          "C",
          "F",
          "G",
          "G",
          "F-C",
          "G",
          "C-F",
          "F",
          "F",
          "F-C",
          "G-F",
          "G-F",
          "G",
          "G",
          "C",
          "F",
          "F-C",
          "G",
          "F-C",
          "G",
          "F",
          "G",
          "G-F",
          "G",
          "G-F",
          "G",
          "G",
          "G",
          "F",
          "F",
          "F-C",
          "F",
          "G",
          "G",
          "C",
          "F-G",
          "F",
          "F",
          "F-C",
          "G-F",
          "C",
          "G",
          "F",
          "G",
          "G",
          "G-F",
          "G-F",
          "F",
          "G",
          "G",
          "F",
          "F-C",
          "G-F",
          "F",
          "F",
          "F",
          "G",
          "G",
          "F",
          "G",
          "F",
          "G",
          "G",
          "G",
          "F-G",
          "F-G",
          "G",
          "F-C",
          "G",
          "G-F",
          "G",
          "F",
          "C-F",
          "G",
          "F",
          "C-F",
          "F",
          "F-C",
          "F-C",
          "C-F",
          "F",
          "F",
          "C-F",
          "G",
          "F",
          "F-G",
          "G",
          "G",
          "F",
          "F",
          "F",
          "G",
          "G",
          "F-G",
          "F",
          "F",
          "G-F",
          "C-F",
          "G",
          "F-G",
          "C-F",
          "F-G",
          "G-F",
          "F-G",
          "F-G",
          "F",
          "G-F",
          "F",
          "F-G",
          "F",
          "G",
          "F",
          "F",
          "F-C",
          "G",
          "G-F",
          "F",
          "G",
          "G",
          "G-F",
          "F",
          "F",
          "G-F",
          "G-F",
          "F",
          "F",
          "F",
          "F",
          "F",
          "F-G",
          "F-G",
          "G",
          "C",
          "F",
          "C",
          "G",
          "C",
          "G",
          "F-C",
          "F-C",
          "C",
          "G",
          "F",
          "F",
          "F",
          "F",
          "F",
          "G",
          "G",
          "F",
          "G",
          "G-F",
          "C-F",
          "G-F",
          "F",
          "F",
          "F-C",
          "G-F",
          "G-F",
          "G-F",
          "F",
          "F",
          "F",
          "G",
          "G",
          "G-F",
          "C",
          "C",
          "F",
          "C",
          "G",
          "G",
          "F-G",
          "F",
          "C",
          "C",
          "F",
          "G",
          "G-F",
          "F",
          "G",
          "G",
          "G",
          "C",
          "F-C",
          "G-F",
          "C",
          "F-C",
          "F",
          "F",
          "G",
          "F",
          "G",
          "G",
          "G",
          "G",
          "G",
          "G",
          "F-C",
          "F",
          "C-F",
          "G",
          "F",
          "G",
          "G",
          "G",
          "G",
          "G",
          "Unknown",
          "G",
          "F-C",
          "F",
          "C",
          "G",
          "G-F",
          "F",
          "G",
          "G-F",
          "G",
          "G",
          "G",
          "G",
          "G",
          "G",
          "G",
          "F",
          "F",
          "F",
          "F",
          "F",
          "G",
          "F",
          "G",
          "G",
          "G",
          "G",
          "G-F",
          "F-C",
          "G-F",
          "F",
          "F-C",
          "G",
          "G",
          "G",
          "G",
          "F",
          "C-F",
          "G-F",
          "G-F",
          "G",
          "G",
          "G",
          "G-F",
          "F",
          "C-F",
          "F-G",
          "G",
          "F-G",
          "G",
          "C",
          "F",
          "G-F",
          "C-F",
          "F",
          "F-G",
          "F",
          "G",
          "F",
          "F",
          "F",
          "F",
          "C",
          "F",
          "C",
          "G",
          "G",
          "G",
          "F",
          "G-F",
          "F-C",
          "C",
          "C-F",
          "G",
          "G",
          "G-F",
          "F",
          "F",
          "F",
          "F-C",
          "F-C",
          "G",
          "F",
          "G",
          "C-F",
          "G-F",
          "F-G",
          "G",
          "C-F",
          "G",
          "G",
          "F",
          "F",
          "F",
          "G",
          "G",
          "G",
          "C-F",
          "F",
          "G",
          "G",
          "G-F",
          "G",
          "G",
          "G",
          "G",
          "F-C",
          "F",
          "F",
          "F",
          "G",
          "G-F",
          "G",
          "F",
          "F-G",
          "G",
          "G",
          "G-F",
          "G",
          "F",
          "F",
          "F",
          "G",
          "F",
          "G",
          "G",
          "G",
          "G",
          "G",
          "F",
          "G-F",
          "G",
          "F",
          "F",
          "F-G",
          "G",
          "G",
          "G-F",
          "F",
          "G",
          "G",
          "G",
          "C-F",
          "G-F",
          "F",
          "F",
          "F",
          "F",
          "C-F",
          "G-F",
          "G",
          "F",
          "G",
          "G-F",
          "C-F",
          "F",
          "C",
          "G",
          "F",
          "F",
          "G",
          "G",
          "F",
          "F",
          "C",
          "F-C",
          "F-C",
          "G",
          "G-F",
          "G",
          "G",
          "G",
          "G",
          "G",
          "F",
          "F",
          "G-F",
          "G",
          "G",
          "G",
          "G",
          "G",
          "G",
          "G",
          "C",
          "F",
          "F",
          "C-F",
          "G",
          "F",
          "F",
          "G-F",
          "G",
          "F",
          "F",
          "F",
          "F-C",
          "G-F",
          "F",
          "G",
          "G",
          "F",
          "G",
          "C"
         ],
         "x0": " ",
         "xaxis": "x",
         "y": [
          0.33299999999999996,
          0.077,
          0.389,
          0.342,
          0.363,
          0,
          0.313,
          0.25,
          0,
          0.258,
          0.2,
          0.306,
          0,
          0,
          0.371,
          0.381,
          0.391,
          0.35200000000000004,
          0.4,
          0.345,
          0,
          0.284,
          0.182,
          0.38299999999999995,
          0.35600000000000004,
          0.382,
          0.38299999999999995,
          0.32,
          0.375,
          0.33,
          0,
          0.28600000000000003,
          0.35100000000000003,
          0.327,
          0.386,
          0.3,
          0.353,
          0.36,
          0.426,
          0.368,
          0.222,
          0.667,
          0.231,
          0.444,
          0.324,
          0.424,
          0.379,
          0,
          0.16699999999999998,
          0,
          0.42200000000000004,
          0.348,
          0.414,
          0.361,
          0,
          0,
          0,
          0.2,
          0.4,
          0.36,
          0.28300000000000003,
          0,
          0.308,
          0.364,
          1,
          0,
          0.111,
          0.33,
          0.35200000000000004,
          0.2,
          0.392,
          0.313,
          0.368,
          0.33299999999999996,
          0.345,
          0.344,
          0.381,
          0,
          0.316,
          0.358,
          0.40700000000000003,
          0.33299999999999996,
          0.42100000000000004,
          0.375,
          0.327,
          0.217,
          0.248,
          0.16,
          0,
          0.39399999999999996,
          0.16699999999999998,
          0,
          0.231,
          0.28600000000000003,
          0.207,
          0.39299999999999996,
          0.302,
          0.294,
          0.355,
          0,
          0,
          0,
          0.306,
          0,
          0,
          0.43799999999999994,
          0.44,
          0.205,
          0.40399999999999997,
          0.353,
          0.28600000000000003,
          0.371,
          0.366,
          0.14300000000000002,
          0.35100000000000003,
          0,
          0.14300000000000002,
          0.401,
          0.429,
          0.376,
          0.321,
          0.379,
          0,
          0.34600000000000003,
          0.35700000000000004,
          0.32299999999999995,
          0.231,
          0.33,
          0.293,
          0.39299999999999996,
          0.299,
          0.45299999999999996,
          0.245,
          0.35700000000000004,
          0,
          0.335,
          0,
          0.396,
          0.19699999999999998,
          0.222,
          0.231,
          0.267,
          0.5,
          0.2,
          0.38299999999999995,
          0.22699999999999998,
          0.308,
          0.344,
          0.318,
          0.301,
          0.36200000000000004,
          0.28600000000000003,
          0.25,
          0.377,
          0.048,
          0.28600000000000003,
          0.47100000000000003,
          0.259,
          0.309,
          0,
          0.35,
          0.348,
          0.349,
          0.303,
          1,
          0.342,
          0,
          0.33299999999999996,
          0.35100000000000003,
          0,
          0.14300000000000002,
          0,
          0.297,
          0.135,
          0.275,
          0.374,
          0.38799999999999996,
          0.406,
          0.307,
          0.5710000000000001,
          0.25,
          0.33299999999999996,
          0.254,
          0.125,
          0.41700000000000004,
          0,
          0.409,
          0.39899999999999997,
          0.355,
          0.402,
          0.314,
          0.39899999999999997,
          0.28600000000000003,
          0,
          0.35100000000000003,
          0,
          0.299,
          0.301,
          0.319,
          0.373,
          0.24100000000000002,
          0.35100000000000003,
          0.4,
          0,
          0.37799999999999995,
          0.27899999999999997,
          0.363,
          0.261,
          0.327,
          0.41200000000000003,
          0.243,
          0.309,
          0,
          0.27399999999999997,
          0,
          0,
          0.667,
          0.40700000000000003,
          0.35200000000000004,
          0.37,
          0.28,
          0,
          0,
          0.33299999999999996,
          0.41200000000000003,
          0.381,
          0.36200000000000004,
          0,
          0.342,
          0,
          0.25,
          0.392,
          0.19399999999999998,
          0.4,
          0,
          0.25,
          0.42,
          0.22699999999999998,
          0.391,
          0,
          0.32799999999999996,
          0.395,
          0.48,
          0.384,
          0.33299999999999996,
          0,
          0.39399999999999996,
          0.35700000000000004,
          0.424,
          0.11800000000000001,
          0,
          0.493,
          0.337,
          0,
          0.363,
          0.6,
          0,
          0.38,
          0.355,
          0.316,
          0.39799999999999996,
          0.375,
          0.371,
          0.397,
          0.387,
          0.39399999999999996,
          0.33,
          0.313,
          0.397,
          0.325,
          0.319,
          0.298,
          0.37799999999999995,
          0.452,
          0.34600000000000003,
          0.349,
          0,
          0.25,
          0.27699999999999997,
          0,
          0.16699999999999998,
          0.397,
          0.35600000000000004,
          0.37,
          0.4,
          0.154,
          0.289,
          0.314,
          0.27,
          0.222,
          0.379,
          0,
          0.35100000000000003,
          0.45,
          0.348,
          0.14300000000000002,
          0.39899999999999997,
          0.294,
          0,
          0,
          0.364,
          0.374,
          0.297,
          0.38799999999999996,
          0.327,
          0.444,
          0.397,
          0.287,
          0.415,
          0.385,
          0.297,
          0.231,
          0.335,
          0.217,
          0.38,
          0,
          0.33299999999999996,
          0.35700000000000004,
          0,
          0.447,
          0.35600000000000004,
          0.25,
          0,
          0.366,
          0.429,
          0.381,
          0.39399999999999996,
          0.237,
          0.071,
          0.29600000000000004,
          0.344,
          0.374,
          0.354,
          0.358,
          0.387,
          0.5,
          0,
          0.25,
          0.192,
          0.344,
          0.25,
          0.267,
          0.344,
          0.541,
          0.23399999999999999,
          0,
          0.26,
          0.2,
          0.413,
          0.365,
          0.324,
          0.38,
          0.33299999999999996,
          0.375,
          0.445,
          0.5,
          0.278,
          0.215,
          0.382,
          0.395,
          0.377,
          0.5,
          0.188,
          0.361,
          0.316,
          0,
          0.418,
          0,
          0.314,
          0.316,
          0.44,
          0.38,
          0.45299999999999996,
          0.364,
          0.182,
          0.4,
          0.284,
          0,
          0.375,
          0.36700000000000005,
          0.2,
          0.439,
          0.28300000000000003,
          0.397,
          0.273,
          0.375,
          1,
          0.355,
          0.308,
          0.37799999999999995,
          0.345,
          0.231,
          0.358,
          0.40399999999999997,
          0.371,
          0.35200000000000004,
          0.29600000000000004,
          0.381,
          0.39399999999999996,
          0,
          0.41600000000000004,
          0.33299999999999996,
          0,
          0.375,
          0.115,
          0.321,
          0.36200000000000004,
          0.429,
          0.36700000000000005,
          0.5,
          0.35200000000000004,
          0.266,
          0,
          0.304,
          0.43200000000000005,
          0.389,
          0,
          0.304,
          0.38299999999999995,
          0.35200000000000004,
          0,
          0.429,
          0.27,
          0,
          0.28600000000000003,
          0.287,
          0,
          0.387,
          0.25,
          0.36200000000000004,
          0.28300000000000003,
          0.203,
          0,
          0.188,
          0,
          0,
          0.5,
          0.5,
          0.27899999999999997,
          0.335,
          0.42200000000000004,
          0.387,
          0.358,
          0.349,
          0.256,
          0.39799999999999996,
          0.33899999999999997,
          0,
          0.27699999999999997,
          0,
          0.332,
          0.452,
          0.33,
          0.327,
          0.358,
          0.4,
          0.28600000000000003,
          0.44799999999999995,
          0.284,
          0.324,
          0.6,
          0,
          0,
          0.32799999999999996,
          0.306,
          0.35700000000000004,
          0.405,
          0.35100000000000003,
          0.374,
          0.345,
          0.254,
          0,
          0.154,
          0.341,
          0.322,
          0.304,
          0.381,
          0.358,
          0.278,
          0.38,
          0.392,
          0.33299999999999996,
          0.242,
          0.359,
          0,
          0.33299999999999996,
          0.33799999999999997,
          0.231,
          0.348,
          0.29600000000000004,
          0.36700000000000005,
          0,
          0.402,
          0.391,
          0,
          0.263,
          0,
          0,
          0.39799999999999996,
          0.379,
          0.33299999999999996,
          0.324,
          0.321,
          0.413,
          0.35700000000000004,
          0.467,
          0.391,
          0.35200000000000004,
          0.337,
          0.133,
          0.41200000000000003,
          0.348,
          0.41200000000000003,
          0.38799999999999996,
          0.358,
          0.37,
          0,
          0,
          0.336,
          0,
          0.36700000000000005,
          0.336,
          0,
          0,
          0.38799999999999996,
          0.25,
          0.14300000000000002,
          1,
          0.32899999999999996,
          0.5,
          0.34299999999999997,
          0.47100000000000003,
          0.408,
          0.377,
          0.067,
          0.429,
          0.33299999999999996,
          0.36700000000000005,
          0.375,
          0.374,
          0.375,
          0.17600000000000002,
          0,
          0,
          0,
          0.254,
          0.354,
          0.35600000000000004,
          0.5710000000000001,
          0.331,
          0.33899999999999997,
          0,
          0,
          0.247,
          0,
          0.26,
          0.363,
          0.376,
          0.29600000000000004,
          0.462,
          0.255,
          0.222,
          0.386,
          0.381,
          0,
          0.354,
          0.361,
          0.24
         ],
         "y0": " ",
         "yaxis": "y"
        }
       ],
       "layout": {
        "legend": {
         "tracegroupgap": 0
        },
        "template": {
         "data": {
          "bar": [
           {
            "error_x": {
             "color": "rgb(36,36,36)"
            },
            "error_y": {
             "color": "rgb(36,36,36)"
            },
            "marker": {
             "line": {
              "color": "white",
              "width": 0.5
             }
            },
            "type": "bar"
           }
          ],
          "barpolar": [
           {
            "marker": {
             "line": {
              "color": "white",
              "width": 0.5
             }
            },
            "type": "barpolar"
           }
          ],
          "carpet": [
           {
            "aaxis": {
             "endlinecolor": "rgb(36,36,36)",
             "gridcolor": "white",
             "linecolor": "white",
             "minorgridcolor": "white",
             "startlinecolor": "rgb(36,36,36)"
            },
            "baxis": {
             "endlinecolor": "rgb(36,36,36)",
             "gridcolor": "white",
             "linecolor": "white",
             "minorgridcolor": "white",
             "startlinecolor": "rgb(36,36,36)"
            },
            "type": "carpet"
           }
          ],
          "choropleth": [
           {
            "colorbar": {
             "outlinewidth": 1,
             "tickcolor": "rgb(36,36,36)",
             "ticks": "outside"
            },
            "type": "choropleth"
           }
          ],
          "contour": [
           {
            "colorbar": {
             "outlinewidth": 1,
             "tickcolor": "rgb(36,36,36)",
             "ticks": "outside"
            },
            "colorscale": [
             [
              0,
              "#440154"
             ],
             [
              0.1111111111111111,
              "#482878"
             ],
             [
              0.2222222222222222,
              "#3e4989"
             ],
             [
              0.3333333333333333,
              "#31688e"
             ],
             [
              0.4444444444444444,
              "#26828e"
             ],
             [
              0.5555555555555556,
              "#1f9e89"
             ],
             [
              0.6666666666666666,
              "#35b779"
             ],
             [
              0.7777777777777778,
              "#6ece58"
             ],
             [
              0.8888888888888888,
              "#b5de2b"
             ],
             [
              1,
              "#fde725"
             ]
            ],
            "type": "contour"
           }
          ],
          "contourcarpet": [
           {
            "colorbar": {
             "outlinewidth": 1,
             "tickcolor": "rgb(36,36,36)",
             "ticks": "outside"
            },
            "type": "contourcarpet"
           }
          ],
          "heatmap": [
           {
            "colorbar": {
             "outlinewidth": 1,
             "tickcolor": "rgb(36,36,36)",
             "ticks": "outside"
            },
            "colorscale": [
             [
              0,
              "#440154"
             ],
             [
              0.1111111111111111,
              "#482878"
             ],
             [
              0.2222222222222222,
              "#3e4989"
             ],
             [
              0.3333333333333333,
              "#31688e"
             ],
             [
              0.4444444444444444,
              "#26828e"
             ],
             [
              0.5555555555555556,
              "#1f9e89"
             ],
             [
              0.6666666666666666,
              "#35b779"
             ],
             [
              0.7777777777777778,
              "#6ece58"
             ],
             [
              0.8888888888888888,
              "#b5de2b"
             ],
             [
              1,
              "#fde725"
             ]
            ],
            "type": "heatmap"
           }
          ],
          "heatmapgl": [
           {
            "colorbar": {
             "outlinewidth": 1,
             "tickcolor": "rgb(36,36,36)",
             "ticks": "outside"
            },
            "colorscale": [
             [
              0,
              "#440154"
             ],
             [
              0.1111111111111111,
              "#482878"
             ],
             [
              0.2222222222222222,
              "#3e4989"
             ],
             [
              0.3333333333333333,
              "#31688e"
             ],
             [
              0.4444444444444444,
              "#26828e"
             ],
             [
              0.5555555555555556,
              "#1f9e89"
             ],
             [
              0.6666666666666666,
              "#35b779"
             ],
             [
              0.7777777777777778,
              "#6ece58"
             ],
             [
              0.8888888888888888,
              "#b5de2b"
             ],
             [
              1,
              "#fde725"
             ]
            ],
            "type": "heatmapgl"
           }
          ],
          "histogram": [
           {
            "marker": {
             "line": {
              "color": "white",
              "width": 0.6
             }
            },
            "type": "histogram"
           }
          ],
          "histogram2d": [
           {
            "colorbar": {
             "outlinewidth": 1,
             "tickcolor": "rgb(36,36,36)",
             "ticks": "outside"
            },
            "colorscale": [
             [
              0,
              "#440154"
             ],
             [
              0.1111111111111111,
              "#482878"
             ],
             [
              0.2222222222222222,
              "#3e4989"
             ],
             [
              0.3333333333333333,
              "#31688e"
             ],
             [
              0.4444444444444444,
              "#26828e"
             ],
             [
              0.5555555555555556,
              "#1f9e89"
             ],
             [
              0.6666666666666666,
              "#35b779"
             ],
             [
              0.7777777777777778,
              "#6ece58"
             ],
             [
              0.8888888888888888,
              "#b5de2b"
             ],
             [
              1,
              "#fde725"
             ]
            ],
            "type": "histogram2d"
           }
          ],
          "histogram2dcontour": [
           {
            "colorbar": {
             "outlinewidth": 1,
             "tickcolor": "rgb(36,36,36)",
             "ticks": "outside"
            },
            "colorscale": [
             [
              0,
              "#440154"
             ],
             [
              0.1111111111111111,
              "#482878"
             ],
             [
              0.2222222222222222,
              "#3e4989"
             ],
             [
              0.3333333333333333,
              "#31688e"
             ],
             [
              0.4444444444444444,
              "#26828e"
             ],
             [
              0.5555555555555556,
              "#1f9e89"
             ],
             [
              0.6666666666666666,
              "#35b779"
             ],
             [
              0.7777777777777778,
              "#6ece58"
             ],
             [
              0.8888888888888888,
              "#b5de2b"
             ],
             [
              1,
              "#fde725"
             ]
            ],
            "type": "histogram2dcontour"
           }
          ],
          "mesh3d": [
           {
            "colorbar": {
             "outlinewidth": 1,
             "tickcolor": "rgb(36,36,36)",
             "ticks": "outside"
            },
            "type": "mesh3d"
           }
          ],
          "parcoords": [
           {
            "line": {
             "colorbar": {
              "outlinewidth": 1,
              "tickcolor": "rgb(36,36,36)",
              "ticks": "outside"
             }
            },
            "type": "parcoords"
           }
          ],
          "pie": [
           {
            "automargin": true,
            "type": "pie"
           }
          ],
          "scatter": [
           {
            "marker": {
             "colorbar": {
              "outlinewidth": 1,
              "tickcolor": "rgb(36,36,36)",
              "ticks": "outside"
             }
            },
            "type": "scatter"
           }
          ],
          "scatter3d": [
           {
            "line": {
             "colorbar": {
              "outlinewidth": 1,
              "tickcolor": "rgb(36,36,36)",
              "ticks": "outside"
             }
            },
            "marker": {
             "colorbar": {
              "outlinewidth": 1,
              "tickcolor": "rgb(36,36,36)",
              "ticks": "outside"
             }
            },
            "type": "scatter3d"
           }
          ],
          "scattercarpet": [
           {
            "marker": {
             "colorbar": {
              "outlinewidth": 1,
              "tickcolor": "rgb(36,36,36)",
              "ticks": "outside"
             }
            },
            "type": "scattercarpet"
           }
          ],
          "scattergeo": [
           {
            "marker": {
             "colorbar": {
              "outlinewidth": 1,
              "tickcolor": "rgb(36,36,36)",
              "ticks": "outside"
             }
            },
            "type": "scattergeo"
           }
          ],
          "scattergl": [
           {
            "marker": {
             "colorbar": {
              "outlinewidth": 1,
              "tickcolor": "rgb(36,36,36)",
              "ticks": "outside"
             }
            },
            "type": "scattergl"
           }
          ],
          "scattermapbox": [
           {
            "marker": {
             "colorbar": {
              "outlinewidth": 1,
              "tickcolor": "rgb(36,36,36)",
              "ticks": "outside"
             }
            },
            "type": "scattermapbox"
           }
          ],
          "scatterpolar": [
           {
            "marker": {
             "colorbar": {
              "outlinewidth": 1,
              "tickcolor": "rgb(36,36,36)",
              "ticks": "outside"
             }
            },
            "type": "scatterpolar"
           }
          ],
          "scatterpolargl": [
           {
            "marker": {
             "colorbar": {
              "outlinewidth": 1,
              "tickcolor": "rgb(36,36,36)",
              "ticks": "outside"
             }
            },
            "type": "scatterpolargl"
           }
          ],
          "scatterternary": [
           {
            "marker": {
             "colorbar": {
              "outlinewidth": 1,
              "tickcolor": "rgb(36,36,36)",
              "ticks": "outside"
             }
            },
            "type": "scatterternary"
           }
          ],
          "surface": [
           {
            "colorbar": {
             "outlinewidth": 1,
             "tickcolor": "rgb(36,36,36)",
             "ticks": "outside"
            },
            "colorscale": [
             [
              0,
              "#440154"
             ],
             [
              0.1111111111111111,
              "#482878"
             ],
             [
              0.2222222222222222,
              "#3e4989"
             ],
             [
              0.3333333333333333,
              "#31688e"
             ],
             [
              0.4444444444444444,
              "#26828e"
             ],
             [
              0.5555555555555556,
              "#1f9e89"
             ],
             [
              0.6666666666666666,
              "#35b779"
             ],
             [
              0.7777777777777778,
              "#6ece58"
             ],
             [
              0.8888888888888888,
              "#b5de2b"
             ],
             [
              1,
              "#fde725"
             ]
            ],
            "type": "surface"
           }
          ],
          "table": [
           {
            "cells": {
             "fill": {
              "color": "rgb(237,237,237)"
             },
             "line": {
              "color": "white"
             }
            },
            "header": {
             "fill": {
              "color": "rgb(217,217,217)"
             },
             "line": {
              "color": "white"
             }
            },
            "type": "table"
           }
          ]
         },
         "layout": {
          "annotationdefaults": {
           "arrowhead": 0,
           "arrowwidth": 1
          },
          "coloraxis": {
           "colorbar": {
            "outlinewidth": 1,
            "tickcolor": "rgb(36,36,36)",
            "ticks": "outside"
           }
          },
          "colorscale": {
           "diverging": [
            [
             0,
             "rgb(103,0,31)"
            ],
            [
             0.1,
             "rgb(178,24,43)"
            ],
            [
             0.2,
             "rgb(214,96,77)"
            ],
            [
             0.3,
             "rgb(244,165,130)"
            ],
            [
             0.4,
             "rgb(253,219,199)"
            ],
            [
             0.5,
             "rgb(247,247,247)"
            ],
            [
             0.6,
             "rgb(209,229,240)"
            ],
            [
             0.7,
             "rgb(146,197,222)"
            ],
            [
             0.8,
             "rgb(67,147,195)"
            ],
            [
             0.9,
             "rgb(33,102,172)"
            ],
            [
             1,
             "rgb(5,48,97)"
            ]
           ],
           "sequential": [
            [
             0,
             "#440154"
            ],
            [
             0.1111111111111111,
             "#482878"
            ],
            [
             0.2222222222222222,
             "#3e4989"
            ],
            [
             0.3333333333333333,
             "#31688e"
            ],
            [
             0.4444444444444444,
             "#26828e"
            ],
            [
             0.5555555555555556,
             "#1f9e89"
            ],
            [
             0.6666666666666666,
             "#35b779"
            ],
            [
             0.7777777777777778,
             "#6ece58"
            ],
            [
             0.8888888888888888,
             "#b5de2b"
            ],
            [
             1,
             "#fde725"
            ]
           ],
           "sequentialminus": [
            [
             0,
             "#440154"
            ],
            [
             0.1111111111111111,
             "#482878"
            ],
            [
             0.2222222222222222,
             "#3e4989"
            ],
            [
             0.3333333333333333,
             "#31688e"
            ],
            [
             0.4444444444444444,
             "#26828e"
            ],
            [
             0.5555555555555556,
             "#1f9e89"
            ],
            [
             0.6666666666666666,
             "#35b779"
            ],
            [
             0.7777777777777778,
             "#6ece58"
            ],
            [
             0.8888888888888888,
             "#b5de2b"
            ],
            [
             1,
             "#fde725"
            ]
           ]
          },
          "colorway": [
           "#1F77B4",
           "#FF7F0E",
           "#2CA02C",
           "#D62728",
           "#9467BD",
           "#8C564B",
           "#E377C2",
           "#7F7F7F",
           "#BCBD22",
           "#17BECF"
          ],
          "font": {
           "color": "rgb(36,36,36)"
          },
          "geo": {
           "bgcolor": "white",
           "lakecolor": "white",
           "landcolor": "white",
           "showlakes": true,
           "showland": true,
           "subunitcolor": "white"
          },
          "hoverlabel": {
           "align": "left"
          },
          "hovermode": "closest",
          "mapbox": {
           "style": "light"
          },
          "paper_bgcolor": "white",
          "plot_bgcolor": "white",
          "polar": {
           "angularaxis": {
            "gridcolor": "rgb(232,232,232)",
            "linecolor": "rgb(36,36,36)",
            "showgrid": false,
            "showline": true,
            "ticks": "outside"
           },
           "bgcolor": "white",
           "radialaxis": {
            "gridcolor": "rgb(232,232,232)",
            "linecolor": "rgb(36,36,36)",
            "showgrid": false,
            "showline": true,
            "ticks": "outside"
           }
          },
          "scene": {
           "xaxis": {
            "backgroundcolor": "white",
            "gridcolor": "rgb(232,232,232)",
            "gridwidth": 2,
            "linecolor": "rgb(36,36,36)",
            "showbackground": true,
            "showgrid": false,
            "showline": true,
            "ticks": "outside",
            "zeroline": false,
            "zerolinecolor": "rgb(36,36,36)"
           },
           "yaxis": {
            "backgroundcolor": "white",
            "gridcolor": "rgb(232,232,232)",
            "gridwidth": 2,
            "linecolor": "rgb(36,36,36)",
            "showbackground": true,
            "showgrid": false,
            "showline": true,
            "ticks": "outside",
            "zeroline": false,
            "zerolinecolor": "rgb(36,36,36)"
           },
           "zaxis": {
            "backgroundcolor": "white",
            "gridcolor": "rgb(232,232,232)",
            "gridwidth": 2,
            "linecolor": "rgb(36,36,36)",
            "showbackground": true,
            "showgrid": false,
            "showline": true,
            "ticks": "outside",
            "zeroline": false,
            "zerolinecolor": "rgb(36,36,36)"
           }
          },
          "shapedefaults": {
           "fillcolor": "black",
           "line": {
            "width": 0
           },
           "opacity": 0.3
          },
          "ternary": {
           "aaxis": {
            "gridcolor": "rgb(232,232,232)",
            "linecolor": "rgb(36,36,36)",
            "showgrid": false,
            "showline": true,
            "ticks": "outside"
           },
           "baxis": {
            "gridcolor": "rgb(232,232,232)",
            "linecolor": "rgb(36,36,36)",
            "showgrid": false,
            "showline": true,
            "ticks": "outside"
           },
           "bgcolor": "white",
           "caxis": {
            "gridcolor": "rgb(232,232,232)",
            "linecolor": "rgb(36,36,36)",
            "showgrid": false,
            "showline": true,
            "ticks": "outside"
           }
          },
          "title": {
           "x": 0.05
          },
          "xaxis": {
           "automargin": true,
           "gridcolor": "rgb(232,232,232)",
           "linecolor": "rgb(36,36,36)",
           "showgrid": false,
           "showline": true,
           "ticks": "outside",
           "title": {
            "standoff": 15
           },
           "zeroline": false,
           "zerolinecolor": "rgb(36,36,36)"
          },
          "yaxis": {
           "automargin": true,
           "gridcolor": "rgb(232,232,232)",
           "linecolor": "rgb(36,36,36)",
           "showgrid": false,
           "showline": true,
           "ticks": "outside",
           "title": {
            "standoff": 15
           },
           "zeroline": false,
           "zerolinecolor": "rgb(36,36,36)"
          }
         }
        },
        "title": {
         "text": "3-point % by position"
        },
        "violinmode": "group",
        "xaxis": {
         "anchor": "y",
         "domain": [
          0,
          1
         ],
         "title": {
          "text": "Position"
         }
        },
        "yaxis": {
         "anchor": "x",
         "domain": [
          0,
          1
         ],
         "title": {
          "text": "3P %"
         }
        }
       }
      },
      "text/html": [
       "<div>\n",
       "        \n",
       "        \n",
       "            <div id=\"3117d794-0746-4c46-8b24-fc053f0c070b\" class=\"plotly-graph-div\" style=\"height:525px; width:100%;\"></div>\n",
       "            <script type=\"text/javascript\">\n",
       "                require([\"plotly\"], function(Plotly) {\n",
       "                    window.PLOTLYENV=window.PLOTLYENV || {};\n",
       "                    \n",
       "                if (document.getElementById(\"3117d794-0746-4c46-8b24-fc053f0c070b\")) {\n",
       "                    Plotly.newPlot(\n",
       "                        '3117d794-0746-4c46-8b24-fc053f0c070b',\n",
       "                        [{\"alignmentgroup\": \"True\", \"box\": {\"visible\": false}, \"hovertemplate\": \"Position=%{x}<br>3P %=%{y}<extra></extra>\", \"legendgroup\": \"\", \"marker\": {\"color\": \"#636efa\"}, \"name\": \"\", \"offsetgroup\": \"\", \"orientation\": \"v\", \"scalegroup\": \"True\", \"showlegend\": false, \"type\": \"violin\", \"x\": [\"C\", \"C-F\", \"F-C\", \"G\", \"G\", \"C\", \"G\", \"F\", \"F-G\", \"F-G\", \"F\", \"F\", \"F\", \"F\", \"F\", \"F\", \"G\", \"F\", \"F\", \"G\", \"C\", \"G-F\", \"F\", \"G\", \"C\", \"G\", \"F\", \"F-G\", \"G\", \"F\", \"F\", \"G-F\", \"C-F\", \"G-F\", \"G-F\", \"F-G\", \"G\", \"G\", \"G\", \"G\", \"F\", \"F\", \"G-F\", \"F\", \"F\", \"F\", \"G\", \"C\", \"C-F\", \"C\", \"F\", \"G\", \"F\", \"G\", \"F\", \"F\", \"C\", \"G\", \"G\", \"G\", \"F-C\", \"F-G\", \"G\", \"G\", \"C-F\", \"F\", \"F\", \"F\", \"F\", \"F-G\", \"G-F\", \"G\", \"G-F\", \"G\", \"G-F\", \"G-F\", \"F-G\", \"C\", \"G-F\", \"G\", \"C-F\", \"G-F\", \"G\", \"G\", \"G\", \"G-F\", \"F\", \"F\", \"F\", \"G\", \"F\", \"C\", \"F\", \"F\", \"C-F\", \"G\", \"G-F\", \"G\", \"G\", \"C\", \"C\", \"C\", \"F\", \"G\", \"F\", \"G\", \"G\", \"F\", \"F-G\", \"F\", \"F\", \"G\", \"G\", \"F-C\", \"G\", \"G\", \"G-F\", \"F\", \"F-C\", \"G\", \"G\", \"G\", \"F\", \"F\", \"F\", \"G-F\", \"G-F\", \"F\", \"F\", \"F\", \"G-F\", \"G\", \"G\", \"G\", \"F\", \"F-C\", \"F\", \"G\", \"C\", \"C\", \"G\", \"F\", \"F-C\", \"G\", \"C\", \"C\", \"G\", \"G\", \"G-F\", \"G\", \"G\", \"F\", \"G-F\", \"G\", \"C\", \"C\", \"F\", \"G\", \"G\", \"F-C\", \"G\", \"C-F\", \"F\", \"F\", \"F-C\", \"G-F\", \"G-F\", \"G\", \"G\", \"C\", \"F\", \"F-C\", \"G\", \"F-C\", \"G\", \"F\", \"G\", \"G-F\", \"G\", \"G-F\", \"G\", \"G\", \"G\", \"F\", \"F\", \"F-C\", \"F\", \"G\", \"G\", \"C\", \"F-G\", \"F\", \"F\", \"F-C\", \"G-F\", \"C\", \"G\", \"F\", \"G\", \"G\", \"G-F\", \"G-F\", \"F\", \"G\", \"G\", \"F\", \"F-C\", \"G-F\", \"F\", \"F\", \"F\", \"G\", \"G\", \"F\", \"G\", \"F\", \"G\", \"G\", \"G\", \"F-G\", \"F-G\", \"G\", \"F-C\", \"G\", \"G-F\", \"G\", \"F\", \"C-F\", \"G\", \"F\", \"C-F\", \"F\", \"F-C\", \"F-C\", \"C-F\", \"F\", \"F\", \"C-F\", \"G\", \"F\", \"F-G\", \"G\", \"G\", \"F\", \"F\", \"F\", \"G\", \"G\", \"F-G\", \"F\", \"F\", \"G-F\", \"C-F\", \"G\", \"F-G\", \"C-F\", \"F-G\", \"G-F\", \"F-G\", \"F-G\", \"F\", \"G-F\", \"F\", \"F-G\", \"F\", \"G\", \"F\", \"F\", \"F-C\", \"G\", \"G-F\", \"F\", \"G\", \"G\", \"G-F\", \"F\", \"F\", \"G-F\", \"G-F\", \"F\", \"F\", \"F\", \"F\", \"F\", \"F-G\", \"F-G\", \"G\", \"C\", \"F\", \"C\", \"G\", \"C\", \"G\", \"F-C\", \"F-C\", \"C\", \"G\", \"F\", \"F\", \"F\", \"F\", \"F\", \"G\", \"G\", \"F\", \"G\", \"G-F\", \"C-F\", \"G-F\", \"F\", \"F\", \"F-C\", \"G-F\", \"G-F\", \"G-F\", \"F\", \"F\", \"F\", \"G\", \"G\", \"G-F\", \"C\", \"C\", \"F\", \"C\", \"G\", \"G\", \"F-G\", \"F\", \"C\", \"C\", \"F\", \"G\", \"G-F\", \"F\", \"G\", \"G\", \"G\", \"C\", \"F-C\", \"G-F\", \"C\", \"F-C\", \"F\", \"F\", \"G\", \"F\", \"G\", \"G\", \"G\", \"G\", \"G\", \"G\", \"F-C\", \"F\", \"C-F\", \"G\", \"F\", \"G\", \"G\", \"G\", \"G\", \"G\", \"Unknown\", \"G\", \"F-C\", \"F\", \"C\", \"G\", \"G-F\", \"F\", \"G\", \"G-F\", \"G\", \"G\", \"G\", \"G\", \"G\", \"G\", \"G\", \"F\", \"F\", \"F\", \"F\", \"F\", \"G\", \"F\", \"G\", \"G\", \"G\", \"G\", \"G-F\", \"F-C\", \"G-F\", \"F\", \"F-C\", \"G\", \"G\", \"G\", \"G\", \"F\", \"C-F\", \"G-F\", \"G-F\", \"G\", \"G\", \"G\", \"G-F\", \"F\", \"C-F\", \"F-G\", \"G\", \"F-G\", \"G\", \"C\", \"F\", \"G-F\", \"C-F\", \"F\", \"F-G\", \"F\", \"G\", \"F\", \"F\", \"F\", \"F\", \"C\", \"F\", \"C\", \"G\", \"G\", \"G\", \"F\", \"G-F\", \"F-C\", \"C\", \"C-F\", \"G\", \"G\", \"G-F\", \"F\", \"F\", \"F\", \"F-C\", \"F-C\", \"G\", \"F\", \"G\", \"C-F\", \"G-F\", \"F-G\", \"G\", \"C-F\", \"G\", \"G\", \"F\", \"F\", \"F\", \"G\", \"G\", \"G\", \"C-F\", \"F\", \"G\", \"G\", \"G-F\", \"G\", \"G\", \"G\", \"G\", \"F-C\", \"F\", \"F\", \"F\", \"G\", \"G-F\", \"G\", \"F\", \"F-G\", \"G\", \"G\", \"G-F\", \"G\", \"F\", \"F\", \"F\", \"G\", \"F\", \"G\", \"G\", \"G\", \"G\", \"G\", \"F\", \"G-F\", \"G\", \"F\", \"F\", \"F-G\", \"G\", \"G\", \"G-F\", \"F\", \"G\", \"G\", \"G\", \"C-F\", \"G-F\", \"F\", \"F\", \"F\", \"F\", \"C-F\", \"G-F\", \"G\", \"F\", \"G\", \"G-F\", \"C-F\", \"F\", \"C\", \"G\", \"F\", \"F\", \"G\", \"G\", \"F\", \"F\", \"C\", \"F-C\", \"F-C\", \"G\", \"G-F\", \"G\", \"G\", \"G\", \"G\", \"G\", \"F\", \"F\", \"G-F\", \"G\", \"G\", \"G\", \"G\", \"G\", \"G\", \"G\", \"C\", \"F\", \"F\", \"C-F\", \"G\", \"F\", \"F\", \"G-F\", \"G\", \"F\", \"F\", \"F\", \"F-C\", \"G-F\", \"F\", \"G\", \"G\", \"F\", \"G\", \"C\"], \"x0\": \" \", \"xaxis\": \"x\", \"y\": [0.33299999999999996, 0.077, 0.389, 0.342, 0.363, 0.0, 0.313, 0.25, 0.0, 0.258, 0.2, 0.306, 0.0, 0.0, 0.371, 0.381, 0.391, 0.35200000000000004, 0.4, 0.345, 0.0, 0.284, 0.182, 0.38299999999999995, 0.35600000000000004, 0.382, 0.38299999999999995, 0.32, 0.375, 0.33, 0.0, 0.28600000000000003, 0.35100000000000003, 0.327, 0.386, 0.3, 0.353, 0.36, 0.426, 0.368, 0.222, 0.667, 0.231, 0.444, 0.324, 0.424, 0.379, 0.0, 0.16699999999999998, 0.0, 0.42200000000000004, 0.348, 0.414, 0.361, 0.0, 0.0, 0.0, 0.2, 0.4, 0.36, 0.28300000000000003, 0.0, 0.308, 0.364, 1.0, 0.0, 0.111, 0.33, 0.35200000000000004, 0.2, 0.392, 0.313, 0.368, 0.33299999999999996, 0.345, 0.344, 0.381, 0.0, 0.316, 0.358, 0.40700000000000003, 0.33299999999999996, 0.42100000000000004, 0.375, 0.327, 0.217, 0.248, 0.16, 0.0, 0.39399999999999996, 0.16699999999999998, 0.0, 0.231, 0.28600000000000003, 0.207, 0.39299999999999996, 0.302, 0.294, 0.355, 0.0, 0.0, 0.0, 0.306, 0.0, 0.0, 0.43799999999999994, 0.44, 0.205, 0.40399999999999997, 0.353, 0.28600000000000003, 0.371, 0.366, 0.14300000000000002, 0.35100000000000003, 0.0, 0.14300000000000002, 0.401, 0.429, 0.376, 0.321, 0.379, 0.0, 0.34600000000000003, 0.35700000000000004, 0.32299999999999995, 0.231, 0.33, 0.293, 0.39299999999999996, 0.299, 0.45299999999999996, 0.245, 0.35700000000000004, 0.0, 0.335, 0.0, 0.396, 0.19699999999999998, 0.222, 0.231, 0.267, 0.5, 0.2, 0.38299999999999995, 0.22699999999999998, 0.308, 0.344, 0.318, 0.301, 0.36200000000000004, 0.28600000000000003, 0.25, 0.377, 0.048, 0.28600000000000003, 0.47100000000000003, 0.259, 0.309, 0.0, 0.35, 0.348, 0.349, 0.303, 1.0, 0.342, 0.0, 0.33299999999999996, 0.35100000000000003, 0.0, 0.14300000000000002, 0.0, 0.297, 0.135, 0.275, 0.374, 0.38799999999999996, 0.406, 0.307, 0.5710000000000001, 0.25, 0.33299999999999996, 0.254, 0.125, 0.41700000000000004, 0.0, 0.409, 0.39899999999999997, 0.355, 0.402, 0.314, 0.39899999999999997, 0.28600000000000003, 0.0, 0.35100000000000003, 0.0, 0.299, 0.301, 0.319, 0.373, 0.24100000000000002, 0.35100000000000003, 0.4, 0.0, 0.37799999999999995, 0.27899999999999997, 0.363, 0.261, 0.327, 0.41200000000000003, 0.243, 0.309, 0.0, 0.27399999999999997, 0.0, 0.0, 0.667, 0.40700000000000003, 0.35200000000000004, 0.37, 0.28, 0.0, 0.0, 0.33299999999999996, 0.41200000000000003, 0.381, 0.36200000000000004, 0.0, 0.342, 0.0, 0.25, 0.392, 0.19399999999999998, 0.4, 0.0, 0.25, 0.42, 0.22699999999999998, 0.391, 0.0, 0.32799999999999996, 0.395, 0.48, 0.384, 0.33299999999999996, 0.0, 0.39399999999999996, 0.35700000000000004, 0.424, 0.11800000000000001, 0.0, 0.493, 0.337, 0.0, 0.363, 0.6, 0.0, 0.38, 0.355, 0.316, 0.39799999999999996, 0.375, 0.371, 0.397, 0.387, 0.39399999999999996, 0.33, 0.313, 0.397, 0.325, 0.319, 0.298, 0.37799999999999995, 0.452, 0.34600000000000003, 0.349, 0.0, 0.25, 0.27699999999999997, 0.0, 0.16699999999999998, 0.397, 0.35600000000000004, 0.37, 0.4, 0.154, 0.289, 0.314, 0.27, 0.222, 0.379, 0.0, 0.35100000000000003, 0.45, 0.348, 0.14300000000000002, 0.39899999999999997, 0.294, 0.0, 0.0, 0.364, 0.374, 0.297, 0.38799999999999996, 0.327, 0.444, 0.397, 0.287, 0.415, 0.385, 0.297, 0.231, 0.335, 0.217, 0.38, 0.0, 0.33299999999999996, 0.35700000000000004, 0.0, 0.447, 0.35600000000000004, 0.25, 0.0, 0.366, 0.429, 0.381, 0.39399999999999996, 0.237, 0.071, 0.29600000000000004, 0.344, 0.374, 0.354, 0.358, 0.387, 0.5, 0.0, 0.25, 0.192, 0.344, 0.25, 0.267, 0.344, 0.541, 0.23399999999999999, 0.0, 0.26, 0.2, 0.413, 0.365, 0.324, 0.38, 0.33299999999999996, 0.375, 0.445, 0.5, 0.278, 0.215, 0.382, 0.395, 0.377, 0.5, 0.188, 0.361, 0.316, 0.0, 0.418, 0.0, 0.314, 0.316, 0.44, 0.38, 0.45299999999999996, 0.364, 0.182, 0.4, 0.284, 0.0, 0.375, 0.36700000000000005, 0.2, 0.439, 0.28300000000000003, 0.397, 0.273, 0.375, 1.0, 0.355, 0.308, 0.37799999999999995, 0.345, 0.231, 0.358, 0.40399999999999997, 0.371, 0.35200000000000004, 0.29600000000000004, 0.381, 0.39399999999999996, 0.0, 0.41600000000000004, 0.33299999999999996, 0.0, 0.375, 0.115, 0.321, 0.36200000000000004, 0.429, 0.36700000000000005, 0.5, 0.35200000000000004, 0.266, 0.0, 0.304, 0.43200000000000005, 0.389, 0.0, 0.304, 0.38299999999999995, 0.35200000000000004, 0.0, 0.429, 0.27, 0.0, 0.28600000000000003, 0.287, 0.0, 0.387, 0.25, 0.36200000000000004, 0.28300000000000003, 0.203, 0.0, 0.188, 0.0, 0.0, 0.5, 0.5, 0.27899999999999997, 0.335, 0.42200000000000004, 0.387, 0.358, 0.349, 0.256, 0.39799999999999996, 0.33899999999999997, 0.0, 0.27699999999999997, 0.0, 0.332, 0.452, 0.33, 0.327, 0.358, 0.4, 0.28600000000000003, 0.44799999999999995, 0.284, 0.324, 0.6, 0.0, 0.0, 0.32799999999999996, 0.306, 0.35700000000000004, 0.405, 0.35100000000000003, 0.374, 0.345, 0.254, 0.0, 0.154, 0.341, 0.322, 0.304, 0.381, 0.358, 0.278, 0.38, 0.392, 0.33299999999999996, 0.242, 0.359, 0.0, 0.33299999999999996, 0.33799999999999997, 0.231, 0.348, 0.29600000000000004, 0.36700000000000005, 0.0, 0.402, 0.391, 0.0, 0.263, 0.0, 0.0, 0.39799999999999996, 0.379, 0.33299999999999996, 0.324, 0.321, 0.413, 0.35700000000000004, 0.467, 0.391, 0.35200000000000004, 0.337, 0.133, 0.41200000000000003, 0.348, 0.41200000000000003, 0.38799999999999996, 0.358, 0.37, 0.0, 0.0, 0.336, 0.0, 0.36700000000000005, 0.336, 0.0, 0.0, 0.38799999999999996, 0.25, 0.14300000000000002, 1.0, 0.32899999999999996, 0.5, 0.34299999999999997, 0.47100000000000003, 0.408, 0.377, 0.067, 0.429, 0.33299999999999996, 0.36700000000000005, 0.375, 0.374, 0.375, 0.17600000000000002, 0.0, 0.0, 0.0, 0.254, 0.354, 0.35600000000000004, 0.5710000000000001, 0.331, 0.33899999999999997, 0.0, 0.0, 0.247, 0.0, 0.26, 0.363, 0.376, 0.29600000000000004, 0.462, 0.255, 0.222, 0.386, 0.381, 0.0, 0.354, 0.361, 0.24], \"y0\": \" \", \"yaxis\": \"y\"}],\n",
       "                        {\"legend\": {\"tracegroupgap\": 0}, \"template\": {\"data\": {\"bar\": [{\"error_x\": {\"color\": \"rgb(36,36,36)\"}, \"error_y\": {\"color\": \"rgb(36,36,36)\"}, \"marker\": {\"line\": {\"color\": \"white\", \"width\": 0.5}}, \"type\": \"bar\"}], \"barpolar\": [{\"marker\": {\"line\": {\"color\": \"white\", \"width\": 0.5}}, \"type\": \"barpolar\"}], \"carpet\": [{\"aaxis\": {\"endlinecolor\": \"rgb(36,36,36)\", \"gridcolor\": \"white\", \"linecolor\": \"white\", \"minorgridcolor\": \"white\", \"startlinecolor\": \"rgb(36,36,36)\"}, \"baxis\": {\"endlinecolor\": \"rgb(36,36,36)\", \"gridcolor\": \"white\", \"linecolor\": \"white\", \"minorgridcolor\": \"white\", \"startlinecolor\": \"rgb(36,36,36)\"}, \"type\": \"carpet\"}], \"choropleth\": [{\"colorbar\": {\"outlinewidth\": 1, \"tickcolor\": \"rgb(36,36,36)\", \"ticks\": \"outside\"}, \"type\": \"choropleth\"}], \"contour\": [{\"colorbar\": {\"outlinewidth\": 1, \"tickcolor\": \"rgb(36,36,36)\", \"ticks\": \"outside\"}, \"colorscale\": [[0.0, \"#440154\"], [0.1111111111111111, \"#482878\"], [0.2222222222222222, \"#3e4989\"], [0.3333333333333333, \"#31688e\"], [0.4444444444444444, \"#26828e\"], [0.5555555555555556, \"#1f9e89\"], [0.6666666666666666, \"#35b779\"], [0.7777777777777778, \"#6ece58\"], [0.8888888888888888, \"#b5de2b\"], [1.0, \"#fde725\"]], \"type\": \"contour\"}], \"contourcarpet\": [{\"colorbar\": {\"outlinewidth\": 1, \"tickcolor\": \"rgb(36,36,36)\", \"ticks\": \"outside\"}, \"type\": \"contourcarpet\"}], \"heatmap\": [{\"colorbar\": {\"outlinewidth\": 1, \"tickcolor\": \"rgb(36,36,36)\", \"ticks\": \"outside\"}, \"colorscale\": [[0.0, \"#440154\"], [0.1111111111111111, \"#482878\"], [0.2222222222222222, \"#3e4989\"], [0.3333333333333333, \"#31688e\"], [0.4444444444444444, \"#26828e\"], [0.5555555555555556, \"#1f9e89\"], [0.6666666666666666, \"#35b779\"], [0.7777777777777778, \"#6ece58\"], [0.8888888888888888, \"#b5de2b\"], [1.0, \"#fde725\"]], \"type\": \"heatmap\"}], \"heatmapgl\": [{\"colorbar\": {\"outlinewidth\": 1, \"tickcolor\": \"rgb(36,36,36)\", \"ticks\": \"outside\"}, \"colorscale\": [[0.0, \"#440154\"], [0.1111111111111111, \"#482878\"], [0.2222222222222222, \"#3e4989\"], [0.3333333333333333, \"#31688e\"], [0.4444444444444444, \"#26828e\"], [0.5555555555555556, \"#1f9e89\"], [0.6666666666666666, \"#35b779\"], [0.7777777777777778, \"#6ece58\"], [0.8888888888888888, \"#b5de2b\"], [1.0, \"#fde725\"]], \"type\": \"heatmapgl\"}], \"histogram\": [{\"marker\": {\"line\": {\"color\": \"white\", \"width\": 0.6}}, \"type\": \"histogram\"}], \"histogram2d\": [{\"colorbar\": {\"outlinewidth\": 1, \"tickcolor\": \"rgb(36,36,36)\", \"ticks\": \"outside\"}, \"colorscale\": [[0.0, \"#440154\"], [0.1111111111111111, \"#482878\"], [0.2222222222222222, \"#3e4989\"], [0.3333333333333333, \"#31688e\"], [0.4444444444444444, \"#26828e\"], [0.5555555555555556, \"#1f9e89\"], [0.6666666666666666, \"#35b779\"], [0.7777777777777778, \"#6ece58\"], [0.8888888888888888, \"#b5de2b\"], [1.0, \"#fde725\"]], \"type\": \"histogram2d\"}], \"histogram2dcontour\": [{\"colorbar\": {\"outlinewidth\": 1, \"tickcolor\": \"rgb(36,36,36)\", \"ticks\": \"outside\"}, \"colorscale\": [[0.0, \"#440154\"], [0.1111111111111111, \"#482878\"], [0.2222222222222222, \"#3e4989\"], [0.3333333333333333, \"#31688e\"], [0.4444444444444444, \"#26828e\"], [0.5555555555555556, \"#1f9e89\"], [0.6666666666666666, \"#35b779\"], [0.7777777777777778, \"#6ece58\"], [0.8888888888888888, \"#b5de2b\"], [1.0, \"#fde725\"]], \"type\": \"histogram2dcontour\"}], \"mesh3d\": [{\"colorbar\": {\"outlinewidth\": 1, \"tickcolor\": \"rgb(36,36,36)\", \"ticks\": \"outside\"}, \"type\": \"mesh3d\"}], \"parcoords\": [{\"line\": {\"colorbar\": {\"outlinewidth\": 1, \"tickcolor\": \"rgb(36,36,36)\", \"ticks\": \"outside\"}}, \"type\": \"parcoords\"}], \"pie\": [{\"automargin\": true, \"type\": \"pie\"}], \"scatter\": [{\"marker\": {\"colorbar\": {\"outlinewidth\": 1, \"tickcolor\": \"rgb(36,36,36)\", \"ticks\": \"outside\"}}, \"type\": \"scatter\"}], \"scatter3d\": [{\"line\": {\"colorbar\": {\"outlinewidth\": 1, \"tickcolor\": \"rgb(36,36,36)\", \"ticks\": \"outside\"}}, \"marker\": {\"colorbar\": {\"outlinewidth\": 1, \"tickcolor\": \"rgb(36,36,36)\", \"ticks\": \"outside\"}}, \"type\": \"scatter3d\"}], \"scattercarpet\": [{\"marker\": {\"colorbar\": {\"outlinewidth\": 1, \"tickcolor\": \"rgb(36,36,36)\", \"ticks\": \"outside\"}}, \"type\": \"scattercarpet\"}], \"scattergeo\": [{\"marker\": {\"colorbar\": {\"outlinewidth\": 1, \"tickcolor\": \"rgb(36,36,36)\", \"ticks\": \"outside\"}}, \"type\": \"scattergeo\"}], \"scattergl\": [{\"marker\": {\"colorbar\": {\"outlinewidth\": 1, \"tickcolor\": \"rgb(36,36,36)\", \"ticks\": \"outside\"}}, \"type\": \"scattergl\"}], \"scattermapbox\": [{\"marker\": {\"colorbar\": {\"outlinewidth\": 1, \"tickcolor\": \"rgb(36,36,36)\", \"ticks\": \"outside\"}}, \"type\": \"scattermapbox\"}], \"scatterpolar\": [{\"marker\": {\"colorbar\": {\"outlinewidth\": 1, \"tickcolor\": \"rgb(36,36,36)\", \"ticks\": \"outside\"}}, \"type\": \"scatterpolar\"}], \"scatterpolargl\": [{\"marker\": {\"colorbar\": {\"outlinewidth\": 1, \"tickcolor\": \"rgb(36,36,36)\", \"ticks\": \"outside\"}}, \"type\": \"scatterpolargl\"}], \"scatterternary\": [{\"marker\": {\"colorbar\": {\"outlinewidth\": 1, \"tickcolor\": \"rgb(36,36,36)\", \"ticks\": \"outside\"}}, \"type\": \"scatterternary\"}], \"surface\": [{\"colorbar\": {\"outlinewidth\": 1, \"tickcolor\": \"rgb(36,36,36)\", \"ticks\": \"outside\"}, \"colorscale\": [[0.0, \"#440154\"], [0.1111111111111111, \"#482878\"], [0.2222222222222222, \"#3e4989\"], [0.3333333333333333, \"#31688e\"], [0.4444444444444444, \"#26828e\"], [0.5555555555555556, \"#1f9e89\"], [0.6666666666666666, \"#35b779\"], [0.7777777777777778, \"#6ece58\"], [0.8888888888888888, \"#b5de2b\"], [1.0, \"#fde725\"]], \"type\": \"surface\"}], \"table\": [{\"cells\": {\"fill\": {\"color\": \"rgb(237,237,237)\"}, \"line\": {\"color\": \"white\"}}, \"header\": {\"fill\": {\"color\": \"rgb(217,217,217)\"}, \"line\": {\"color\": \"white\"}}, \"type\": \"table\"}]}, \"layout\": {\"annotationdefaults\": {\"arrowhead\": 0, \"arrowwidth\": 1}, \"coloraxis\": {\"colorbar\": {\"outlinewidth\": 1, \"tickcolor\": \"rgb(36,36,36)\", \"ticks\": \"outside\"}}, \"colorscale\": {\"diverging\": [[0.0, \"rgb(103,0,31)\"], [0.1, \"rgb(178,24,43)\"], [0.2, \"rgb(214,96,77)\"], [0.3, \"rgb(244,165,130)\"], [0.4, \"rgb(253,219,199)\"], [0.5, \"rgb(247,247,247)\"], [0.6, \"rgb(209,229,240)\"], [0.7, \"rgb(146,197,222)\"], [0.8, \"rgb(67,147,195)\"], [0.9, \"rgb(33,102,172)\"], [1.0, \"rgb(5,48,97)\"]], \"sequential\": [[0.0, \"#440154\"], [0.1111111111111111, \"#482878\"], [0.2222222222222222, \"#3e4989\"], [0.3333333333333333, \"#31688e\"], [0.4444444444444444, \"#26828e\"], [0.5555555555555556, \"#1f9e89\"], [0.6666666666666666, \"#35b779\"], [0.7777777777777778, \"#6ece58\"], [0.8888888888888888, \"#b5de2b\"], [1.0, \"#fde725\"]], \"sequentialminus\": [[0.0, \"#440154\"], [0.1111111111111111, \"#482878\"], [0.2222222222222222, \"#3e4989\"], [0.3333333333333333, \"#31688e\"], [0.4444444444444444, \"#26828e\"], [0.5555555555555556, \"#1f9e89\"], [0.6666666666666666, \"#35b779\"], [0.7777777777777778, \"#6ece58\"], [0.8888888888888888, \"#b5de2b\"], [1.0, \"#fde725\"]]}, \"colorway\": [\"#1F77B4\", \"#FF7F0E\", \"#2CA02C\", \"#D62728\", \"#9467BD\", \"#8C564B\", \"#E377C2\", \"#7F7F7F\", \"#BCBD22\", \"#17BECF\"], \"font\": {\"color\": \"rgb(36,36,36)\"}, \"geo\": {\"bgcolor\": \"white\", \"lakecolor\": \"white\", \"landcolor\": \"white\", \"showlakes\": true, \"showland\": true, \"subunitcolor\": \"white\"}, \"hoverlabel\": {\"align\": \"left\"}, \"hovermode\": \"closest\", \"mapbox\": {\"style\": \"light\"}, \"paper_bgcolor\": \"white\", \"plot_bgcolor\": \"white\", \"polar\": {\"angularaxis\": {\"gridcolor\": \"rgb(232,232,232)\", \"linecolor\": \"rgb(36,36,36)\", \"showgrid\": false, \"showline\": true, \"ticks\": \"outside\"}, \"bgcolor\": \"white\", \"radialaxis\": {\"gridcolor\": \"rgb(232,232,232)\", \"linecolor\": \"rgb(36,36,36)\", \"showgrid\": false, \"showline\": true, \"ticks\": \"outside\"}}, \"scene\": {\"xaxis\": {\"backgroundcolor\": \"white\", \"gridcolor\": \"rgb(232,232,232)\", \"gridwidth\": 2, \"linecolor\": \"rgb(36,36,36)\", \"showbackground\": true, \"showgrid\": false, \"showline\": true, \"ticks\": \"outside\", \"zeroline\": false, \"zerolinecolor\": \"rgb(36,36,36)\"}, \"yaxis\": {\"backgroundcolor\": \"white\", \"gridcolor\": \"rgb(232,232,232)\", \"gridwidth\": 2, \"linecolor\": \"rgb(36,36,36)\", \"showbackground\": true, \"showgrid\": false, \"showline\": true, \"ticks\": \"outside\", \"zeroline\": false, \"zerolinecolor\": \"rgb(36,36,36)\"}, \"zaxis\": {\"backgroundcolor\": \"white\", \"gridcolor\": \"rgb(232,232,232)\", \"gridwidth\": 2, \"linecolor\": \"rgb(36,36,36)\", \"showbackground\": true, \"showgrid\": false, \"showline\": true, \"ticks\": \"outside\", \"zeroline\": false, \"zerolinecolor\": \"rgb(36,36,36)\"}}, \"shapedefaults\": {\"fillcolor\": \"black\", \"line\": {\"width\": 0}, \"opacity\": 0.3}, \"ternary\": {\"aaxis\": {\"gridcolor\": \"rgb(232,232,232)\", \"linecolor\": \"rgb(36,36,36)\", \"showgrid\": false, \"showline\": true, \"ticks\": \"outside\"}, \"baxis\": {\"gridcolor\": \"rgb(232,232,232)\", \"linecolor\": \"rgb(36,36,36)\", \"showgrid\": false, \"showline\": true, \"ticks\": \"outside\"}, \"bgcolor\": \"white\", \"caxis\": {\"gridcolor\": \"rgb(232,232,232)\", \"linecolor\": \"rgb(36,36,36)\", \"showgrid\": false, \"showline\": true, \"ticks\": \"outside\"}}, \"title\": {\"x\": 0.05}, \"xaxis\": {\"automargin\": true, \"gridcolor\": \"rgb(232,232,232)\", \"linecolor\": \"rgb(36,36,36)\", \"showgrid\": false, \"showline\": true, \"ticks\": \"outside\", \"title\": {\"standoff\": 15}, \"zeroline\": false, \"zerolinecolor\": \"rgb(36,36,36)\"}, \"yaxis\": {\"automargin\": true, \"gridcolor\": \"rgb(232,232,232)\", \"linecolor\": \"rgb(36,36,36)\", \"showgrid\": false, \"showline\": true, \"ticks\": \"outside\", \"title\": {\"standoff\": 15}, \"zeroline\": false, \"zerolinecolor\": \"rgb(36,36,36)\"}}}, \"title\": {\"text\": \"3-point % by position\"}, \"violinmode\": \"group\", \"xaxis\": {\"anchor\": \"y\", \"domain\": [0.0, 1.0], \"title\": {\"text\": \"Position\"}}, \"yaxis\": {\"anchor\": \"x\", \"domain\": [0.0, 1.0], \"title\": {\"text\": \"3P %\"}}},\n",
       "                        {\"responsive\": true}\n",
       "                    ).then(function(){\n",
       "                            \n",
       "var gd = document.getElementById('3117d794-0746-4c46-8b24-fc053f0c070b');\n",
       "var x = new MutationObserver(function (mutations, observer) {{\n",
       "        var display = window.getComputedStyle(gd).display;\n",
       "        if (!display || display === 'none') {{\n",
       "            console.log([gd, 'removed!']);\n",
       "            Plotly.purge(gd);\n",
       "            observer.disconnect();\n",
       "        }}\n",
       "}});\n",
       "\n",
       "// Listen for the removal of the full notebook cells\n",
       "var notebookContainer = gd.closest('#notebook-container');\n",
       "if (notebookContainer) {{\n",
       "    x.observe(notebookContainer, {childList: true});\n",
       "}}\n",
       "\n",
       "// Listen for the clearing of the current output cell\n",
       "var outputEl = gd.closest('.output');\n",
       "if (outputEl) {{\n",
       "    x.observe(outputEl, {childList: true});\n",
       "}}\n",
       "\n",
       "                        })\n",
       "                };\n",
       "                });\n",
       "            </script>\n",
       "        </div>"
      ]
     },
     "metadata": {},
     "output_type": "display_data"
    }
   ],
   "source": [
    "#Compare 3P % among differing positions\n",
    "import plotly.express as px\n",
    "\n",
    "fig = px.violin(df,x = 'Position',y='3P %',title='3-point % by position')\n",
    "fig.layout.template = 'simple_white'\n",
    "\n",
    "fig.show()"
   ]
  },
  {
   "cell_type": "markdown",
   "metadata": {},
   "source": [
    "From the above plots we can see that players like James Harden, Buddy Hield, and Davonte Graham take the most shots and have near average 3P %. \n",
    "\n",
    "Seth Curry, JJ Redick, and Doug McDermott have slightly better 3P % but actually take nearly 50% less shots than James Harden. As a result these players would be considered to be some of the best shooters in the league currently. \n",
    "\n",
    "In terms of player positions, obviously guards tend to have higher 3-point %'s than centers and forwards.\n"
   ]
  },
  {
   "cell_type": "markdown",
   "metadata": {},
   "source": [
    "The metrics below will now look to discover the most effective scoring player on the league based on a simple algorithm.\n",
    "The scoring efficiency takes into account effective shooting, points per game, and the game time minutes."
   ]
  },
  {
   "cell_type": "code",
   "execution_count": 143,
   "metadata": {},
   "outputs": [],
   "source": [
    "#Player Scoring Efficiency, which is a score of how effective a player is at scoring while on the court\n",
    "df['Scoring Efficiency'] = (df['Effective Shooting %'] * df['PPG'])/df['MPG']"
   ]
  },
  {
   "cell_type": "code",
   "execution_count": 147,
   "metadata": {},
   "outputs": [
    {
     "data": {
      "application/vnd.plotly.v1+json": {
       "config": {
        "plotlyServerURL": "https://plot.ly"
       },
       "data": [
        {
         "hovertext": [
          "Steven Adams",
          "Bam Adebayo",
          "LaMarcus Aldridge",
          "Nickeil Alexander-Walker",
          "Grayson Allen",
          "Jarrett Allen",
          "Kadeem Allen",
          "Al-Farouq Aminu",
          "Justin Anderson",
          "Kyle Anderson",
          "Ryan Anderson",
          "Giannis Antetokounmpo",
          "Kostas Antetokounmpo",
          "Thanasis Antetokounmpo",
          "Carmelo Anthony",
          "OG Anunoby",
          "Ryan Arcidiacono",
          "Trevor Ariza",
          "Trevor Ariza",
          "D.J. Augustin",
          "Deandre Ayton",
          "Dwayne Bacon",
          "Marvin Bagley III",
          "Lonzo Ball",
          "Mo Bamba",
          "J.J. Barea",
          "Harrison Barnes",
          "RJ Barrett",
          "Will Barton",
          "Keita Bates-Diop",
          "Keita Bates-Diop",
          "Nicolas Batum",
          "Aron Baynes",
          "Kent Bazemore",
          "Kent Bazemore",
          "Darius Bazley",
          "Bradley Beal",
          "Malik Beasley",
          "Malik Beasley",
          "Marco Belinelli",
          "Jordan Bell",
          "Jordan Bell",
          "DeAndre' Bembry",
          "Dragan Bender",
          "Dragan Bender",
          "Davis Bertans",
          "Patrick Beverley",
          "Khem Birch",
          "Goga Bitadze",
          "Bismack Biyombo",
          "Nemanja Bjelica",
          "Eric Bledsoe",
          "Bojan Bogdanovic",
          "Bogdan Bogdanovic",
          "Jonah Bolden",
          "Jonah Bolden",
          "Marques Bolden",
          "Jordan Bone",
          "Isaac Bonga",
          "Devin Booker",
          "Chris Boucher",
          "Brian Bowen II",
          "Ky Bowman",
          "Avery Bradley",
          "Tony Bradley",
          "Jarrell Brantley",
          "Ignas Brazdeikis",
          "Miles Bridges",
          "Mikal Bridges",
          "Oshae Brissett",
          "Ryan Broekhoff",
          "Malcolm Brogdon",
          "Dillon Brooks",
          "Charles Brown Jr.",
          "Troy Brown Jr.",
          "Bruce Brown",
          "Jaylen Brown",
          "Moses Brown",
          "Sterling Brown",
          "Jalen Brunson",
          "Thomas Bryant",
          "Reggie Bullock",
          "Trey Burke",
          "Alec Burks",
          "Alec Burks",
          "Deonte Burton",
          "Jimmy Butler",
          "Bruno Caboclo",
          "Bruno Caboclo",
          "Kentavious Caldwell-Pope",
          "Vlatko Cancar",
          "Clint Capela",
          "DeMarre Carroll",
          "DeMarre Carroll",
          "Wendell Carter Jr.",
          "Jevon Carter",
          "Vince Carter",
          "Michael Carter-Williams",
          "Alex Caruso",
          "Willie Cauley-Stein",
          "Willie Cauley-Stein",
          "Tyson Chandler",
          "Wilson Chandler",
          "Joe Chealey",
          "Zylan Cheatham",
          "Chris Chiozza",
          "Chris Chiozza",
          "Marquese Chriss",
          "Brandon Clarke",
          "Gary Clark",
          "Gary Clark",
          "Jordan Clarkson",
          "Jordan Clarkson",
          "Nicolas Claxton",
          "Chris Clemons",
          "Antonius Cleveland",
          "Amir Coffey",
          "John Collins",
          "Zach Collins",
          "Mike Conley",
          "Pat Connaughton",
          "Quinn Cook",
          "Tyler Cook",
          "Robert Covington",
          "Robert Covington",
          "Allen Crabbe",
          "Allen Crabbe",
          "Torrey Craig",
          "Jae Crowder",
          "Jae Crowder",
          "Jarrett Culver",
          "Seth Curry",
          "Stephen Curry",
          "Troy Daniels",
          "Troy Daniels",
          "Anthony Davis",
          "Ed Davis",
          "Terence Davis",
          "Dewayne Dedmon",
          "Dewayne Dedmon",
          "Matthew Dellavedova",
          "DeMar DeRozan",
          "Cheick Diallo",
          "Hamidou Diallo",
          "Gorgui Dieng",
          "Gorgui Dieng",
          "Spencer Dinwiddie",
          "Donte DiVincenzo",
          "Luka Doncic",
          "Luguentz Dort",
          "Damyean Dotson",
          "Sekou Doumbouya",
          "PJ Dozier",
          "Goran Dragic",
          "Andre Drummond",
          "Andre Drummond",
          "Jared Dudley",
          "Kris Dunn",
          "Carsen Edwards",
          "Henry Ellenson",
          "Wayne Ellington",
          "Joel Embiid",
          "James Ennis III",
          "James Ennis III",
          "Drew Eubanks",
          "Jacob Evans",
          "Jacob Evans",
          "Dante Exum",
          "Dante Exum",
          "Tacko Fall",
          "Derrick Favors",
          "Cristiano Felicio",
          "Terrance Ferguson",
          "Bruno Fernando",
          "Yogi Ferrell",
          "Dorian Finney-Smith",
          "Bryn Forbes",
          "Evan Fournier",
          "De'Aaron Fox",
          "Melvin Frazier Jr.",
          "Michael Frazier",
          "Tim Frazier",
          "Markelle Fultz",
          "Wenyen Gabriel",
          "Wenyen Gabriel",
          "Daniel Gafford",
          "Danilo Gallinari",
          "Langston Galloway",
          "Darius Garland",
          "Marc Gasol",
          "Rudy Gay",
          "Paul George",
          "Taj Gibson",
          "Harry Giles III",
          "Shai Gilgeous-Alexander",
          "Rudy Gobert",
          "Brandon Goodwin",
          "Aaron Gordon",
          "Eric Gordon",
          "Devonte' Graham",
          "Treveon Graham",
          "Treveon Graham",
          "Jerami Grant",
          "Josh Gray",
          "Danny Green",
          "Draymond Green",
          "JaMychal Green",
          "Javonte Green",
          "Jeff Green",
          "Jeff Green",
          "Blake Griffin",
          "Marko Guduric",
          "Kyle Guy",
          "Rui Hachimura",
          "Devon Hall",
          "Donta Hall",
          "Dusty Hannahs",
          "Tim Hardaway Jr.",
          "James Harden",
          "Maurice Harkless",
          "Maurice Harkless",
          "Jared Harper",
          "Montrezl Harrell",
          "Gary Harris",
          "Joe Harris",
          "Shaquille Harrison",
          "Tobias Harris",
          "Isaiah Hartenstein",
          "Josh Hart",
          "Udonis Haslem",
          "Jaxson Hayes",
          "Gordon Hayward",
          "John Henson",
          "John Henson",
          "Dewan Hernandez",
          "Juancho Hernangomez",
          "Juancho Hernangomez",
          "Willy Hernangomez",
          "Tyler Herro",
          "Kevin Hervey",
          "Mario Hezonja",
          "Buddy Hield",
          "George Hill",
          "Solomon Hill",
          "Solomon Hill",
          "Jaylen Hoard",
          "Aaron Holiday",
          "Jrue Holiday",
          "Justin Holiday",
          "Rondae Hollis-Jefferson",
          "Richaun Holmes",
          "Rodney Hood",
          "Al Horford",
          "Talen Horton-Tucker",
          "Danuel House Jr.",
          "Dwight Howard",
          "William Howard",
          "Kevin Huerter",
          "De'Andre Hunter",
          "Chandler Hutchison",
          "Serge Ibaka",
          "Andre Iguodala",
          "Ersan Ilyasova",
          "Joe Ingles",
          "Brandon Ingram",
          "Kyrie Irving",
          "Jonathan Isaac",
          "Wes Iwundu",
          "Jaren Jackson Jr.",
          "Frank Jackson",
          "Josh Jackson",
          "Justin Jackson",
          "Reggie Jackson",
          "Reggie Jackson",
          "Justin James",
          "LeBron James",
          "Amile Jefferson",
          "DaQuan Jeffries",
          "Ty Jerome",
          "Alize Johnson",
          "BJ Johnson",
          "Cameron Johnson",
          "James Johnson",
          "James Johnson",
          "Keldon Johnson",
          "Stanley Johnson",
          "Tyler Johnson",
          "Nikola Jokic",
          "Derrick Jones Jr.",
          "Damian Jones",
          "Tyus Jones",
          "DeAndre Jordan",
          "Cory Joseph",
          "Mfiondu Kabengele",
          "Frank Kaminsky",
          "Enes Kanter",
          "Luke Kennard",
          "Michael Kidd-Gilchrist",
          "Michael Kidd-Gilchrist",
          "Stanton Kidd",
          "Louis King",
          "Maxi Kleber",
          "Brandon Knight",
          "Brandon Knight",
          "Kevin Knox II",
          "John Konchar",
          "Furkan Korkmaz",
          "Luke Kornet",
          "Kyle Korver",
          "Rodions Kurucs",
          "Kyle Kuzma",
          "Skal Labissiere",
          "Jeremy Lamb",
          "Romeo Langford",
          "Zach LaVine",
          "Vic Law",
          "Jake Layman",
          "TJ Leaf",
          "Jalen Lecque",
          "Courtney Lee",
          "Damion Lee",
          "Alex Len",
          "Alex Len",
          "Kawhi Leonard",
          "Meyers Leonard",
          "Caris LeVert",
          "Damian Lillard",
          "Nassir Little",
          "Kevon Looney",
          "Brook Lopez",
          "Robin Lopez",
          "Kevin Love",
          "Kyle Lowry",
          "Timothe Luwawu-Cabarrot",
          "Trey Lyles",
          "Daryl Macon",
          "J.P. Macura",
          "Josh Magette",
          "Ian Mahinmi",
          "Thon Maker",
          "Terance Mann",
          "Boban Marjanovic",
          "Lauri Markkanen",
          "Caleb Martin",
          "Cody Martin",
          "Jeremiah Martin",
          "Kelan Martin",
          "Frank Mason",
          "Garrison Mathews",
          "Wesley Matthews",
          "Patrick McCaw",
          "CJ McCollum",
          "T.J. McConnell",
          "Jalen McDaniels",
          "Doug McDermott",
          "JaVale McGee",
          "Rodney McGruder",
          "Alfonzo McKinnie",
          "Jordan McLaughlin",
          "Ben McLemore",
          "Jordan McRae",
          "Jordan McRae",
          "Jordan McRae",
          "Nicolo Melli",
          "De'Anthony Melton",
          "Chimezie Metu",
          "Khris Middleton",
          "Eric Mika",
          "CJ Miles",
          "Malcolm Miller",
          "Paul Millsap",
          "Patty Mills",
          "Shake Milton",
          "Donovan Mitchell",
          "Naz Mitrou-Long",
          "Adam Mokoka",
          "Malik Monk",
          "Matt Mooney",
          "E'Twaun Moore",
          "Ja Morant",
          "Juwan Morgan",
          "Marcus Morris Sr.",
          "Marcus Morris Sr.",
          "Markieff Morris",
          "Markieff Morris",
          "Monte Morris",
          "Johnathan Motley",
          "Emmanuel Mudiay",
          "Mychal Mulder",
          "Dejounte Murray",
          "Jamal Murray",
          "Dzanan Musa",
          "Mike Muscala",
          "Svi Mykhailiuk",
          "Abdel Nader",
          "Larry Nance Jr.",
          "Shabazz Napier",
          "Shabazz Napier",
          "Raul Neto",
          "Malik Newman",
          "Georges Niang",
          "Nerlens Noel",
          "Zach Norvell Jr.",
          "Zach Norvell Jr.",
          "Jaylen Nowell",
          "Frank Ntilikina",
          "Kendrick Nunn",
          "David Nwaba",
          "Semi Ojeleye",
          "Jahlil Okafor",
          "Elie Okobo",
          "Josh Okogie",
          "KZ Okpala",
          "Victor Oladipo",
          "Kelly Olynyk",
          "Royce O'Neale",
          "Miye Oni",
          "Kyle O'Quinn",
          "Cedi Osman",
          "Kelly Oubre Jr.",
          "Tariq Owens",
          "Jeremy Pargo",
          "Jabari Parker",
          "Jabari Parker",
          "Chandler Parsons",
          "Eric Paschall",
          "Anzejs Pasecniks",
          "Patrick Patterson",
          "Justin Patton",
          "Chris Paul",
          "Gary Payton II",
          "Elfrid Payton",
          "Norvel Pelle",
          "Theo Pinson",
          "Mason Plumlee",
          "Jakob Poeltl",
          "Vincent Poirier",
          "Shamorie Ponds",
          "Jordan Poole",
          "Kevin Porter Jr.",
          "Michael Porter Jr.",
          "Otto Porter Jr.",
          "Bobby Portis",
          "Kristaps Porzingis",
          "Dwight Powell",
          "Norman Powell",
          "Taurean Prince",
          "Chasson Randle",
          "Julius Randle",
          "Josh Reaves",
          "Cam Reddish",
          "JJ Redick",
          "Naz Reid",
          "Josh Richardson",
          "Austin Rivers",
          "Glenn Robinson III",
          "Glenn Robinson III",
          "Duncan Robinson",
          "Jerome Robinson",
          "Jerome Robinson",
          "Justin Robinson",
          "Mitchell Robinson",
          "Isaiah Roby",
          "Rajon Rondo",
          "Derrick Rose",
          "Terrence Ross",
          "Terry Rozier",
          "Ricky Rubio",
          "D'Angelo Russell",
          "D'Angelo Russell",
          "Domantas Sabonis",
          "Luka Samanic",
          "JaKarr Sampson",
          "Dario Saric",
          "Tomas Satoransky",
          "Admiral Schofield",
          "Dennis Schroder",
          "Mike Scott",
          "Thabo Sefolosha",
          "Collin Sexton",
          "Landry Shamet",
          "Marial Shayok",
          "Iman Shumpert",
          "Pascal Siakam",
          "Chris Silva",
          "Ben Simmons",
          "Anfernee Simons",
          "Alen Smailagic",
          "Marcus Smart",
          "Dennis Smith Jr.",
          "Ish Smith",
          "Zhaire Smith",
          "Tony Snell",
          "Omari Spellman",
          "Max Strus",
          "Edmond Sumner",
          "Caleb Swanigan",
          "Caleb Swanigan",
          "Jayson Tatum",
          "Jeff Teague",
          "Jeff Teague",
          "Garrett Temple",
          "Daniel Theis",
          "Isaiah Thomas",
          "Khyri Thomas",
          "Matt Thomas",
          "Tristan Thompson",
          "Matisse Thybulle",
          "Anthony Tolliver",
          "Anthony Tolliver",
          "Anthony Tolliver",
          "Juan Toscano-Anderson",
          "Karl-Anthony Towns",
          "Gary Trent Jr.",
          "Allonzo Trier",
          "P.J. Tucker",
          "Rayjon Tucker",
          "Evan Turner",
          "Myles Turner",
          "Jarrod Uthoff",
          "Jonas Valanciunas",
          "Denzel Valentine",
          "Jarred Vanderbilt",
          "Jarred Vanderbilt",
          "Fred VanVleet",
          "Gabe Vincent",
          "Noah Vonleh",
          "Noah Vonleh",
          "Nikola Vucevic",
          "Dean Wade",
          "Moritz Wagner",
          "Dion Waiters",
          "Lonnie Walker IV",
          "Kemba Walker",
          "Tyrone Wallace",
          "Derrick Walton Jr.",
          "Derrick Walton Jr.",
          "Brad Wanamaker",
          "T.J. Warren",
          "P.J. Washington",
          "Yuta Watanabe",
          "Tremont Waters",
          "Paul Watson",
          "Paul Watson",
          "Quinndary Weatherspoon",
          "Russell Westbrook",
          "Coby White",
          "Derrick White",
          "Hassan Whiteside",
          "Andrew Wiggins",
          "Andrew Wiggins",
          "Robert Williams III",
          "Nigel Williams-Goss",
          "Grant Williams",
          "Johnathan Williams",
          "Kenrich Williams",
          "Lou Williams",
          "Marvin Williams",
          "Marvin Williams",
          "Zion Williamson",
          "D.J. Wilson",
          "Justise Winslow",
          "Christian Wood",
          "Delon Wright",
          "Justin Wright-Foreman",
          "Thaddeus Young",
          "Trae Young",
          "Cody Zeller"
         ],
         "marker": {
          "color": "red"
         },
         "mode": "markers",
         "type": "scatter",
         "x": [
          58,
          65,
          53,
          41,
          30,
          64,
          10,
          18,
          3,
          59,
          2,
          57,
          3,
          18,
          50,
          63,
          58,
          32,
          21,
          49,
          30,
          39,
          13,
          56,
          60,
          26,
          64,
          56,
          58,
          37,
          2,
          22,
          42,
          43,
          21,
          53,
          57,
          41,
          14,
          52,
          27,
          2,
          43,
          7,
          9,
          54,
          48,
          40,
          49,
          53,
          64,
          56,
          63,
          53,
          4,
          3,
          1,
          10,
          58,
          62,
          55,
          5,
          45,
          49,
          50,
          5,
          9,
          65,
          65,
          19,
          17,
          48,
          65,
          10,
          61,
          58,
          50,
          9,
          45,
          57,
          38,
          29,
          25,
          48,
          11,
          34,
          54,
          22,
          5,
          63,
          14,
          39,
          15,
          6,
          43,
          50,
          60,
          42,
          58,
          41,
          13,
          26,
          35,
          4,
          3,
          10,
          11,
          59,
          50,
          18,
          17,
          29,
          34,
          15,
          29,
          6,
          13,
          41,
          3,
          41,
          61,
          38,
          11,
          48,
          14,
          28,
          9,
          50,
          45,
          13,
          63,
          59,
          5,
          41,
          1,
          55,
          25,
          64,
          34,
          10,
          57,
          61,
          44,
          38,
          46,
          12,
          64,
          59,
          54,
          29,
          48,
          38,
          21,
          54,
          49,
          8,
          40,
          51,
          35,
          5,
          36,
          44,
          49,
          12,
          14,
          27,
          2,
          11,
          24,
          6,
          45,
          22,
          50,
          56,
          44,
          64,
          63,
          61,
          45,
          15,
          8,
          27,
          64,
          11,
          17,
          43,
          55,
          66,
          59,
          36,
          60,
          42,
          62,
          38,
          63,
          62,
          34,
          58,
          34,
          63,
          33,
          22,
          64,
          2,
          61,
          43,
          55,
          44,
          30,
          10,
          18,
          42,
          2,
          41,
          5,
          4,
          2,
          63,
          61,
          50,
          12,
          3,
          63,
          56,
          63,
          43,
          65,
          23,
          57,
          3,
          56,
          45,
          29,
          11,
          4,
          34,
          14,
          31,
          47,
          7,
          47,
          64,
          52,
          48,
          6,
          13,
          58,
          55,
          65,
          52,
          39,
          21,
          60,
          2,
          58,
          62,
          2,
          56,
          63,
          28,
          50,
          14,
          56,
          64,
          56,
          20,
          32,
          45,
          54,
          51,
          18,
          58,
          14,
          9,
          33,
          60,
          18,
          6,
          28,
          13,
          8,
          49,
          18,
          14,
          9,
          20,
          31,
          65,
          51,
          55,
          65,
          56,
          64,
          12,
          32,
          51,
          28,
          12,
          9,
          4,
          10,
          66,
          16,
          9,
          65,
          15,
          64,
          36,
          50,
          39,
          54,
          33,
          46,
          27,
          60,
          5,
          23,
          25,
          4,
          24,
          49,
          40,
          9,
          51,
          49,
          39,
          58,
          48,
          20,
          61,
          60,
          56,
          52,
          39,
          63,
          4,
          1,
          8,
          38,
          60,
          35,
          35,
          50,
          18,
          48,
          3,
          31,
          6,
          18,
          62,
          37,
          62,
          63,
          16,
          62,
          61,
          50,
          40,
          30,
          63,
          29,
          4,
          4,
          52,
          52,
          16,
          55,
          1,
          10,
          25,
          44,
          63,
          32,
          63,
          3,
          11,
          55,
          4,
          51,
          59,
          16,
          43,
          12,
          44,
          8,
          65,
          13,
          48,
          7,
          58,
          55,
          35,
          41,
          56,
          48,
          56,
          36,
          15,
          49,
          1,
          58,
          55,
          2,
          3,
          15,
          57,
          62,
          20,
          61,
          28,
          54,
          62,
          5,
          13,
          59,
          64,
          5,
          26,
          65,
          56,
          3,
          3,
          32,
          1,
          5,
          60,
          23,
          51,
          5,
          63,
          29,
          45,
          20,
          33,
          53,
          58,
          21,
          4,
          57,
          50,
          48,
          14,
          66,
          51,
          40,
          44,
          64,
          3,
          64,
          2,
          58,
          54,
          30,
          48,
          60,
          48,
          12,
          65,
          42,
          13,
          9,
          61,
          3,
          48,
          50,
          63,
          63,
          57,
          33,
          12,
          62,
          1,
          26,
          58,
          65,
          27,
          63,
          63,
          41,
          65,
          47,
          2,
          13,
          53,
          41,
          54,
          65,
          14,
          53,
          34,
          60,
          7,
          59,
          49,
          2,
          25,
          7,
          20,
          59,
          34,
          25,
          55,
          58,
          40,
          8,
          33,
          57,
          57,
          33,
          9,
          5,
          13,
          35,
          53,
          24,
          64,
          14,
          19,
          55,
          4,
          62,
          36,
          9,
          2,
          48,
          6,
          29,
          4,
          54,
          12,
          37,
          3,
          53,
          50,
          14,
          23,
          3,
          63,
          61,
          58,
          16,
          10,
          2,
          3,
          3,
          53,
          65,
          61,
          61,
          42,
          12,
          23,
          9,
          62,
          11,
          35,
          60,
          41,
          11,
          19,
          31,
          11,
          62,
          65,
          1,
          64,
          60,
          58
         ],
         "y": [
          0.2393962962962963,
          0.26701744186046517,
          0.30319939577039273,
          0.17850000000000002,
          0.24206024096385537,
          0.26644357976653693,
          0.20897435897435898,
          0.06990047393364927,
          0.02982142857142857,
          0.15387046632124352,
          0.1275,
          0.5584724919093851,
          null,
          0.25384615384615383,
          0.22549846153846156,
          0.20760132890365446,
          0.149625,
          0.12582995951417006,
          0.19661676646706588,
          0.1966774193548387,
          0.31361445783132524,
          0.12533522727272728,
          0.2646614785992218,
          0.20016049382716053,
          0.20255172413793104,
          0.247,
          0.22113180515759315,
          0.20932565789473687,
          0.23931212121212123,
          0.19350857142857145,
          0.3723404255319149,
          0.06761739130434784,
          0.288018018018018,
          0.13258527131782946,
          0.21520425531914897,
          0.1172093023255814,
          0.442,
          0.21052197802197803,
          0.3608429003021148,
          0.19178666666666666,
          0.19597701149425292,
          0.2668224299065421,
          0.13315492957746478,
          0.16251538461538464,
          0.21416666666666667,
          0.31430716723549484,
          0.15829151291512913,
          0.09539175257731959,
          0.18304761904761904,
          0.20712371134020616,
          0.24134035087719297,
          0.3023382352941177,
          0.334429003021148,
          0.27524561403508774,
          0.1852777777777778,
          0.04587155963302752,
          null,
          0.06792452830188679,
          0.1512542372881356,
          0.392584487534626,
          0.24436363636363637,
          0.030620689655172416,
          0.15356637168141593,
          0.18692561983471076,
          0.29342056074766354,
          null,
          0.09499999999999999,
          0.2070684039087948,
          0.1864285714285714,
          0.1078450704225352,
          0.2147547169811321,
          0.2569771986970684,
          0.2611157894736842,
          0.19268292682926833,
          0.19555823293172692,
          0.15148936170212768,
          0.3353999999999999,
          0.1297297297297297,
          0.15202702702702703,
          0.23912849162011177,
          0.3241983122362869,
          0.16611864406779658,
          0.23780152671755728,
          0.2642620689655173,
          0.2501990049751243,
          0.13966666666666663,
          0.2791486880466472,
          0.14,
          0.18181818181818182,
          0.21049019607843136,
          0.16237499999999996,
          0.2665579268292683,
          0.0884888888888889,
          0.23450000000000004,
          0.2097465753424658,
          0.15597350993377485,
          0.15479452054794524,
          0.1858695652173913,
          0.15047191011235955,
          0.19318777292576422,
          0.296099173553719,
          0.1204047619047619,
          0.14188095238095239,
          0,
          0.05098039215686275,
          0.08714634146341463,
          0.2787017543859649,
          0.2538029556650246,
          0.36,
          0.17913559322033895,
          0.09444444444444446,
          0.33770434782608694,
          0.3477628458498023,
          0.201696,
          0.30188505747126443,
          0.072,
          0.11997333333333333,
          0.41118072289156626,
          0.17281249999999998,
          0.23546853146853144,
          0.15049180327868852,
          0.2275555555555555,
          0.37187499999999996,
          0.23684353741496603,
          0.2171288343558282,
          0.12859677419354837,
          0.09030136986301372,
          0.15747126436781608,
          0.1569183673469388,
          0.2454634146341464,
          0.17784100418410043,
          0.3229714285714286,
          0.3548673835125448,
          0.1963783783783784,
          0,
          0.42346355685131204,
          0.05005607476635515,
          0.2604411764705882,
          0.14241509433962263,
          0.15296137339055793,
          0.089125,
          0.34148688046647235,
          0.2956981132075472,
          0.15515217391304348,
          0.23250887573964502,
          0.2070205128205128,
          0.31428205128205133,
          0.2221818181818182,
          0.45851051051051056,
          0.13555454545454546,
          0.19868965517241383,
          0.14513131313131314,
          0.1603063063063063,
          0.29819014084507045,
          0.2804688427299703,
          0.35560498220640574,
          0.1076923076923077,
          0.14277510040160646,
          0.14,
          0.01906666666666667,
          0.16254193548387094,
          0.39749006622516553,
          0.19235443037974684,
          0.14277056277056277,
          0.29729032258064514,
          0.11888235294117648,
          0,
          0.13836842105263158,
          0.18233333333333335,
          0.6000000000000001,
          0.23684297520661154,
          0.1404,
          0.08741025641025643,
          0.1794488188976378,
          0.17296363636363635,
          0.1806767676767677,
          0.24274103585657372,
          0.3344858044164038,
          0.3275583596214511,
          0.16623529411764706,
          0.09987804878048782,
          0.11404580152671756,
          0.21207067137809185,
          0.11596428571428571,
          0.15518181818181817,
          0.2517676056338028,
          0.3433485342019544,
          0.2202093023255814,
          0.18947572815533983,
          0.14592000000000002,
          0.23255813953488372,
          0.38247422680412374,
          0.21849090909090907,
          0.2578947368421053,
          0.2837264957264957,
          0.3046184971098266,
          0.22478740157480312,
          0.2090181818181818,
          0.24082167832167828,
          0.25666666666666665,
          0.10581094527363183,
          0.12818181818181817,
          0.24395419847328245,
          0.043859649122807015,
          0.18033466135458165,
          0.12619718309859154,
          0.16995121951219513,
          0.16381914893617022,
          0.20008695652173913,
          0.37429702970297035,
          0.22080701754385965,
          0.16884955752212388,
          0.25,
          0.2255892255892256,
          0.05128205128205129,
          0.03125,
          0.4979104477611941,
          0.30393055555555554,
          0.4995967302452315,
          0.1394298245614035,
          0.14514285714285716,
          0.0673076923076923,
          0.38738848920863306,
          0.15927044025157236,
          0.26045631067961167,
          0.22331858407079647,
          0.29690434782608693,
          0.266198275862069,
          0.19767153284671535,
          0.04114492753623188,
          0.29073529411764704,
          0.2916137724550898,
          0.18767605633802814,
          0.2768070175438596,
          0.06896551724137931,
          0.10349999999999998,
          0.24483673469387754,
          0.2772727272727273,
          0.24045220588235294,
          0.00975,
          0.14252760736196318,
          0.3366,
          0.2889056603773585,
          0.16190425531914893,
          0.060361842105263165,
          0.1721645569620253,
          0.1943728813559322,
          0.2886647564469914,
          0.1963373493975904,
          0.178125,
          0.28877508650519035,
          0.22671186440677965,
          0.1987012987012987,
          0,
          0.1853,
          0.287890625,
          0,
          0.20087261146496815,
          0.187959375,
          0.20371276595744678,
          0.33221818181818186,
          0.13747027027027028,
          0.2346,
          0.18551170568561878,
          0.37831486880466475,
          0.45472340425531915,
          0.20565656565656568,
          0.1333833333333333,
          0.3404142857142856,
          0.20012403100775192,
          0.26945454545454545,
          0.16779375000000002,
          0.25308088235294124,
          0.31044102564102566,
          0.1894848484848485,
          0.40869627507163325,
          0.06965853658536586,
          0.18749999999999997,
          0.12699115044247786,
          0.15946341463414637,
          0.08441379310344828,
          0.22265024630541866,
          0.19730769230769232,
          0.28066115702479344,
          0.24713725490196076,
          0.0725,
          0.15451807228915662,
          0.353343653250774,
          0.20597142857142858,
          0.23826086956521736,
          0.20018947368421056,
          0.25126363636363636,
          0.12705,
          0.37462962962962953,
          0.25781250000000006,
          0.2661485714285714,
          0.26317325227963523,
          0.11639097744360902,
          0.007240506329113924,
          0,
          0.1535483870967742,
          0.20547859922178985,
          0.14148344370860927,
          0.25604878048780483,
          0.15731843575418997,
          0.21870270270270276,
          0.24605963302752287,
          0.20167741935483874,
          0.2387125748502994,
          0.177515625,
          0.24949186991869918,
          0.18917441860465117,
          0.22508896797153025,
          0.09785454545454546,
          0.38543103448275867,
          0,
          0.2150909090909091,
          0.1773896103896104,
          0.15151515151515152,
          0.19249999999999998,
          0.2189655172413793,
          0.26708064516129026,
          0.24463473053892215,
          0.43524534161490674,
          0.19271144278606964,
          0.28869310344827587,
          0.4346747967479675,
          0.14430252100840335,
          0.09680916030534352,
          0.20718045112781955,
          0.21465277777777778,
          0.3044025157232705,
          0.2798907103825136,
          0.1860697674418605,
          0.17140594059405945,
          0.1142857142857143,
          null,
          0.11712765957446811,
          0.17544600938967136,
          0.1963798449612403,
          0.0903896103896104,
          0.391875,
          0.2550302013422819,
          0.1972727272727273,
          0.12579787234042553,
          0.02641509433962264,
          0.1844,
          0.08259090909090909,
          0.2562857142857143,
          0.15850202429149798,
          0.09106122448979591,
          0.328125,
          0.17952380952380956,
          0.16402185792349724,
          0.31772,
          0.26107142857142857,
          0.09856000000000001,
          0.14545945945945943,
          0.2198984771573604,
          0.26176315789473686,
          0.27477333333333337,
          0.1419753086419753,
          0.17268292682926828,
          0.22229239766081868,
          0.19707216494845362,
          0.3679777777777778,
          0.40447508305647845,
          0.20952879581151834,
          0.16496894409937887,
          0.08243999999999999,
          0.26950819672131143,
          0.28708810572687227,
          0.30240837696335077,
          0.36370348837209304,
          0.14497183098591548,
          0.1523921568627451,
          0.23888262910798125,
          0.026595744680851064,
          0.22780851063829785,
          0.3068266666666667,
          0.14582608695652174,
          0.32343034055727554,
          0.15420774647887325,
          0.26693333333333336,
          0.14987755102040815,
          0.1998888888888889,
          0.5273125000000001,
          0.24131847133757964,
          0.19164948453608247,
          0.216996,
          0.29632926829268297,
          0.14989655172413793,
          0.2062333333333333,
          0.2198230088495575,
          0.2062025316455696,
          0.22888212927756652,
          0.19603361344537812,
          0.24904761904761905,
          0.19966956521739132,
          0,
          0.260781954887218,
          0.28749456521739136,
          0,
          0.11247499999999999,
          0.1456039603960396,
          0.13902403846153844,
          0.27483221476510067,
          0.23516417910447762,
          0.11083561643835617,
          0.3075,
          0.14259541984732826,
          0.16477599999999998,
          0.16153846153846152,
          0.24256153846153847,
          0.25097837837837833,
          0.12275257731958764,
          0,
          0.17833333333333334,
          0.2012925170068027,
          0.28022898550724634,
          0.05098039215686275,
          0.31854054054054054,
          0.31087786259541983,
          0.04575342465753424,
          0.10085185185185185,
          0.266304347826087,
          0.18899999999999997,
          0.21299159663865547,
          0.16875,
          0.30724528301886794,
          0.12302013422818792,
          0.16425992779783394,
          0.1212808988764045,
          0.10994594594594595,
          0.26131764705882354,
          0.1976325301204819,
          0.1759259259259259,
          0.5962962962962962,
          0.1602152466367713,
          0.21767241379310345,
          0.3053571428571428,
          0.2667415254237288,
          0.24268720379146919,
          0.30548242811501597,
          0.23375849056603776,
          0.3388194444444444,
          0.19818965517241377,
          0,
          0.2958,
          0,
          0.1805056179775281,
          0.33299242424242426,
          0.2601818181818182,
          0.22026058631921827,
          0.1877991452991453,
          0.2241170886075949,
          0.22043386243386245,
          0.2948166666666667,
          0.10470796460176988,
          0.12783732057416267,
          0.14051851851851851,
          0.3102327586206896,
          0,
          0.16693658536585365,
          0.36200000000000004,
          0.276014598540146,
          0.2684302325581395,
          0.19318354430379747,
          0.3852461059190031,
          0.3361503067484662,
          0.2929166666666667,
          0,
          0.19396946564885495,
          0.21863052208835343,
          0.16716955017301038,
          0.14351851851851852,
          0.32606451612903226,
          0.16715730337078652,
          0.10149056603773586,
          0.3258666666666667,
          0.19964363636363636,
          0.08653846153846152,
          0.08876756756756757,
          0.34369577464788736,
          0.24089333333333332,
          0.27335754189944134,
          0.19278139534883726,
          0.22824242424242422,
          0.19980000000000003,
          0.13193037974683544,
          0.19958015267175575,
          0.0652826086956522,
          0.1666187050359712,
          0.21120441988950275,
          0.5379032258064516,
          0.15599999999999997,
          0.10606060606060606,
          0.13646616541353382,
          0.356728323699422,
          0.23598561151079137,
          0.163625,
          0.17777580071174376,
          0.23406302521008404,
          0.26406926406926406,
          0.12027272727272728,
          0.2987628865979382,
          0.2070198675496689,
          0.1246102564102564,
          0.11514285714285713,
          0.025824175824175823,
          0.1533264248704663,
          0.13288038277511963,
          0.4690265486725663,
          0.206745,
          0.3067355371900827,
          0.11558139534883721,
          0.10525000000000001,
          0.09325,
          0.20929054054054055,
          0.04085714285714286,
          0.34332319391634986,
          0.253,
          0.17073913043478264,
          0,
          0.24728491620111734,
          0.09159420289855072,
          0.19064999999999996,
          0.5557142857142857,
          0.30805214723926383,
          0.21788333333333332,
          0.31086387434554974,
          0.3573857142857143,
          0.19144137931034486,
          0.3466666666666666,
          0.08321739130434783,
          0.13681250000000003,
          0.056818181818181816,
          0.16414507772020723,
          0.3273938461538461,
          0.2125940594059406,
          0.14280645161290323,
          0.14312359550561798,
          0,
          0,
          0,
          0.37917827298050144,
          0.2445581395348837,
          0.22439834024896266,
          0.3233961661341853,
          0.324057636887608,
          0.29504166666666665,
          0.2079357142857143,
          0.01845161290322581,
          0.10567307692307693,
          0.1665040650406504,
          0.07327354260089686,
          0.30379522184300345,
          0.18773604060913707,
          0.11091891891891892,
          0.475973063973064,
          0.16533333333333336,
          0.145134375,
          0.37953271028037383,
          0.1772857142857143,
          null,
          0.21179116465863454,
          0.43519546742209636,
          0.2604415584415584
         ]
        }
       ],
       "layout": {
        "template": {
         "data": {
          "bar": [
           {
            "error_x": {
             "color": "#2a3f5f"
            },
            "error_y": {
             "color": "#2a3f5f"
            },
            "marker": {
             "line": {
              "color": "#E5ECF6",
              "width": 0.5
             }
            },
            "type": "bar"
           }
          ],
          "barpolar": [
           {
            "marker": {
             "line": {
              "color": "#E5ECF6",
              "width": 0.5
             }
            },
            "type": "barpolar"
           }
          ],
          "carpet": [
           {
            "aaxis": {
             "endlinecolor": "#2a3f5f",
             "gridcolor": "white",
             "linecolor": "white",
             "minorgridcolor": "white",
             "startlinecolor": "#2a3f5f"
            },
            "baxis": {
             "endlinecolor": "#2a3f5f",
             "gridcolor": "white",
             "linecolor": "white",
             "minorgridcolor": "white",
             "startlinecolor": "#2a3f5f"
            },
            "type": "carpet"
           }
          ],
          "choropleth": [
           {
            "colorbar": {
             "outlinewidth": 0,
             "ticks": ""
            },
            "type": "choropleth"
           }
          ],
          "contour": [
           {
            "colorbar": {
             "outlinewidth": 0,
             "ticks": ""
            },
            "colorscale": [
             [
              0,
              "#0d0887"
             ],
             [
              0.1111111111111111,
              "#46039f"
             ],
             [
              0.2222222222222222,
              "#7201a8"
             ],
             [
              0.3333333333333333,
              "#9c179e"
             ],
             [
              0.4444444444444444,
              "#bd3786"
             ],
             [
              0.5555555555555556,
              "#d8576b"
             ],
             [
              0.6666666666666666,
              "#ed7953"
             ],
             [
              0.7777777777777778,
              "#fb9f3a"
             ],
             [
              0.8888888888888888,
              "#fdca26"
             ],
             [
              1,
              "#f0f921"
             ]
            ],
            "type": "contour"
           }
          ],
          "contourcarpet": [
           {
            "colorbar": {
             "outlinewidth": 0,
             "ticks": ""
            },
            "type": "contourcarpet"
           }
          ],
          "heatmap": [
           {
            "colorbar": {
             "outlinewidth": 0,
             "ticks": ""
            },
            "colorscale": [
             [
              0,
              "#0d0887"
             ],
             [
              0.1111111111111111,
              "#46039f"
             ],
             [
              0.2222222222222222,
              "#7201a8"
             ],
             [
              0.3333333333333333,
              "#9c179e"
             ],
             [
              0.4444444444444444,
              "#bd3786"
             ],
             [
              0.5555555555555556,
              "#d8576b"
             ],
             [
              0.6666666666666666,
              "#ed7953"
             ],
             [
              0.7777777777777778,
              "#fb9f3a"
             ],
             [
              0.8888888888888888,
              "#fdca26"
             ],
             [
              1,
              "#f0f921"
             ]
            ],
            "type": "heatmap"
           }
          ],
          "heatmapgl": [
           {
            "colorbar": {
             "outlinewidth": 0,
             "ticks": ""
            },
            "colorscale": [
             [
              0,
              "#0d0887"
             ],
             [
              0.1111111111111111,
              "#46039f"
             ],
             [
              0.2222222222222222,
              "#7201a8"
             ],
             [
              0.3333333333333333,
              "#9c179e"
             ],
             [
              0.4444444444444444,
              "#bd3786"
             ],
             [
              0.5555555555555556,
              "#d8576b"
             ],
             [
              0.6666666666666666,
              "#ed7953"
             ],
             [
              0.7777777777777778,
              "#fb9f3a"
             ],
             [
              0.8888888888888888,
              "#fdca26"
             ],
             [
              1,
              "#f0f921"
             ]
            ],
            "type": "heatmapgl"
           }
          ],
          "histogram": [
           {
            "marker": {
             "colorbar": {
              "outlinewidth": 0,
              "ticks": ""
             }
            },
            "type": "histogram"
           }
          ],
          "histogram2d": [
           {
            "colorbar": {
             "outlinewidth": 0,
             "ticks": ""
            },
            "colorscale": [
             [
              0,
              "#0d0887"
             ],
             [
              0.1111111111111111,
              "#46039f"
             ],
             [
              0.2222222222222222,
              "#7201a8"
             ],
             [
              0.3333333333333333,
              "#9c179e"
             ],
             [
              0.4444444444444444,
              "#bd3786"
             ],
             [
              0.5555555555555556,
              "#d8576b"
             ],
             [
              0.6666666666666666,
              "#ed7953"
             ],
             [
              0.7777777777777778,
              "#fb9f3a"
             ],
             [
              0.8888888888888888,
              "#fdca26"
             ],
             [
              1,
              "#f0f921"
             ]
            ],
            "type": "histogram2d"
           }
          ],
          "histogram2dcontour": [
           {
            "colorbar": {
             "outlinewidth": 0,
             "ticks": ""
            },
            "colorscale": [
             [
              0,
              "#0d0887"
             ],
             [
              0.1111111111111111,
              "#46039f"
             ],
             [
              0.2222222222222222,
              "#7201a8"
             ],
             [
              0.3333333333333333,
              "#9c179e"
             ],
             [
              0.4444444444444444,
              "#bd3786"
             ],
             [
              0.5555555555555556,
              "#d8576b"
             ],
             [
              0.6666666666666666,
              "#ed7953"
             ],
             [
              0.7777777777777778,
              "#fb9f3a"
             ],
             [
              0.8888888888888888,
              "#fdca26"
             ],
             [
              1,
              "#f0f921"
             ]
            ],
            "type": "histogram2dcontour"
           }
          ],
          "mesh3d": [
           {
            "colorbar": {
             "outlinewidth": 0,
             "ticks": ""
            },
            "type": "mesh3d"
           }
          ],
          "parcoords": [
           {
            "line": {
             "colorbar": {
              "outlinewidth": 0,
              "ticks": ""
             }
            },
            "type": "parcoords"
           }
          ],
          "pie": [
           {
            "automargin": true,
            "type": "pie"
           }
          ],
          "scatter": [
           {
            "marker": {
             "colorbar": {
              "outlinewidth": 0,
              "ticks": ""
             }
            },
            "type": "scatter"
           }
          ],
          "scatter3d": [
           {
            "line": {
             "colorbar": {
              "outlinewidth": 0,
              "ticks": ""
             }
            },
            "marker": {
             "colorbar": {
              "outlinewidth": 0,
              "ticks": ""
             }
            },
            "type": "scatter3d"
           }
          ],
          "scattercarpet": [
           {
            "marker": {
             "colorbar": {
              "outlinewidth": 0,
              "ticks": ""
             }
            },
            "type": "scattercarpet"
           }
          ],
          "scattergeo": [
           {
            "marker": {
             "colorbar": {
              "outlinewidth": 0,
              "ticks": ""
             }
            },
            "type": "scattergeo"
           }
          ],
          "scattergl": [
           {
            "marker": {
             "colorbar": {
              "outlinewidth": 0,
              "ticks": ""
             }
            },
            "type": "scattergl"
           }
          ],
          "scattermapbox": [
           {
            "marker": {
             "colorbar": {
              "outlinewidth": 0,
              "ticks": ""
             }
            },
            "type": "scattermapbox"
           }
          ],
          "scatterpolar": [
           {
            "marker": {
             "colorbar": {
              "outlinewidth": 0,
              "ticks": ""
             }
            },
            "type": "scatterpolar"
           }
          ],
          "scatterpolargl": [
           {
            "marker": {
             "colorbar": {
              "outlinewidth": 0,
              "ticks": ""
             }
            },
            "type": "scatterpolargl"
           }
          ],
          "scatterternary": [
           {
            "marker": {
             "colorbar": {
              "outlinewidth": 0,
              "ticks": ""
             }
            },
            "type": "scatterternary"
           }
          ],
          "surface": [
           {
            "colorbar": {
             "outlinewidth": 0,
             "ticks": ""
            },
            "colorscale": [
             [
              0,
              "#0d0887"
             ],
             [
              0.1111111111111111,
              "#46039f"
             ],
             [
              0.2222222222222222,
              "#7201a8"
             ],
             [
              0.3333333333333333,
              "#9c179e"
             ],
             [
              0.4444444444444444,
              "#bd3786"
             ],
             [
              0.5555555555555556,
              "#d8576b"
             ],
             [
              0.6666666666666666,
              "#ed7953"
             ],
             [
              0.7777777777777778,
              "#fb9f3a"
             ],
             [
              0.8888888888888888,
              "#fdca26"
             ],
             [
              1,
              "#f0f921"
             ]
            ],
            "type": "surface"
           }
          ],
          "table": [
           {
            "cells": {
             "fill": {
              "color": "#EBF0F8"
             },
             "line": {
              "color": "white"
             }
            },
            "header": {
             "fill": {
              "color": "#C8D4E3"
             },
             "line": {
              "color": "white"
             }
            },
            "type": "table"
           }
          ]
         },
         "layout": {
          "annotationdefaults": {
           "arrowcolor": "#2a3f5f",
           "arrowhead": 0,
           "arrowwidth": 1
          },
          "coloraxis": {
           "colorbar": {
            "outlinewidth": 0,
            "ticks": ""
           }
          },
          "colorscale": {
           "diverging": [
            [
             0,
             "#8e0152"
            ],
            [
             0.1,
             "#c51b7d"
            ],
            [
             0.2,
             "#de77ae"
            ],
            [
             0.3,
             "#f1b6da"
            ],
            [
             0.4,
             "#fde0ef"
            ],
            [
             0.5,
             "#f7f7f7"
            ],
            [
             0.6,
             "#e6f5d0"
            ],
            [
             0.7,
             "#b8e186"
            ],
            [
             0.8,
             "#7fbc41"
            ],
            [
             0.9,
             "#4d9221"
            ],
            [
             1,
             "#276419"
            ]
           ],
           "sequential": [
            [
             0,
             "#0d0887"
            ],
            [
             0.1111111111111111,
             "#46039f"
            ],
            [
             0.2222222222222222,
             "#7201a8"
            ],
            [
             0.3333333333333333,
             "#9c179e"
            ],
            [
             0.4444444444444444,
             "#bd3786"
            ],
            [
             0.5555555555555556,
             "#d8576b"
            ],
            [
             0.6666666666666666,
             "#ed7953"
            ],
            [
             0.7777777777777778,
             "#fb9f3a"
            ],
            [
             0.8888888888888888,
             "#fdca26"
            ],
            [
             1,
             "#f0f921"
            ]
           ],
           "sequentialminus": [
            [
             0,
             "#0d0887"
            ],
            [
             0.1111111111111111,
             "#46039f"
            ],
            [
             0.2222222222222222,
             "#7201a8"
            ],
            [
             0.3333333333333333,
             "#9c179e"
            ],
            [
             0.4444444444444444,
             "#bd3786"
            ],
            [
             0.5555555555555556,
             "#d8576b"
            ],
            [
             0.6666666666666666,
             "#ed7953"
            ],
            [
             0.7777777777777778,
             "#fb9f3a"
            ],
            [
             0.8888888888888888,
             "#fdca26"
            ],
            [
             1,
             "#f0f921"
            ]
           ]
          },
          "colorway": [
           "#636efa",
           "#EF553B",
           "#00cc96",
           "#ab63fa",
           "#FFA15A",
           "#19d3f3",
           "#FF6692",
           "#B6E880",
           "#FF97FF",
           "#FECB52"
          ],
          "font": {
           "color": "#2a3f5f"
          },
          "geo": {
           "bgcolor": "white",
           "lakecolor": "white",
           "landcolor": "#E5ECF6",
           "showlakes": true,
           "showland": true,
           "subunitcolor": "white"
          },
          "hoverlabel": {
           "align": "left"
          },
          "hovermode": "closest",
          "mapbox": {
           "style": "light"
          },
          "paper_bgcolor": "white",
          "plot_bgcolor": "#E5ECF6",
          "polar": {
           "angularaxis": {
            "gridcolor": "white",
            "linecolor": "white",
            "ticks": ""
           },
           "bgcolor": "#E5ECF6",
           "radialaxis": {
            "gridcolor": "white",
            "linecolor": "white",
            "ticks": ""
           }
          },
          "scene": {
           "xaxis": {
            "backgroundcolor": "#E5ECF6",
            "gridcolor": "white",
            "gridwidth": 2,
            "linecolor": "white",
            "showbackground": true,
            "ticks": "",
            "zerolinecolor": "white"
           },
           "yaxis": {
            "backgroundcolor": "#E5ECF6",
            "gridcolor": "white",
            "gridwidth": 2,
            "linecolor": "white",
            "showbackground": true,
            "ticks": "",
            "zerolinecolor": "white"
           },
           "zaxis": {
            "backgroundcolor": "#E5ECF6",
            "gridcolor": "white",
            "gridwidth": 2,
            "linecolor": "white",
            "showbackground": true,
            "ticks": "",
            "zerolinecolor": "white"
           }
          },
          "shapedefaults": {
           "line": {
            "color": "#2a3f5f"
           }
          },
          "ternary": {
           "aaxis": {
            "gridcolor": "white",
            "linecolor": "white",
            "ticks": ""
           },
           "baxis": {
            "gridcolor": "white",
            "linecolor": "white",
            "ticks": ""
           },
           "bgcolor": "#E5ECF6",
           "caxis": {
            "gridcolor": "white",
            "linecolor": "white",
            "ticks": ""
           }
          },
          "title": {
           "x": 0.05
          },
          "xaxis": {
           "automargin": true,
           "gridcolor": "white",
           "linecolor": "white",
           "ticks": "",
           "title": {
            "standoff": 15
           },
           "zerolinecolor": "white",
           "zerolinewidth": 2
          },
          "yaxis": {
           "automargin": true,
           "gridcolor": "white",
           "linecolor": "white",
           "ticks": "",
           "title": {
            "standoff": 15
           },
           "zerolinecolor": "white",
           "zerolinewidth": 2
          }
         }
        },
        "title": {
         "text": "Scoring Efficiency and Total Games Played"
        }
       }
      },
      "text/html": [
       "<div>\n",
       "        \n",
       "        \n",
       "            <div id=\"1882097e-8002-4143-93aa-282662d3ed90\" class=\"plotly-graph-div\" style=\"height:525px; width:100%;\"></div>\n",
       "            <script type=\"text/javascript\">\n",
       "                require([\"plotly\"], function(Plotly) {\n",
       "                    window.PLOTLYENV=window.PLOTLYENV || {};\n",
       "                    \n",
       "                if (document.getElementById(\"1882097e-8002-4143-93aa-282662d3ed90\")) {\n",
       "                    Plotly.newPlot(\n",
       "                        '1882097e-8002-4143-93aa-282662d3ed90',\n",
       "                        [{\"hovertext\": [\"Steven Adams\", \"Bam Adebayo\", \"LaMarcus Aldridge\", \"Nickeil Alexander-Walker\", \"Grayson Allen\", \"Jarrett Allen\", \"Kadeem Allen\", \"Al-Farouq Aminu\", \"Justin Anderson\", \"Kyle Anderson\", \"Ryan Anderson\", \"Giannis Antetokounmpo\", \"Kostas Antetokounmpo\", \"Thanasis Antetokounmpo\", \"Carmelo Anthony\", \"OG Anunoby\", \"Ryan Arcidiacono\", \"Trevor Ariza\", \"Trevor Ariza\", \"D.J. Augustin\", \"Deandre Ayton\", \"Dwayne Bacon\", \"Marvin Bagley III\", \"Lonzo Ball\", \"Mo Bamba\", \"J.J. Barea\", \"Harrison Barnes\", \"RJ Barrett\", \"Will Barton\", \"Keita Bates-Diop\", \"Keita Bates-Diop\", \"Nicolas Batum\", \"Aron Baynes\", \"Kent Bazemore\", \"Kent Bazemore\", \"Darius Bazley\", \"Bradley Beal\", \"Malik Beasley\", \"Malik Beasley\", \"Marco Belinelli\", \"Jordan Bell\", \"Jordan Bell\", \"DeAndre' Bembry\", \"Dragan Bender\", \"Dragan Bender\", \"Davis Bertans\", \"Patrick Beverley\", \"Khem Birch\", \"Goga Bitadze\", \"Bismack Biyombo\", \"Nemanja Bjelica\", \"Eric Bledsoe\", \"Bojan Bogdanovic\", \"Bogdan Bogdanovic\", \"Jonah Bolden\", \"Jonah Bolden\", \"Marques Bolden\", \"Jordan Bone\", \"Isaac Bonga\", \"Devin Booker\", \"Chris Boucher\", \"Brian Bowen II\", \"Ky Bowman\", \"Avery Bradley\", \"Tony Bradley\", \"Jarrell Brantley\", \"Ignas Brazdeikis\", \"Miles Bridges\", \"Mikal Bridges\", \"Oshae Brissett\", \"Ryan Broekhoff\", \"Malcolm Brogdon\", \"Dillon Brooks\", \"Charles Brown Jr.\", \"Troy Brown Jr.\", \"Bruce Brown\", \"Jaylen Brown\", \"Moses Brown\", \"Sterling Brown\", \"Jalen Brunson\", \"Thomas Bryant\", \"Reggie Bullock\", \"Trey Burke\", \"Alec Burks\", \"Alec Burks\", \"Deonte Burton\", \"Jimmy Butler\", \"Bruno Caboclo\", \"Bruno Caboclo\", \"Kentavious Caldwell-Pope\", \"Vlatko Cancar\", \"Clint Capela\", \"DeMarre Carroll\", \"DeMarre Carroll\", \"Wendell Carter Jr.\", \"Jevon Carter\", \"Vince Carter\", \"Michael Carter-Williams\", \"Alex Caruso\", \"Willie Cauley-Stein\", \"Willie Cauley-Stein\", \"Tyson Chandler\", \"Wilson Chandler\", \"Joe Chealey\", \"Zylan Cheatham\", \"Chris Chiozza\", \"Chris Chiozza\", \"Marquese Chriss\", \"Brandon Clarke\", \"Gary Clark\", \"Gary Clark\", \"Jordan Clarkson\", \"Jordan Clarkson\", \"Nicolas Claxton\", \"Chris Clemons\", \"Antonius Cleveland\", \"Amir Coffey\", \"John Collins\", \"Zach Collins\", \"Mike Conley\", \"Pat Connaughton\", \"Quinn Cook\", \"Tyler Cook\", \"Robert Covington\", \"Robert Covington\", \"Allen Crabbe\", \"Allen Crabbe\", \"Torrey Craig\", \"Jae Crowder\", \"Jae Crowder\", \"Jarrett Culver\", \"Seth Curry\", \"Stephen Curry\", \"Troy Daniels\", \"Troy Daniels\", \"Anthony Davis\", \"Ed Davis\", \"Terence Davis\", \"Dewayne Dedmon\", \"Dewayne Dedmon\", \"Matthew Dellavedova\", \"DeMar DeRozan\", \"Cheick Diallo\", \"Hamidou Diallo\", \"Gorgui Dieng\", \"Gorgui Dieng\", \"Spencer Dinwiddie\", \"Donte DiVincenzo\", \"Luka Doncic\", \"Luguentz Dort\", \"Damyean Dotson\", \"Sekou Doumbouya\", \"PJ Dozier\", \"Goran Dragic\", \"Andre Drummond\", \"Andre Drummond\", \"Jared Dudley\", \"Kris Dunn\", \"Carsen Edwards\", \"Henry Ellenson\", \"Wayne Ellington\", \"Joel Embiid\", \"James Ennis III\", \"James Ennis III\", \"Drew Eubanks\", \"Jacob Evans\", \"Jacob Evans\", \"Dante Exum\", \"Dante Exum\", \"Tacko Fall\", \"Derrick Favors\", \"Cristiano Felicio\", \"Terrance Ferguson\", \"Bruno Fernando\", \"Yogi Ferrell\", \"Dorian Finney-Smith\", \"Bryn Forbes\", \"Evan Fournier\", \"De'Aaron Fox\", \"Melvin Frazier Jr.\", \"Michael Frazier\", \"Tim Frazier\", \"Markelle Fultz\", \"Wenyen Gabriel\", \"Wenyen Gabriel\", \"Daniel Gafford\", \"Danilo Gallinari\", \"Langston Galloway\", \"Darius Garland\", \"Marc Gasol\", \"Rudy Gay\", \"Paul George\", \"Taj Gibson\", \"Harry Giles III\", \"Shai Gilgeous-Alexander\", \"Rudy Gobert\", \"Brandon Goodwin\", \"Aaron Gordon\", \"Eric Gordon\", \"Devonte' Graham\", \"Treveon Graham\", \"Treveon Graham\", \"Jerami Grant\", \"Josh Gray\", \"Danny Green\", \"Draymond Green\", \"JaMychal Green\", \"Javonte Green\", \"Jeff Green\", \"Jeff Green\", \"Blake Griffin\", \"Marko Guduric\", \"Kyle Guy\", \"Rui Hachimura\", \"Devon Hall\", \"Donta Hall\", \"Dusty Hannahs\", \"Tim Hardaway Jr.\", \"James Harden\", \"Maurice Harkless\", \"Maurice Harkless\", \"Jared Harper\", \"Montrezl Harrell\", \"Gary Harris\", \"Joe Harris\", \"Shaquille Harrison\", \"Tobias Harris\", \"Isaiah Hartenstein\", \"Josh Hart\", \"Udonis Haslem\", \"Jaxson Hayes\", \"Gordon Hayward\", \"John Henson\", \"John Henson\", \"Dewan Hernandez\", \"Juancho Hernangomez\", \"Juancho Hernangomez\", \"Willy Hernangomez\", \"Tyler Herro\", \"Kevin Hervey\", \"Mario Hezonja\", \"Buddy Hield\", \"George Hill\", \"Solomon Hill\", \"Solomon Hill\", \"Jaylen Hoard\", \"Aaron Holiday\", \"Jrue Holiday\", \"Justin Holiday\", \"Rondae Hollis-Jefferson\", \"Richaun Holmes\", \"Rodney Hood\", \"Al Horford\", \"Talen Horton-Tucker\", \"Danuel House Jr.\", \"Dwight Howard\", \"William Howard\", \"Kevin Huerter\", \"De'Andre Hunter\", \"Chandler Hutchison\", \"Serge Ibaka\", \"Andre Iguodala\", \"Ersan Ilyasova\", \"Joe Ingles\", \"Brandon Ingram\", \"Kyrie Irving\", \"Jonathan Isaac\", \"Wes Iwundu\", \"Jaren Jackson Jr.\", \"Frank Jackson\", \"Josh Jackson\", \"Justin Jackson\", \"Reggie Jackson\", \"Reggie Jackson\", \"Justin James\", \"LeBron James\", \"Amile Jefferson\", \"DaQuan Jeffries\", \"Ty Jerome\", \"Alize Johnson\", \"BJ Johnson\", \"Cameron Johnson\", \"James Johnson\", \"James Johnson\", \"Keldon Johnson\", \"Stanley Johnson\", \"Tyler Johnson\", \"Nikola Jokic\", \"Derrick Jones Jr.\", \"Damian Jones\", \"Tyus Jones\", \"DeAndre Jordan\", \"Cory Joseph\", \"Mfiondu Kabengele\", \"Frank Kaminsky\", \"Enes Kanter\", \"Luke Kennard\", \"Michael Kidd-Gilchrist\", \"Michael Kidd-Gilchrist\", \"Stanton Kidd\", \"Louis King\", \"Maxi Kleber\", \"Brandon Knight\", \"Brandon Knight\", \"Kevin Knox II\", \"John Konchar\", \"Furkan Korkmaz\", \"Luke Kornet\", \"Kyle Korver\", \"Rodions Kurucs\", \"Kyle Kuzma\", \"Skal Labissiere\", \"Jeremy Lamb\", \"Romeo Langford\", \"Zach LaVine\", \"Vic Law\", \"Jake Layman\", \"TJ Leaf\", \"Jalen Lecque\", \"Courtney Lee\", \"Damion Lee\", \"Alex Len\", \"Alex Len\", \"Kawhi Leonard\", \"Meyers Leonard\", \"Caris LeVert\", \"Damian Lillard\", \"Nassir Little\", \"Kevon Looney\", \"Brook Lopez\", \"Robin Lopez\", \"Kevin Love\", \"Kyle Lowry\", \"Timothe Luwawu-Cabarrot\", \"Trey Lyles\", \"Daryl Macon\", \"J.P. Macura\", \"Josh Magette\", \"Ian Mahinmi\", \"Thon Maker\", \"Terance Mann\", \"Boban Marjanovic\", \"Lauri Markkanen\", \"Caleb Martin\", \"Cody Martin\", \"Jeremiah Martin\", \"Kelan Martin\", \"Frank Mason\", \"Garrison Mathews\", \"Wesley Matthews\", \"Patrick McCaw\", \"CJ McCollum\", \"T.J. McConnell\", \"Jalen McDaniels\", \"Doug McDermott\", \"JaVale McGee\", \"Rodney McGruder\", \"Alfonzo McKinnie\", \"Jordan McLaughlin\", \"Ben McLemore\", \"Jordan McRae\", \"Jordan McRae\", \"Jordan McRae\", \"Nicolo Melli\", \"De'Anthony Melton\", \"Chimezie Metu\", \"Khris Middleton\", \"Eric Mika\", \"CJ Miles\", \"Malcolm Miller\", \"Paul Millsap\", \"Patty Mills\", \"Shake Milton\", \"Donovan Mitchell\", \"Naz Mitrou-Long\", \"Adam Mokoka\", \"Malik Monk\", \"Matt Mooney\", \"E'Twaun Moore\", \"Ja Morant\", \"Juwan Morgan\", \"Marcus Morris Sr.\", \"Marcus Morris Sr.\", \"Markieff Morris\", \"Markieff Morris\", \"Monte Morris\", \"Johnathan Motley\", \"Emmanuel Mudiay\", \"Mychal Mulder\", \"Dejounte Murray\", \"Jamal Murray\", \"Dzanan Musa\", \"Mike Muscala\", \"Svi Mykhailiuk\", \"Abdel Nader\", \"Larry Nance Jr.\", \"Shabazz Napier\", \"Shabazz Napier\", \"Raul Neto\", \"Malik Newman\", \"Georges Niang\", \"Nerlens Noel\", \"Zach Norvell Jr.\", \"Zach Norvell Jr.\", \"Jaylen Nowell\", \"Frank Ntilikina\", \"Kendrick Nunn\", \"David Nwaba\", \"Semi Ojeleye\", \"Jahlil Okafor\", \"Elie Okobo\", \"Josh Okogie\", \"KZ Okpala\", \"Victor Oladipo\", \"Kelly Olynyk\", \"Royce O'Neale\", \"Miye Oni\", \"Kyle O'Quinn\", \"Cedi Osman\", \"Kelly Oubre Jr.\", \"Tariq Owens\", \"Jeremy Pargo\", \"Jabari Parker\", \"Jabari Parker\", \"Chandler Parsons\", \"Eric Paschall\", \"Anzejs Pasecniks\", \"Patrick Patterson\", \"Justin Patton\", \"Chris Paul\", \"Gary Payton II\", \"Elfrid Payton\", \"Norvel Pelle\", \"Theo Pinson\", \"Mason Plumlee\", \"Jakob Poeltl\", \"Vincent Poirier\", \"Shamorie Ponds\", \"Jordan Poole\", \"Kevin Porter Jr.\", \"Michael Porter Jr.\", \"Otto Porter Jr.\", \"Bobby Portis\", \"Kristaps Porzingis\", \"Dwight Powell\", \"Norman Powell\", \"Taurean Prince\", \"Chasson Randle\", \"Julius Randle\", \"Josh Reaves\", \"Cam Reddish\", \"JJ Redick\", \"Naz Reid\", \"Josh Richardson\", \"Austin Rivers\", \"Glenn Robinson III\", \"Glenn Robinson III\", \"Duncan Robinson\", \"Jerome Robinson\", \"Jerome Robinson\", \"Justin Robinson\", \"Mitchell Robinson\", \"Isaiah Roby\", \"Rajon Rondo\", \"Derrick Rose\", \"Terrence Ross\", \"Terry Rozier\", \"Ricky Rubio\", \"D'Angelo Russell\", \"D'Angelo Russell\", \"Domantas Sabonis\", \"Luka Samanic\", \"JaKarr Sampson\", \"Dario Saric\", \"Tomas Satoransky\", \"Admiral Schofield\", \"Dennis Schroder\", \"Mike Scott\", \"Thabo Sefolosha\", \"Collin Sexton\", \"Landry Shamet\", \"Marial Shayok\", \"Iman Shumpert\", \"Pascal Siakam\", \"Chris Silva\", \"Ben Simmons\", \"Anfernee Simons\", \"Alen Smailagic\", \"Marcus Smart\", \"Dennis Smith Jr.\", \"Ish Smith\", \"Zhaire Smith\", \"Tony Snell\", \"Omari Spellman\", \"Max Strus\", \"Edmond Sumner\", \"Caleb Swanigan\", \"Caleb Swanigan\", \"Jayson Tatum\", \"Jeff Teague\", \"Jeff Teague\", \"Garrett Temple\", \"Daniel Theis\", \"Isaiah Thomas\", \"Khyri Thomas\", \"Matt Thomas\", \"Tristan Thompson\", \"Matisse Thybulle\", \"Anthony Tolliver\", \"Anthony Tolliver\", \"Anthony Tolliver\", \"Juan Toscano-Anderson\", \"Karl-Anthony Towns\", \"Gary Trent Jr.\", \"Allonzo Trier\", \"P.J. Tucker\", \"Rayjon Tucker\", \"Evan Turner\", \"Myles Turner\", \"Jarrod Uthoff\", \"Jonas Valanciunas\", \"Denzel Valentine\", \"Jarred Vanderbilt\", \"Jarred Vanderbilt\", \"Fred VanVleet\", \"Gabe Vincent\", \"Noah Vonleh\", \"Noah Vonleh\", \"Nikola Vucevic\", \"Dean Wade\", \"Moritz Wagner\", \"Dion Waiters\", \"Lonnie Walker IV\", \"Kemba Walker\", \"Tyrone Wallace\", \"Derrick Walton Jr.\", \"Derrick Walton Jr.\", \"Brad Wanamaker\", \"T.J. Warren\", \"P.J. Washington\", \"Yuta Watanabe\", \"Tremont Waters\", \"Paul Watson\", \"Paul Watson\", \"Quinndary Weatherspoon\", \"Russell Westbrook\", \"Coby White\", \"Derrick White\", \"Hassan Whiteside\", \"Andrew Wiggins\", \"Andrew Wiggins\", \"Robert Williams III\", \"Nigel Williams-Goss\", \"Grant Williams\", \"Johnathan Williams\", \"Kenrich Williams\", \"Lou Williams\", \"Marvin Williams\", \"Marvin Williams\", \"Zion Williamson\", \"D.J. Wilson\", \"Justise Winslow\", \"Christian Wood\", \"Delon Wright\", \"Justin Wright-Foreman\", \"Thaddeus Young\", \"Trae Young\", \"Cody Zeller\"], \"marker\": {\"color\": \"red\"}, \"mode\": \"markers\", \"type\": \"scatter\", \"x\": [58, 65, 53, 41, 30, 64, 10, 18, 3, 59, 2, 57, 3, 18, 50, 63, 58, 32, 21, 49, 30, 39, 13, 56, 60, 26, 64, 56, 58, 37, 2, 22, 42, 43, 21, 53, 57, 41, 14, 52, 27, 2, 43, 7, 9, 54, 48, 40, 49, 53, 64, 56, 63, 53, 4, 3, 1, 10, 58, 62, 55, 5, 45, 49, 50, 5, 9, 65, 65, 19, 17, 48, 65, 10, 61, 58, 50, 9, 45, 57, 38, 29, 25, 48, 11, 34, 54, 22, 5, 63, 14, 39, 15, 6, 43, 50, 60, 42, 58, 41, 13, 26, 35, 4, 3, 10, 11, 59, 50, 18, 17, 29, 34, 15, 29, 6, 13, 41, 3, 41, 61, 38, 11, 48, 14, 28, 9, 50, 45, 13, 63, 59, 5, 41, 1, 55, 25, 64, 34, 10, 57, 61, 44, 38, 46, 12, 64, 59, 54, 29, 48, 38, 21, 54, 49, 8, 40, 51, 35, 5, 36, 44, 49, 12, 14, 27, 2, 11, 24, 6, 45, 22, 50, 56, 44, 64, 63, 61, 45, 15, 8, 27, 64, 11, 17, 43, 55, 66, 59, 36, 60, 42, 62, 38, 63, 62, 34, 58, 34, 63, 33, 22, 64, 2, 61, 43, 55, 44, 30, 10, 18, 42, 2, 41, 5, 4, 2, 63, 61, 50, 12, 3, 63, 56, 63, 43, 65, 23, 57, 3, 56, 45, 29, 11, 4, 34, 14, 31, 47, 7, 47, 64, 52, 48, 6, 13, 58, 55, 65, 52, 39, 21, 60, 2, 58, 62, 2, 56, 63, 28, 50, 14, 56, 64, 56, 20, 32, 45, 54, 51, 18, 58, 14, 9, 33, 60, 18, 6, 28, 13, 8, 49, 18, 14, 9, 20, 31, 65, 51, 55, 65, 56, 64, 12, 32, 51, 28, 12, 9, 4, 10, 66, 16, 9, 65, 15, 64, 36, 50, 39, 54, 33, 46, 27, 60, 5, 23, 25, 4, 24, 49, 40, 9, 51, 49, 39, 58, 48, 20, 61, 60, 56, 52, 39, 63, 4, 1, 8, 38, 60, 35, 35, 50, 18, 48, 3, 31, 6, 18, 62, 37, 62, 63, 16, 62, 61, 50, 40, 30, 63, 29, 4, 4, 52, 52, 16, 55, 1, 10, 25, 44, 63, 32, 63, 3, 11, 55, 4, 51, 59, 16, 43, 12, 44, 8, 65, 13, 48, 7, 58, 55, 35, 41, 56, 48, 56, 36, 15, 49, 1, 58, 55, 2, 3, 15, 57, 62, 20, 61, 28, 54, 62, 5, 13, 59, 64, 5, 26, 65, 56, 3, 3, 32, 1, 5, 60, 23, 51, 5, 63, 29, 45, 20, 33, 53, 58, 21, 4, 57, 50, 48, 14, 66, 51, 40, 44, 64, 3, 64, 2, 58, 54, 30, 48, 60, 48, 12, 65, 42, 13, 9, 61, 3, 48, 50, 63, 63, 57, 33, 12, 62, 1, 26, 58, 65, 27, 63, 63, 41, 65, 47, 2, 13, 53, 41, 54, 65, 14, 53, 34, 60, 7, 59, 49, 2, 25, 7, 20, 59, 34, 25, 55, 58, 40, 8, 33, 57, 57, 33, 9, 5, 13, 35, 53, 24, 64, 14, 19, 55, 4, 62, 36, 9, 2, 48, 6, 29, 4, 54, 12, 37, 3, 53, 50, 14, 23, 3, 63, 61, 58, 16, 10, 2, 3, 3, 53, 65, 61, 61, 42, 12, 23, 9, 62, 11, 35, 60, 41, 11, 19, 31, 11, 62, 65, 1, 64, 60, 58], \"y\": [0.2393962962962963, 0.26701744186046517, 0.30319939577039273, 0.17850000000000002, 0.24206024096385537, 0.26644357976653693, 0.20897435897435898, 0.06990047393364927, 0.02982142857142857, 0.15387046632124352, 0.1275, 0.5584724919093851, null, 0.25384615384615383, 0.22549846153846156, 0.20760132890365446, 0.149625, 0.12582995951417006, 0.19661676646706588, 0.1966774193548387, 0.31361445783132524, 0.12533522727272728, 0.2646614785992218, 0.20016049382716053, 0.20255172413793104, 0.247, 0.22113180515759315, 0.20932565789473687, 0.23931212121212123, 0.19350857142857145, 0.3723404255319149, 0.06761739130434784, 0.288018018018018, 0.13258527131782946, 0.21520425531914897, 0.1172093023255814, 0.442, 0.21052197802197803, 0.3608429003021148, 0.19178666666666666, 0.19597701149425292, 0.2668224299065421, 0.13315492957746478, 0.16251538461538464, 0.21416666666666667, 0.31430716723549484, 0.15829151291512913, 0.09539175257731959, 0.18304761904761904, 0.20712371134020616, 0.24134035087719297, 0.3023382352941177, 0.334429003021148, 0.27524561403508774, 0.1852777777777778, 0.04587155963302752, null, 0.06792452830188679, 0.1512542372881356, 0.392584487534626, 0.24436363636363637, 0.030620689655172416, 0.15356637168141593, 0.18692561983471076, 0.29342056074766354, null, 0.09499999999999999, 0.2070684039087948, 0.1864285714285714, 0.1078450704225352, 0.2147547169811321, 0.2569771986970684, 0.2611157894736842, 0.19268292682926833, 0.19555823293172692, 0.15148936170212768, 0.3353999999999999, 0.1297297297297297, 0.15202702702702703, 0.23912849162011177, 0.3241983122362869, 0.16611864406779658, 0.23780152671755728, 0.2642620689655173, 0.2501990049751243, 0.13966666666666663, 0.2791486880466472, 0.14, 0.18181818181818182, 0.21049019607843136, 0.16237499999999996, 0.2665579268292683, 0.0884888888888889, 0.23450000000000004, 0.2097465753424658, 0.15597350993377485, 0.15479452054794524, 0.1858695652173913, 0.15047191011235955, 0.19318777292576422, 0.296099173553719, 0.1204047619047619, 0.14188095238095239, 0.0, 0.05098039215686275, 0.08714634146341463, 0.2787017543859649, 0.2538029556650246, 0.36, 0.17913559322033895, 0.09444444444444446, 0.33770434782608694, 0.3477628458498023, 0.201696, 0.30188505747126443, 0.072, 0.11997333333333333, 0.41118072289156626, 0.17281249999999998, 0.23546853146853144, 0.15049180327868852, 0.2275555555555555, 0.37187499999999996, 0.23684353741496603, 0.2171288343558282, 0.12859677419354837, 0.09030136986301372, 0.15747126436781608, 0.1569183673469388, 0.2454634146341464, 0.17784100418410043, 0.3229714285714286, 0.3548673835125448, 0.1963783783783784, 0.0, 0.42346355685131204, 0.05005607476635515, 0.2604411764705882, 0.14241509433962263, 0.15296137339055793, 0.089125, 0.34148688046647235, 0.2956981132075472, 0.15515217391304348, 0.23250887573964502, 0.2070205128205128, 0.31428205128205133, 0.2221818181818182, 0.45851051051051056, 0.13555454545454546, 0.19868965517241383, 0.14513131313131314, 0.1603063063063063, 0.29819014084507045, 0.2804688427299703, 0.35560498220640574, 0.1076923076923077, 0.14277510040160646, 0.14, 0.01906666666666667, 0.16254193548387094, 0.39749006622516553, 0.19235443037974684, 0.14277056277056277, 0.29729032258064514, 0.11888235294117648, 0.0, 0.13836842105263158, 0.18233333333333335, 0.6000000000000001, 0.23684297520661154, 0.1404, 0.08741025641025643, 0.1794488188976378, 0.17296363636363635, 0.1806767676767677, 0.24274103585657372, 0.3344858044164038, 0.3275583596214511, 0.16623529411764706, 0.09987804878048782, 0.11404580152671756, 0.21207067137809185, 0.11596428571428571, 0.15518181818181817, 0.2517676056338028, 0.3433485342019544, 0.2202093023255814, 0.18947572815533983, 0.14592000000000002, 0.23255813953488372, 0.38247422680412374, 0.21849090909090907, 0.2578947368421053, 0.2837264957264957, 0.3046184971098266, 0.22478740157480312, 0.2090181818181818, 0.24082167832167828, 0.25666666666666665, 0.10581094527363183, 0.12818181818181817, 0.24395419847328245, 0.043859649122807015, 0.18033466135458165, 0.12619718309859154, 0.16995121951219513, 0.16381914893617022, 0.20008695652173913, 0.37429702970297035, 0.22080701754385965, 0.16884955752212388, 0.25, 0.2255892255892256, 0.05128205128205129, 0.03125, 0.4979104477611941, 0.30393055555555554, 0.4995967302452315, 0.1394298245614035, 0.14514285714285716, 0.0673076923076923, 0.38738848920863306, 0.15927044025157236, 0.26045631067961167, 0.22331858407079647, 0.29690434782608693, 0.266198275862069, 0.19767153284671535, 0.04114492753623188, 0.29073529411764704, 0.2916137724550898, 0.18767605633802814, 0.2768070175438596, 0.06896551724137931, 0.10349999999999998, 0.24483673469387754, 0.2772727272727273, 0.24045220588235294, 0.00975, 0.14252760736196318, 0.3366, 0.2889056603773585, 0.16190425531914893, 0.060361842105263165, 0.1721645569620253, 0.1943728813559322, 0.2886647564469914, 0.1963373493975904, 0.178125, 0.28877508650519035, 0.22671186440677965, 0.1987012987012987, 0.0, 0.1853, 0.287890625, 0.0, 0.20087261146496815, 0.187959375, 0.20371276595744678, 0.33221818181818186, 0.13747027027027028, 0.2346, 0.18551170568561878, 0.37831486880466475, 0.45472340425531915, 0.20565656565656568, 0.1333833333333333, 0.3404142857142856, 0.20012403100775192, 0.26945454545454545, 0.16779375000000002, 0.25308088235294124, 0.31044102564102566, 0.1894848484848485, 0.40869627507163325, 0.06965853658536586, 0.18749999999999997, 0.12699115044247786, 0.15946341463414637, 0.08441379310344828, 0.22265024630541866, 0.19730769230769232, 0.28066115702479344, 0.24713725490196076, 0.0725, 0.15451807228915662, 0.353343653250774, 0.20597142857142858, 0.23826086956521736, 0.20018947368421056, 0.25126363636363636, 0.12705, 0.37462962962962953, 0.25781250000000006, 0.2661485714285714, 0.26317325227963523, 0.11639097744360902, 0.007240506329113924, 0.0, 0.1535483870967742, 0.20547859922178985, 0.14148344370860927, 0.25604878048780483, 0.15731843575418997, 0.21870270270270276, 0.24605963302752287, 0.20167741935483874, 0.2387125748502994, 0.177515625, 0.24949186991869918, 0.18917441860465117, 0.22508896797153025, 0.09785454545454546, 0.38543103448275867, 0.0, 0.2150909090909091, 0.1773896103896104, 0.15151515151515152, 0.19249999999999998, 0.2189655172413793, 0.26708064516129026, 0.24463473053892215, 0.43524534161490674, 0.19271144278606964, 0.28869310344827587, 0.4346747967479675, 0.14430252100840335, 0.09680916030534352, 0.20718045112781955, 0.21465277777777778, 0.3044025157232705, 0.2798907103825136, 0.1860697674418605, 0.17140594059405945, 0.1142857142857143, null, 0.11712765957446811, 0.17544600938967136, 0.1963798449612403, 0.0903896103896104, 0.391875, 0.2550302013422819, 0.1972727272727273, 0.12579787234042553, 0.02641509433962264, 0.1844, 0.08259090909090909, 0.2562857142857143, 0.15850202429149798, 0.09106122448979591, 0.328125, 0.17952380952380956, 0.16402185792349724, 0.31772, 0.26107142857142857, 0.09856000000000001, 0.14545945945945943, 0.2198984771573604, 0.26176315789473686, 0.27477333333333337, 0.1419753086419753, 0.17268292682926828, 0.22229239766081868, 0.19707216494845362, 0.3679777777777778, 0.40447508305647845, 0.20952879581151834, 0.16496894409937887, 0.08243999999999999, 0.26950819672131143, 0.28708810572687227, 0.30240837696335077, 0.36370348837209304, 0.14497183098591548, 0.1523921568627451, 0.23888262910798125, 0.026595744680851064, 0.22780851063829785, 0.3068266666666667, 0.14582608695652174, 0.32343034055727554, 0.15420774647887325, 0.26693333333333336, 0.14987755102040815, 0.1998888888888889, 0.5273125000000001, 0.24131847133757964, 0.19164948453608247, 0.216996, 0.29632926829268297, 0.14989655172413793, 0.2062333333333333, 0.2198230088495575, 0.2062025316455696, 0.22888212927756652, 0.19603361344537812, 0.24904761904761905, 0.19966956521739132, 0.0, 0.260781954887218, 0.28749456521739136, 0.0, 0.11247499999999999, 0.1456039603960396, 0.13902403846153844, 0.27483221476510067, 0.23516417910447762, 0.11083561643835617, 0.3075, 0.14259541984732826, 0.16477599999999998, 0.16153846153846152, 0.24256153846153847, 0.25097837837837833, 0.12275257731958764, 0.0, 0.17833333333333334, 0.2012925170068027, 0.28022898550724634, 0.05098039215686275, 0.31854054054054054, 0.31087786259541983, 0.04575342465753424, 0.10085185185185185, 0.266304347826087, 0.18899999999999997, 0.21299159663865547, 0.16875, 0.30724528301886794, 0.12302013422818792, 0.16425992779783394, 0.1212808988764045, 0.10994594594594595, 0.26131764705882354, 0.1976325301204819, 0.1759259259259259, 0.5962962962962962, 0.1602152466367713, 0.21767241379310345, 0.3053571428571428, 0.2667415254237288, 0.24268720379146919, 0.30548242811501597, 0.23375849056603776, 0.3388194444444444, 0.19818965517241377, 0.0, 0.2958, 0.0, 0.1805056179775281, 0.33299242424242426, 0.2601818181818182, 0.22026058631921827, 0.1877991452991453, 0.2241170886075949, 0.22043386243386245, 0.2948166666666667, 0.10470796460176988, 0.12783732057416267, 0.14051851851851851, 0.3102327586206896, 0.0, 0.16693658536585365, 0.36200000000000004, 0.276014598540146, 0.2684302325581395, 0.19318354430379747, 0.3852461059190031, 0.3361503067484662, 0.2929166666666667, 0.0, 0.19396946564885495, 0.21863052208835343, 0.16716955017301038, 0.14351851851851852, 0.32606451612903226, 0.16715730337078652, 0.10149056603773586, 0.3258666666666667, 0.19964363636363636, 0.08653846153846152, 0.08876756756756757, 0.34369577464788736, 0.24089333333333332, 0.27335754189944134, 0.19278139534883726, 0.22824242424242422, 0.19980000000000003, 0.13193037974683544, 0.19958015267175575, 0.0652826086956522, 0.1666187050359712, 0.21120441988950275, 0.5379032258064516, 0.15599999999999997, 0.10606060606060606, 0.13646616541353382, 0.356728323699422, 0.23598561151079137, 0.163625, 0.17777580071174376, 0.23406302521008404, 0.26406926406926406, 0.12027272727272728, 0.2987628865979382, 0.2070198675496689, 0.1246102564102564, 0.11514285714285713, 0.025824175824175823, 0.1533264248704663, 0.13288038277511963, 0.4690265486725663, 0.206745, 0.3067355371900827, 0.11558139534883721, 0.10525000000000001, 0.09325, 0.20929054054054055, 0.04085714285714286, 0.34332319391634986, 0.253, 0.17073913043478264, 0.0, 0.24728491620111734, 0.09159420289855072, 0.19064999999999996, 0.5557142857142857, 0.30805214723926383, 0.21788333333333332, 0.31086387434554974, 0.3573857142857143, 0.19144137931034486, 0.3466666666666666, 0.08321739130434783, 0.13681250000000003, 0.056818181818181816, 0.16414507772020723, 0.3273938461538461, 0.2125940594059406, 0.14280645161290323, 0.14312359550561798, 0.0, 0.0, 0.0, 0.37917827298050144, 0.2445581395348837, 0.22439834024896266, 0.3233961661341853, 0.324057636887608, 0.29504166666666665, 0.2079357142857143, 0.01845161290322581, 0.10567307692307693, 0.1665040650406504, 0.07327354260089686, 0.30379522184300345, 0.18773604060913707, 0.11091891891891892, 0.475973063973064, 0.16533333333333336, 0.145134375, 0.37953271028037383, 0.1772857142857143, null, 0.21179116465863454, 0.43519546742209636, 0.2604415584415584]}],\n",
       "                        {\"template\": {\"data\": {\"bar\": [{\"error_x\": {\"color\": \"#2a3f5f\"}, \"error_y\": {\"color\": \"#2a3f5f\"}, \"marker\": {\"line\": {\"color\": \"#E5ECF6\", \"width\": 0.5}}, \"type\": \"bar\"}], \"barpolar\": [{\"marker\": {\"line\": {\"color\": \"#E5ECF6\", \"width\": 0.5}}, \"type\": \"barpolar\"}], \"carpet\": [{\"aaxis\": {\"endlinecolor\": \"#2a3f5f\", \"gridcolor\": \"white\", \"linecolor\": \"white\", \"minorgridcolor\": \"white\", \"startlinecolor\": \"#2a3f5f\"}, \"baxis\": {\"endlinecolor\": \"#2a3f5f\", \"gridcolor\": \"white\", \"linecolor\": \"white\", \"minorgridcolor\": \"white\", \"startlinecolor\": \"#2a3f5f\"}, \"type\": \"carpet\"}], \"choropleth\": [{\"colorbar\": {\"outlinewidth\": 0, \"ticks\": \"\"}, \"type\": \"choropleth\"}], \"contour\": [{\"colorbar\": {\"outlinewidth\": 0, \"ticks\": \"\"}, \"colorscale\": [[0.0, \"#0d0887\"], [0.1111111111111111, \"#46039f\"], [0.2222222222222222, \"#7201a8\"], [0.3333333333333333, \"#9c179e\"], [0.4444444444444444, \"#bd3786\"], [0.5555555555555556, \"#d8576b\"], [0.6666666666666666, \"#ed7953\"], [0.7777777777777778, \"#fb9f3a\"], [0.8888888888888888, \"#fdca26\"], [1.0, \"#f0f921\"]], \"type\": \"contour\"}], \"contourcarpet\": [{\"colorbar\": {\"outlinewidth\": 0, \"ticks\": \"\"}, \"type\": \"contourcarpet\"}], \"heatmap\": [{\"colorbar\": {\"outlinewidth\": 0, \"ticks\": \"\"}, \"colorscale\": [[0.0, \"#0d0887\"], [0.1111111111111111, \"#46039f\"], [0.2222222222222222, \"#7201a8\"], [0.3333333333333333, \"#9c179e\"], [0.4444444444444444, \"#bd3786\"], [0.5555555555555556, \"#d8576b\"], [0.6666666666666666, \"#ed7953\"], [0.7777777777777778, \"#fb9f3a\"], [0.8888888888888888, \"#fdca26\"], [1.0, \"#f0f921\"]], \"type\": \"heatmap\"}], \"heatmapgl\": [{\"colorbar\": {\"outlinewidth\": 0, \"ticks\": \"\"}, \"colorscale\": [[0.0, \"#0d0887\"], [0.1111111111111111, \"#46039f\"], [0.2222222222222222, \"#7201a8\"], [0.3333333333333333, \"#9c179e\"], [0.4444444444444444, \"#bd3786\"], [0.5555555555555556, \"#d8576b\"], [0.6666666666666666, \"#ed7953\"], [0.7777777777777778, \"#fb9f3a\"], [0.8888888888888888, \"#fdca26\"], [1.0, \"#f0f921\"]], \"type\": \"heatmapgl\"}], \"histogram\": [{\"marker\": {\"colorbar\": {\"outlinewidth\": 0, \"ticks\": \"\"}}, \"type\": \"histogram\"}], \"histogram2d\": [{\"colorbar\": {\"outlinewidth\": 0, \"ticks\": \"\"}, \"colorscale\": [[0.0, \"#0d0887\"], [0.1111111111111111, \"#46039f\"], [0.2222222222222222, \"#7201a8\"], [0.3333333333333333, \"#9c179e\"], [0.4444444444444444, \"#bd3786\"], [0.5555555555555556, \"#d8576b\"], [0.6666666666666666, \"#ed7953\"], [0.7777777777777778, \"#fb9f3a\"], [0.8888888888888888, \"#fdca26\"], [1.0, \"#f0f921\"]], \"type\": \"histogram2d\"}], \"histogram2dcontour\": [{\"colorbar\": {\"outlinewidth\": 0, \"ticks\": \"\"}, \"colorscale\": [[0.0, \"#0d0887\"], [0.1111111111111111, \"#46039f\"], [0.2222222222222222, \"#7201a8\"], [0.3333333333333333, \"#9c179e\"], [0.4444444444444444, \"#bd3786\"], [0.5555555555555556, \"#d8576b\"], [0.6666666666666666, \"#ed7953\"], [0.7777777777777778, \"#fb9f3a\"], [0.8888888888888888, \"#fdca26\"], [1.0, \"#f0f921\"]], \"type\": \"histogram2dcontour\"}], \"mesh3d\": [{\"colorbar\": {\"outlinewidth\": 0, \"ticks\": \"\"}, \"type\": \"mesh3d\"}], \"parcoords\": [{\"line\": {\"colorbar\": {\"outlinewidth\": 0, \"ticks\": \"\"}}, \"type\": \"parcoords\"}], \"pie\": [{\"automargin\": true, \"type\": \"pie\"}], \"scatter\": [{\"marker\": {\"colorbar\": {\"outlinewidth\": 0, \"ticks\": \"\"}}, \"type\": \"scatter\"}], \"scatter3d\": [{\"line\": {\"colorbar\": {\"outlinewidth\": 0, \"ticks\": \"\"}}, \"marker\": {\"colorbar\": {\"outlinewidth\": 0, \"ticks\": \"\"}}, \"type\": \"scatter3d\"}], \"scattercarpet\": [{\"marker\": {\"colorbar\": {\"outlinewidth\": 0, \"ticks\": \"\"}}, \"type\": \"scattercarpet\"}], \"scattergeo\": [{\"marker\": {\"colorbar\": {\"outlinewidth\": 0, \"ticks\": \"\"}}, \"type\": \"scattergeo\"}], \"scattergl\": [{\"marker\": {\"colorbar\": {\"outlinewidth\": 0, \"ticks\": \"\"}}, \"type\": \"scattergl\"}], \"scattermapbox\": [{\"marker\": {\"colorbar\": {\"outlinewidth\": 0, \"ticks\": \"\"}}, \"type\": \"scattermapbox\"}], \"scatterpolar\": [{\"marker\": {\"colorbar\": {\"outlinewidth\": 0, \"ticks\": \"\"}}, \"type\": \"scatterpolar\"}], \"scatterpolargl\": [{\"marker\": {\"colorbar\": {\"outlinewidth\": 0, \"ticks\": \"\"}}, \"type\": \"scatterpolargl\"}], \"scatterternary\": [{\"marker\": {\"colorbar\": {\"outlinewidth\": 0, \"ticks\": \"\"}}, \"type\": \"scatterternary\"}], \"surface\": [{\"colorbar\": {\"outlinewidth\": 0, \"ticks\": \"\"}, \"colorscale\": [[0.0, \"#0d0887\"], [0.1111111111111111, \"#46039f\"], [0.2222222222222222, \"#7201a8\"], [0.3333333333333333, \"#9c179e\"], [0.4444444444444444, \"#bd3786\"], [0.5555555555555556, \"#d8576b\"], [0.6666666666666666, \"#ed7953\"], [0.7777777777777778, \"#fb9f3a\"], [0.8888888888888888, \"#fdca26\"], [1.0, \"#f0f921\"]], \"type\": \"surface\"}], \"table\": [{\"cells\": {\"fill\": {\"color\": \"#EBF0F8\"}, \"line\": {\"color\": \"white\"}}, \"header\": {\"fill\": {\"color\": \"#C8D4E3\"}, \"line\": {\"color\": \"white\"}}, \"type\": \"table\"}]}, \"layout\": {\"annotationdefaults\": {\"arrowcolor\": \"#2a3f5f\", \"arrowhead\": 0, \"arrowwidth\": 1}, \"coloraxis\": {\"colorbar\": {\"outlinewidth\": 0, \"ticks\": \"\"}}, \"colorscale\": {\"diverging\": [[0, \"#8e0152\"], [0.1, \"#c51b7d\"], [0.2, \"#de77ae\"], [0.3, \"#f1b6da\"], [0.4, \"#fde0ef\"], [0.5, \"#f7f7f7\"], [0.6, \"#e6f5d0\"], [0.7, \"#b8e186\"], [0.8, \"#7fbc41\"], [0.9, \"#4d9221\"], [1, \"#276419\"]], \"sequential\": [[0.0, \"#0d0887\"], [0.1111111111111111, \"#46039f\"], [0.2222222222222222, \"#7201a8\"], [0.3333333333333333, \"#9c179e\"], [0.4444444444444444, \"#bd3786\"], [0.5555555555555556, \"#d8576b\"], [0.6666666666666666, \"#ed7953\"], [0.7777777777777778, \"#fb9f3a\"], [0.8888888888888888, \"#fdca26\"], [1.0, \"#f0f921\"]], \"sequentialminus\": [[0.0, \"#0d0887\"], [0.1111111111111111, \"#46039f\"], [0.2222222222222222, \"#7201a8\"], [0.3333333333333333, \"#9c179e\"], [0.4444444444444444, \"#bd3786\"], [0.5555555555555556, \"#d8576b\"], [0.6666666666666666, \"#ed7953\"], [0.7777777777777778, \"#fb9f3a\"], [0.8888888888888888, \"#fdca26\"], [1.0, \"#f0f921\"]]}, \"colorway\": [\"#636efa\", \"#EF553B\", \"#00cc96\", \"#ab63fa\", \"#FFA15A\", \"#19d3f3\", \"#FF6692\", \"#B6E880\", \"#FF97FF\", \"#FECB52\"], \"font\": {\"color\": \"#2a3f5f\"}, \"geo\": {\"bgcolor\": \"white\", \"lakecolor\": \"white\", \"landcolor\": \"#E5ECF6\", \"showlakes\": true, \"showland\": true, \"subunitcolor\": \"white\"}, \"hoverlabel\": {\"align\": \"left\"}, \"hovermode\": \"closest\", \"mapbox\": {\"style\": \"light\"}, \"paper_bgcolor\": \"white\", \"plot_bgcolor\": \"#E5ECF6\", \"polar\": {\"angularaxis\": {\"gridcolor\": \"white\", \"linecolor\": \"white\", \"ticks\": \"\"}, \"bgcolor\": \"#E5ECF6\", \"radialaxis\": {\"gridcolor\": \"white\", \"linecolor\": \"white\", \"ticks\": \"\"}}, \"scene\": {\"xaxis\": {\"backgroundcolor\": \"#E5ECF6\", \"gridcolor\": \"white\", \"gridwidth\": 2, \"linecolor\": \"white\", \"showbackground\": true, \"ticks\": \"\", \"zerolinecolor\": \"white\"}, \"yaxis\": {\"backgroundcolor\": \"#E5ECF6\", \"gridcolor\": \"white\", \"gridwidth\": 2, \"linecolor\": \"white\", \"showbackground\": true, \"ticks\": \"\", \"zerolinecolor\": \"white\"}, \"zaxis\": {\"backgroundcolor\": \"#E5ECF6\", \"gridcolor\": \"white\", \"gridwidth\": 2, \"linecolor\": \"white\", \"showbackground\": true, \"ticks\": \"\", \"zerolinecolor\": \"white\"}}, \"shapedefaults\": {\"line\": {\"color\": \"#2a3f5f\"}}, \"ternary\": {\"aaxis\": {\"gridcolor\": \"white\", \"linecolor\": \"white\", \"ticks\": \"\"}, \"baxis\": {\"gridcolor\": \"white\", \"linecolor\": \"white\", \"ticks\": \"\"}, \"bgcolor\": \"#E5ECF6\", \"caxis\": {\"gridcolor\": \"white\", \"linecolor\": \"white\", \"ticks\": \"\"}}, \"title\": {\"x\": 0.05}, \"xaxis\": {\"automargin\": true, \"gridcolor\": \"white\", \"linecolor\": \"white\", \"ticks\": \"\", \"title\": {\"standoff\": 15}, \"zerolinecolor\": \"white\", \"zerolinewidth\": 2}, \"yaxis\": {\"automargin\": true, \"gridcolor\": \"white\", \"linecolor\": \"white\", \"ticks\": \"\", \"title\": {\"standoff\": 15}, \"zerolinecolor\": \"white\", \"zerolinewidth\": 2}}}, \"title\": {\"text\": \"Scoring Efficiency and Total Games Played\"}},\n",
       "                        {\"responsive\": true}\n",
       "                    ).then(function(){\n",
       "                            \n",
       "var gd = document.getElementById('1882097e-8002-4143-93aa-282662d3ed90');\n",
       "var x = new MutationObserver(function (mutations, observer) {{\n",
       "        var display = window.getComputedStyle(gd).display;\n",
       "        if (!display || display === 'none') {{\n",
       "            console.log([gd, 'removed!']);\n",
       "            Plotly.purge(gd);\n",
       "            observer.disconnect();\n",
       "        }}\n",
       "}});\n",
       "\n",
       "// Listen for the removal of the full notebook cells\n",
       "var notebookContainer = gd.closest('#notebook-container');\n",
       "if (notebookContainer) {{\n",
       "    x.observe(notebookContainer, {childList: true});\n",
       "}}\n",
       "\n",
       "// Listen for the clearing of the current output cell\n",
       "var outputEl = gd.closest('.output');\n",
       "if (outputEl) {{\n",
       "    x.observe(outputEl, {childList: true});\n",
       "}}\n",
       "\n",
       "                        })\n",
       "                };\n",
       "                });\n",
       "            </script>\n",
       "        </div>"
      ]
     },
     "metadata": {},
     "output_type": "display_data"
    }
   ],
   "source": [
    "import plotly.graph_objects as go\n",
    "fig3= go.Figure(data=go.Scatter(x=df['GP'], y=df['Scoring Efficiency'],mode='markers',\n",
    "                                hovertext= df['Player Name'],marker_color='red'))\n",
    "fig3.update_layout(title='Scoring Efficiency and Total Games Played')\n",
    "fig3.show()"
   ]
  },
  {
   "cell_type": "code",
   "execution_count": null,
   "metadata": {},
   "outputs": [],
   "source": []
  },
  {
   "cell_type": "code",
   "execution_count": null,
   "metadata": {},
   "outputs": [],
   "source": []
  }
 ],
 "metadata": {
  "kernelspec": {
   "display_name": "Python 3",
   "language": "python",
   "name": "python3"
  },
  "language_info": {
   "codemirror_mode": {
    "name": "ipython",
    "version": 3
   },
   "file_extension": ".py",
   "mimetype": "text/x-python",
   "name": "python",
   "nbconvert_exporter": "python",
   "pygments_lexer": "ipython3",
   "version": "3.7.3"
  }
 },
 "nbformat": 4,
 "nbformat_minor": 4
}
